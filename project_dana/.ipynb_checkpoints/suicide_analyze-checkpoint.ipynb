{
 "cells": [
  {
   "cell_type": "markdown",
   "metadata": {
    "_uuid": "adfee15d3e3642fa8c1574bb5ff0951826b481ea"
   },
   "source": [
    "# **АНАЛИЗ ДАННЫХ МИРОВОЙ СТАТИСТИКИ САМОУБИЙСТВ**\n",
    "Набор данных, который мы рассмотрим, был создан путем распределения числа людей, совершивших самоубийство в период с 1979 по 2015 год в 141 стране, по полу и возрастным группам.\n",
    "Наша цель — проанализировать данные путем визуализации этого набора данных и оценить количество самоубийств в ближайшие годы с помощью алгоритмов машинного обучения."
   ]
  },
  {
   "cell_type": "markdown",
   "metadata": {
    "_uuid": "f9b2d4fdcd29d4b589579780fcb53dc0ca712834"
   },
   "source": [
    "> # **ПРЕДВАРИТЕЛЬНАЯ ОБРАБОТКА ДАННЫХ**"
   ]
  },
  {
   "cell_type": "code",
   "execution_count": 236,
   "metadata": {
    "_cell_guid": "b1076dfc-b9ad-4769-8c92-a6c4dae69d19",
    "_kg_hide-output": false,
    "_uuid": "8f2839f25d086af736a60e9eeb907d3b93b6e0e5"
   },
   "outputs": [],
   "source": [
    "# Мы вызываем наши библиотеки\n",
    "import pandas as pd # Функция pandas нам нужно чтобы прочитать и сгруппировать наши данные\n",
    "import numpy as np  # Функция Для numpy нам нужна для выполнения числовых операций с нашими данными \n",
    "# Для визуализации наших данных: matplot и seaborn\n",
    "import matplotlib.pyplot as plt \n",
    "import seaborn as sns"
   ]
  },
  {
   "cell_type": "code",
   "execution_count": 237,
   "metadata": {
    "_uuid": "b5f0222d0d48c45b01c3858698db35780575786a"
   },
   "outputs": [],
   "source": [
    "# Читаем данные, которые будем использовать\n",
    "df = pd.read_csv(\"statistics.csv\")"
   ]
  },
  {
   "cell_type": "code",
   "execution_count": 238,
   "metadata": {
    "_cell_guid": "79c7e3d0-c299-4dcb-8224-4455121ee9b0",
    "_uuid": "d629ff2d2480ee46fbb7e2d37f6b5fab8052498a"
   },
   "outputs": [
    {
     "data": {
      "text/html": [
       "<div>\n",
       "<style scoped>\n",
       "    .dataframe tbody tr th:only-of-type {\n",
       "        vertical-align: middle;\n",
       "    }\n",
       "\n",
       "    .dataframe tbody tr th {\n",
       "        vertical-align: top;\n",
       "    }\n",
       "\n",
       "    .dataframe thead th {\n",
       "        text-align: right;\n",
       "    }\n",
       "</style>\n",
       "<table border=\"1\" class=\"dataframe\">\n",
       "  <thead>\n",
       "    <tr style=\"text-align: right;\">\n",
       "      <th></th>\n",
       "      <th>country</th>\n",
       "      <th>year</th>\n",
       "      <th>sex</th>\n",
       "      <th>age</th>\n",
       "      <th>suicides_no</th>\n",
       "      <th>population</th>\n",
       "    </tr>\n",
       "  </thead>\n",
       "  <tbody>\n",
       "    <tr>\n",
       "      <th>0</th>\n",
       "      <td>Albania</td>\n",
       "      <td>1985</td>\n",
       "      <td>female</td>\n",
       "      <td>15-24 years</td>\n",
       "      <td>NaN</td>\n",
       "      <td>277900.0</td>\n",
       "    </tr>\n",
       "    <tr>\n",
       "      <th>1</th>\n",
       "      <td>Albania</td>\n",
       "      <td>1985</td>\n",
       "      <td>female</td>\n",
       "      <td>25-34 years</td>\n",
       "      <td>NaN</td>\n",
       "      <td>246800.0</td>\n",
       "    </tr>\n",
       "    <tr>\n",
       "      <th>2</th>\n",
       "      <td>Albania</td>\n",
       "      <td>1985</td>\n",
       "      <td>female</td>\n",
       "      <td>35-54 years</td>\n",
       "      <td>NaN</td>\n",
       "      <td>267500.0</td>\n",
       "    </tr>\n",
       "    <tr>\n",
       "      <th>3</th>\n",
       "      <td>Albania</td>\n",
       "      <td>1985</td>\n",
       "      <td>female</td>\n",
       "      <td>5-14 years</td>\n",
       "      <td>NaN</td>\n",
       "      <td>298300.0</td>\n",
       "    </tr>\n",
       "    <tr>\n",
       "      <th>4</th>\n",
       "      <td>Albania</td>\n",
       "      <td>1985</td>\n",
       "      <td>female</td>\n",
       "      <td>55-74 years</td>\n",
       "      <td>NaN</td>\n",
       "      <td>138700.0</td>\n",
       "    </tr>\n",
       "  </tbody>\n",
       "</table>\n",
       "</div>"
      ],
      "text/plain": [
       "   country  year     sex          age  suicides_no  population\n",
       "0  Albania  1985  female  15-24 years          NaN    277900.0\n",
       "1  Albania  1985  female  25-34 years          NaN    246800.0\n",
       "2  Albania  1985  female  35-54 years          NaN    267500.0\n",
       "3  Albania  1985  female   5-14 years          NaN    298300.0\n",
       "4  Albania  1985  female  55-74 years          NaN    138700.0"
      ]
     },
     "execution_count": 238,
     "metadata": {},
     "output_type": "execute_result"
    }
   ],
   "source": [
    "# Проверяем первые 5 значений нашего набора данных\n",
    "df.head(5)"
   ]
  },
  {
   "cell_type": "code",
   "execution_count": 239,
   "metadata": {
    "_uuid": "385f0d5cefea76dc9f1622bd832e29182a000398"
   },
   "outputs": [
    {
     "data": {
      "text/html": [
       "<div>\n",
       "<style scoped>\n",
       "    .dataframe tbody tr th:only-of-type {\n",
       "        vertical-align: middle;\n",
       "    }\n",
       "\n",
       "    .dataframe tbody tr th {\n",
       "        vertical-align: top;\n",
       "    }\n",
       "\n",
       "    .dataframe thead th {\n",
       "        text-align: right;\n",
       "    }\n",
       "</style>\n",
       "<table border=\"1\" class=\"dataframe\">\n",
       "  <thead>\n",
       "    <tr style=\"text-align: right;\">\n",
       "      <th></th>\n",
       "      <th>country</th>\n",
       "      <th>year</th>\n",
       "      <th>sex</th>\n",
       "      <th>age</th>\n",
       "      <th>suicides_no</th>\n",
       "      <th>population</th>\n",
       "    </tr>\n",
       "  </thead>\n",
       "  <tbody>\n",
       "    <tr>\n",
       "      <th>43771</th>\n",
       "      <td>Zimbabwe</td>\n",
       "      <td>1990</td>\n",
       "      <td>male</td>\n",
       "      <td>25-34 years</td>\n",
       "      <td>150.0</td>\n",
       "      <td>NaN</td>\n",
       "    </tr>\n",
       "    <tr>\n",
       "      <th>43772</th>\n",
       "      <td>Zimbabwe</td>\n",
       "      <td>1990</td>\n",
       "      <td>male</td>\n",
       "      <td>35-54 years</td>\n",
       "      <td>132.0</td>\n",
       "      <td>NaN</td>\n",
       "    </tr>\n",
       "    <tr>\n",
       "      <th>43773</th>\n",
       "      <td>Zimbabwe</td>\n",
       "      <td>1990</td>\n",
       "      <td>male</td>\n",
       "      <td>5-14 years</td>\n",
       "      <td>6.0</td>\n",
       "      <td>NaN</td>\n",
       "    </tr>\n",
       "    <tr>\n",
       "      <th>43774</th>\n",
       "      <td>Zimbabwe</td>\n",
       "      <td>1990</td>\n",
       "      <td>male</td>\n",
       "      <td>55-74 years</td>\n",
       "      <td>74.0</td>\n",
       "      <td>NaN</td>\n",
       "    </tr>\n",
       "    <tr>\n",
       "      <th>43775</th>\n",
       "      <td>Zimbabwe</td>\n",
       "      <td>1990</td>\n",
       "      <td>male</td>\n",
       "      <td>75+ years</td>\n",
       "      <td>13.0</td>\n",
       "      <td>NaN</td>\n",
       "    </tr>\n",
       "  </tbody>\n",
       "</table>\n",
       "</div>"
      ],
      "text/plain": [
       "        country  year   sex          age  suicides_no  population\n",
       "43771  Zimbabwe  1990  male  25-34 years        150.0         NaN\n",
       "43772  Zimbabwe  1990  male  35-54 years        132.0         NaN\n",
       "43773  Zimbabwe  1990  male   5-14 years          6.0         NaN\n",
       "43774  Zimbabwe  1990  male  55-74 years         74.0         NaN\n",
       "43775  Zimbabwe  1990  male    75+ years         13.0         NaN"
      ]
     },
     "execution_count": 239,
     "metadata": {},
     "output_type": "execute_result"
    }
   ],
   "source": [
    "# Проверяем последние 5 значений нашего набора данных\n",
    "df.tail()"
   ]
  },
  {
   "cell_type": "code",
   "execution_count": 240,
   "metadata": {
    "_uuid": "689282d9377df535c7e63d7b6abf250fd057cdf9"
   },
   "outputs": [
    {
     "data": {
      "text/plain": [
       "(43776, 6)"
      ]
     },
     "execution_count": 240,
     "metadata": {},
     "output_type": "execute_result"
    }
   ],
   "source": [
    "# Мы смотрим на количество строк и количество атрибутов в нашем наборе данных\n",
    "df.shape"
   ]
  },
  {
   "cell_type": "code",
   "execution_count": 241,
   "metadata": {
    "_uuid": "4c144d3e6cbe667ea8f62419fcd45a43c12c33ce"
   },
   "outputs": [
    {
     "name": "stdout",
     "output_type": "stream",
     "text": [
      "<class 'pandas.core.frame.DataFrame'>\n",
      "RangeIndex: 43776 entries, 0 to 43775\n",
      "Data columns (total 6 columns):\n",
      " #   Column       Non-Null Count  Dtype  \n",
      "---  ------       --------------  -----  \n",
      " 0   country      43776 non-null  object \n",
      " 1   year         43776 non-null  int64  \n",
      " 2   sex          43776 non-null  object \n",
      " 3   age          43776 non-null  object \n",
      " 4   suicides_no  41520 non-null  float64\n",
      " 5   population   38316 non-null  float64\n",
      "dtypes: float64(2), int64(1), object(3)\n",
      "memory usage: 2.0+ MB\n"
     ]
    }
   ],
   "source": [
    "# Наблюдаем за нашими столбцами и типами данных\n",
    "df.info()"
   ]
  },
  {
   "cell_type": "code",
   "execution_count": 242,
   "metadata": {
    "_uuid": "b7bec08ca3b597beb5b3f15a5b8f81a14283e596"
   },
   "outputs": [
    {
     "data": {
      "text/html": [
       "<div>\n",
       "<style scoped>\n",
       "    .dataframe tbody tr th:only-of-type {\n",
       "        vertical-align: middle;\n",
       "    }\n",
       "\n",
       "    .dataframe tbody tr th {\n",
       "        vertical-align: top;\n",
       "    }\n",
       "\n",
       "    .dataframe thead th {\n",
       "        text-align: right;\n",
       "    }\n",
       "</style>\n",
       "<table border=\"1\" class=\"dataframe\">\n",
       "  <thead>\n",
       "    <tr style=\"text-align: right;\">\n",
       "      <th></th>\n",
       "      <th>year</th>\n",
       "      <th>suicides_no</th>\n",
       "      <th>population</th>\n",
       "    </tr>\n",
       "  </thead>\n",
       "  <tbody>\n",
       "    <tr>\n",
       "      <th>count</th>\n",
       "      <td>43776.000000</td>\n",
       "      <td>41520.000000</td>\n",
       "      <td>3.831600e+04</td>\n",
       "    </tr>\n",
       "    <tr>\n",
       "      <th>mean</th>\n",
       "      <td>1998.502467</td>\n",
       "      <td>193.315390</td>\n",
       "      <td>1.664091e+06</td>\n",
       "    </tr>\n",
       "    <tr>\n",
       "      <th>std</th>\n",
       "      <td>10.338711</td>\n",
       "      <td>800.589926</td>\n",
       "      <td>3.647231e+06</td>\n",
       "    </tr>\n",
       "    <tr>\n",
       "      <th>min</th>\n",
       "      <td>1979.000000</td>\n",
       "      <td>0.000000</td>\n",
       "      <td>2.590000e+02</td>\n",
       "    </tr>\n",
       "    <tr>\n",
       "      <th>25%</th>\n",
       "      <td>1990.000000</td>\n",
       "      <td>1.000000</td>\n",
       "      <td>8.511275e+04</td>\n",
       "    </tr>\n",
       "    <tr>\n",
       "      <th>50%</th>\n",
       "      <td>1999.000000</td>\n",
       "      <td>14.000000</td>\n",
       "      <td>3.806550e+05</td>\n",
       "    </tr>\n",
       "    <tr>\n",
       "      <th>75%</th>\n",
       "      <td>2007.000000</td>\n",
       "      <td>91.000000</td>\n",
       "      <td>1.305698e+06</td>\n",
       "    </tr>\n",
       "    <tr>\n",
       "      <th>max</th>\n",
       "      <td>2016.000000</td>\n",
       "      <td>22338.000000</td>\n",
       "      <td>4.380521e+07</td>\n",
       "    </tr>\n",
       "  </tbody>\n",
       "</table>\n",
       "</div>"
      ],
      "text/plain": [
       "               year   suicides_no    population\n",
       "count  43776.000000  41520.000000  3.831600e+04\n",
       "mean    1998.502467    193.315390  1.664091e+06\n",
       "std       10.338711    800.589926  3.647231e+06\n",
       "min     1979.000000      0.000000  2.590000e+02\n",
       "25%     1990.000000      1.000000  8.511275e+04\n",
       "50%     1999.000000     14.000000  3.806550e+05\n",
       "75%     2007.000000     91.000000  1.305698e+06\n",
       "max     2016.000000  22338.000000  4.380521e+07"
      ]
     },
     "execution_count": 242,
     "metadata": {},
     "output_type": "execute_result"
    }
   ],
   "source": [
    "# Смотрим на наши числовые значения\n",
    "df.describe()"
   ]
  },
  {
   "cell_type": "code",
   "execution_count": 243,
   "metadata": {
    "_uuid": "2c518766378aa2a46b1f253a6d21303f3369e76e"
   },
   "outputs": [
    {
     "data": {
      "text/plain": [
       "<AxesSubplot:>"
      ]
     },
     "execution_count": 243,
     "metadata": {},
     "output_type": "execute_result"
    },
    {
     "data": {
      "image/png": "[encoded data removed]",
      "text/plain": [
       "<Figure size 640x480 with 2 Axes>"
      ]
     },
     "metadata": {},
     "output_type": "display_data"
    }
   ],
   "source": [
    "# Мы наблюдаем статус корреляции наших данных\n",
    "sns.heatmap(df.corr())"
   ]
  },
  {
   "cell_type": "markdown",
   "metadata": {
    "_uuid": "77c855d8ac300d6f19e31266302aaf03cbe72e87"
   },
   "source": [
    "**** Мы не можем получить представление о статусе корреляции наших данных, как сейчас. Поскольку числовые столбцы не возвращают информацию о двух и четких значениях.**\n"
   ]
  },
  {
   "cell_type": "code",
   "execution_count": 244,
   "metadata": {
    "_uuid": "a4f92d1276140d487fb514858306df080e2b3ceb"
   },
   "outputs": [
    {
     "data": {
      "text/plain": [
       "country           0\n",
       "year              0\n",
       "sex               0\n",
       "age               0\n",
       "suicides_no    2256\n",
       "population     5460\n",
       "dtype: int64"
      ]
     },
     "execution_count": 244,
     "metadata": {},
     "output_type": "execute_result"
    }
   ],
   "source": [
    "# Проверяем общее количество нулей в наших данных\n",
    "df.isnull().sum()"
   ]
  },
  {
   "cell_type": "markdown",
   "metadata": {
    "_uuid": "135d1a264c214d1c0fe0640b76b6b7ddcb9c414f"
   },
   "source": [
    "В ходе изучения нашего набора данных, мы заметили, что наши недостающие данные распределены по определенным странам и определенным годам.\n",
    "\n",
    "Мы думаем что очистка потерянных данных будет лучшим решением, так как это не будет огромной потерей по сравнению с общим объемом данных.\n",
    "\n",
    "В визуализации мы не включили столбец населения.\n",
    "\n",
    "Таким образом, если мы сначала удалим столбец населения, а затем очистим недостающие данные, будет удалено гораздо меньше данных.\n"
   ]
  },
  {
   "cell_type": "code",
   "execution_count": 245,
   "metadata": {
    "_uuid": "85e4c3cd3204565d880968f00e3f276c9a92af22",
    "scrolled": true
   },
   "outputs": [],
   "source": [
    "# Мы удаляем нашу колонку населения. Мы вызовем его когда это будет необходимо.\n",
    "df.drop([\"population\"], axis=1, inplace=True)"
   ]
  },
  {
   "cell_type": "code",
   "execution_count": 246,
   "metadata": {
    "_uuid": "42f24b1df887b801ffb4d2626933172a597ba82a"
   },
   "outputs": [],
   "source": [
    "# Очищаем данные с любым пустым атрибутом\n",
    "df = df.dropna(axis=0, how=\"any\")"
   ]
  },
  {
   "cell_type": "code",
   "execution_count": 247,
   "metadata": {
    "_uuid": "33c6b9759e3193545d17fa91e58342540d0ec2c0"
   },
   "outputs": [
    {
     "data": {
      "text/plain": [
       "country        0\n",
       "year           0\n",
       "sex            0\n",
       "age            0\n",
       "suicides_no    0\n",
       "dtype: int64"
      ]
     },
     "execution_count": 247,
     "metadata": {},
     "output_type": "execute_result"
    }
   ],
   "source": [
    "# Посмотрим, есть ли у нас нулевые значения\n",
    "df.isnull().sum()"
   ]
  },
  {
   "cell_type": "code",
   "execution_count": 248,
   "metadata": {
    "_uuid": "dd2811d440ba31f3e3c2a9c952457b4bb7819b0b"
   },
   "outputs": [],
   "source": [
    "## ВИЗУАЛИЗАЦИЯ ДАННЫХ\n",
    "\n",
    "## Количество самоубийств в мире по годам\n",
    "\n",
    "# Тут мы разделили столбцы для удобства в работе\n",
    "years = df.iloc[:, 1].values.reshape(-1,1)\n",
    "suicides = df.iloc[:, 4].values.reshape(-1,1)"
   ]
  },
  {
   "cell_type": "code",
   "execution_count": 249,
   "metadata": {
    "_uuid": "16c78790219937c996e17a0b6e28d2a3851280f0"
   },
   "outputs": [
    {
     "data": {
      "text/plain": [
       "Text(0, 0.5, 'Частота самоубийств')"
      ]
     },
     "execution_count": 249,
     "metadata": {},
     "output_type": "execute_result"
    },
    {
     "data": {
      "image/png": "[encoded data removed]",
      "text/plain": [
       "<Figure size 2000x1000 with 1 Axes>"
      ]
     },
     "metadata": {},
     "output_type": "display_data"
    }
   ],
   "source": [
    "# Частотный график нам показывает годы, в которых суицид повторяется наиболее часто.\n",
    "plt.figure(figsize=(20,10))\n",
    "plt.hist(years, bins=50)\n",
    "plt.title('Можно сказать, что случаи самоубийств стали более частыми после 2000-х годов')\n",
    "plt.xlabel(\"Годы\")\n",
    "plt.ylabel(\"Частота самоубийств\")"
   ]
  },
  {
   "cell_type": "markdown",
   "metadata": {
    "_uuid": "74a533af175fd8b43ed1a4ab4573c5918136c319"
   },
   "source": [
    "* **Давайте посмотрим на общее количество самоубийств в странах.**"
   ]
  },
  {
   "cell_type": "code",
   "execution_count": 250,
   "metadata": {
    "_uuid": "fa20318e36300c6d97f5ad13ad24f6d50c770323"
   },
   "outputs": [
    {
     "data": {
      "text/html": [
       "<div>\n",
       "<style scoped>\n",
       "    .dataframe tbody tr th:only-of-type {\n",
       "        vertical-align: middle;\n",
       "    }\n",
       "\n",
       "    .dataframe tbody tr th {\n",
       "        vertical-align: top;\n",
       "    }\n",
       "\n",
       "    .dataframe thead th {\n",
       "        text-align: right;\n",
       "    }\n",
       "</style>\n",
       "<table border=\"1\" class=\"dataframe\">\n",
       "  <thead>\n",
       "    <tr style=\"text-align: right;\">\n",
       "      <th></th>\n",
       "      <th>suicides_no</th>\n",
       "      <th>country</th>\n",
       "    </tr>\n",
       "  </thead>\n",
       "  <tbody>\n",
       "    <tr>\n",
       "      <th>0</th>\n",
       "      <td>1970.0</td>\n",
       "      <td>Albania</td>\n",
       "    </tr>\n",
       "    <tr>\n",
       "      <th>1</th>\n",
       "      <td>2.0</td>\n",
       "      <td>Anguilla</td>\n",
       "    </tr>\n",
       "    <tr>\n",
       "      <th>2</th>\n",
       "      <td>11.0</td>\n",
       "      <td>Antigua and Barbuda</td>\n",
       "    </tr>\n",
       "    <tr>\n",
       "      <th>3</th>\n",
       "      <td>93862.0</td>\n",
       "      <td>Argentina</td>\n",
       "    </tr>\n",
       "    <tr>\n",
       "      <th>4</th>\n",
       "      <td>2422.0</td>\n",
       "      <td>Armenia</td>\n",
       "    </tr>\n",
       "    <tr>\n",
       "      <th>...</th>\n",
       "      <td>...</td>\n",
       "      <td>...</td>\n",
       "    </tr>\n",
       "    <tr>\n",
       "      <th>136</th>\n",
       "      <td>14647.0</td>\n",
       "      <td>Uruguay</td>\n",
       "    </tr>\n",
       "    <tr>\n",
       "      <th>137</th>\n",
       "      <td>44063.0</td>\n",
       "      <td>Uzbekistan</td>\n",
       "    </tr>\n",
       "    <tr>\n",
       "      <th>138</th>\n",
       "      <td>29504.0</td>\n",
       "      <td>Venezuela (Bolivarian Republic of)</td>\n",
       "    </tr>\n",
       "    <tr>\n",
       "      <th>139</th>\n",
       "      <td>113.0</td>\n",
       "      <td>Virgin Islands (USA)</td>\n",
       "    </tr>\n",
       "    <tr>\n",
       "      <th>140</th>\n",
       "      <td>764.0</td>\n",
       "      <td>Zimbabwe</td>\n",
       "    </tr>\n",
       "  </tbody>\n",
       "</table>\n",
       "<p>141 rows × 2 columns</p>\n",
       "</div>"
      ],
      "text/plain": [
       "     suicides_no                             country\n",
       "0         1970.0                             Albania\n",
       "1            2.0                            Anguilla\n",
       "2           11.0                 Antigua and Barbuda\n",
       "3        93862.0                           Argentina\n",
       "4         2422.0                             Armenia\n",
       "..           ...                                 ...\n",
       "136      14647.0                             Uruguay\n",
       "137      44063.0                          Uzbekistan\n",
       "138      29504.0  Venezuela (Bolivarian Republic of)\n",
       "139        113.0                Virgin Islands (USA)\n",
       "140        764.0                            Zimbabwe\n",
       "\n",
       "[141 rows x 2 columns]"
      ]
     },
     "execution_count": 250,
     "metadata": {},
     "output_type": "execute_result"
    }
   ],
   "source": [
    "# Общее количество самоубийств в странах\n",
    "c_suicides = pd.DataFrame(df.groupby(\"country\")[\"suicides_no\"].sum())\n",
    "c_suicides['country'] = c_suicides.index\n",
    "c_suicides = c_suicides.reset_index(drop = True)\n",
    "\n",
    "c_suicides # -> country suicides\n",
    "# Данные в таблице основываются на количестве самоубийств"
   ]
  },
  {
   "cell_type": "code",
   "execution_count": 251,
   "metadata": {
    "_uuid": "d40bd5e469e7eb7661a89c1e4e0d9c8c5e3cc578"
   },
   "outputs": [],
   "source": [
    "# Мы упорядочили страны по количеству самоубийств и разделили их на 50 лучших стран\n",
    "data_sort = c_suicides.sort_values(\"suicides_no\", ascending=False)\n",
    "data_sort = data_sort.iloc[:50,:]"
   ]
  },
  {
   "cell_type": "code",
   "execution_count": 252,
   "metadata": {
    "_uuid": "38ab7e5ecd010235b4882c49392f0bac3abf6721"
   },
   "outputs": [
    {
     "data": {
      "text/plain": [
       "Text(0.5, 1.0, 'Самоубийства')"
      ]
     },
     "execution_count": 252,
     "metadata": {},
     "output_type": "execute_result"
    },
    {
     "data": {
      "image/png": "[encoded data removed]",
      "text/plain": [
       "<Figure size 2000x1000 with 1 Axes>"
      ]
     },
     "metadata": {},
     "output_type": "display_data"
    }
   ],
   "source": [
    "# Мы создаем свой образ\n",
    "plt.figure(figsize=(20,10))\n",
    "sns.barplot(x=data_sort.country, y=data_sort.suicides_no)\n",
    "plt.xticks(rotation= 90)\n",
    "plt.xlabel('Страны')\n",
    "plt.ylabel('Общее количество самоубийств')\n",
    "plt.title('Самоубийства')"
   ]
  },
  {
   "cell_type": "markdown",
   "metadata": {
    "_uuid": "7e8c7f17208e87e6640020fd28cfd6a03e80d513"
   },
   "source": [
    "**Проанализировав, и поняв что основными странами с наибольшим количеством самоубийств являются страны с высокой численностью населения. Но, мы не учли соотношение самоубийств к населению.**\n",
    "<br>\n",
    "<br>**Мы изучим соотношение самоубийств и населения**"
   ]
  },
  {
   "cell_type": "markdown",
   "metadata": {
    "_uuid": "2cc59e6f0875958f5083407ceadc82dd961e45f2"
   },
   "source": [
    "* **Рассчитаем общее количество самоубийств в стране и процентное соотношение мужчин и женщин**"
   ]
  },
  {
   "cell_type": "code",
   "execution_count": 253,
   "metadata": {
    "_uuid": "a7eebc26d9b170fb46cdafc884fc4cf3a4bbe605"
   },
   "outputs": [
    {
     "data": {
      "text/html": [
       "<div>\n",
       "<style scoped>\n",
       "    .dataframe tbody tr th:only-of-type {\n",
       "        vertical-align: middle;\n",
       "    }\n",
       "\n",
       "    .dataframe tbody tr th {\n",
       "        vertical-align: top;\n",
       "    }\n",
       "\n",
       "    .dataframe thead th {\n",
       "        text-align: right;\n",
       "    }\n",
       "</style>\n",
       "<table border=\"1\" class=\"dataframe\">\n",
       "  <thead>\n",
       "    <tr style=\"text-align: right;\">\n",
       "      <th></th>\n",
       "      <th>countries</th>\n",
       "    </tr>\n",
       "  </thead>\n",
       "  <tbody>\n",
       "    <tr>\n",
       "      <th>86</th>\n",
       "      <td>New Zealand</td>\n",
       "    </tr>\n",
       "    <tr>\n",
       "      <th>24</th>\n",
       "      <td>Cayman Islands</td>\n",
       "    </tr>\n",
       "    <tr>\n",
       "      <th>55</th>\n",
       "      <td>Iceland</td>\n",
       "    </tr>\n",
       "    <tr>\n",
       "      <th>42</th>\n",
       "      <td>France</td>\n",
       "    </tr>\n",
       "    <tr>\n",
       "      <th>121</th>\n",
       "      <td>Sweden</td>\n",
       "    </tr>\n",
       "    <tr>\n",
       "      <th>8</th>\n",
       "      <td>Azerbaijan</td>\n",
       "    </tr>\n",
       "    <tr>\n",
       "      <th>10</th>\n",
       "      <td>Bahrain</td>\n",
       "    </tr>\n",
       "    <tr>\n",
       "      <th>96</th>\n",
       "      <td>Portugal</td>\n",
       "    </tr>\n",
       "    <tr>\n",
       "      <th>15</th>\n",
       "      <td>Bermuda</td>\n",
       "    </tr>\n",
       "    <tr>\n",
       "      <th>109</th>\n",
       "      <td>San Marino</td>\n",
       "    </tr>\n",
       "  </tbody>\n",
       "</table>\n",
       "</div>"
      ],
      "text/plain": [
       "          countries\n",
       "86      New Zealand\n",
       "24   Cayman Islands\n",
       "55          Iceland\n",
       "42           France\n",
       "121          Sweden\n",
       "8        Azerbaijan\n",
       "10          Bahrain\n",
       "96         Portugal\n",
       "15          Bermuda\n",
       "109      San Marino"
      ]
     },
     "execution_count": 253,
     "metadata": {},
     "output_type": "execute_result"
    }
   ],
   "source": [
    "# Разделяем страны по именам\n",
    "private_name = pd.DataFrame(df.country.unique(), columns = [\"countries\"])\n",
    "private_name.sample(10)"
   ]
  },
  {
   "cell_type": "code",
   "execution_count": 254,
   "metadata": {
    "_uuid": "8c87eb0780c328c08447163db3c00adcdca8a8e2"
   },
   "outputs": [],
   "source": [
    "# Мы создаем таблицу данных, в которой будем хранить данные, которые будем собирать.\n",
    "gender_suicides = pd.DataFrame(columns=['country', # страна\n",
    "                                           'total s', # общее количество самоубийств\n",
    "                                           'per f',   # процент самоубийств среди женщин\n",
    "                                           'per m',]) # процент мужских самоубийств"
   ]
  },
  {
   "cell_type": "markdown",
   "metadata": {
    "_uuid": "e46542db52548dd52bc8371e01b30fb268ab2f5e"
   },
   "source": [
    "Здесь мы заморозим названия стран, которые мы разделили выше в цикле, и разделим количество самоубийств для каждой из стран, соответствующих нашему основному набору данных, на мужские и женские и рассчитаем их проценты."
   ]
  },
  {
   "cell_type": "code",
   "execution_count": 255,
   "metadata": {
    "_uuid": "c97353b65cc5007eb0fe0060b3cba48a421d27aa"
   },
   "outputs": [],
   "source": [
    "for index, rows in gender_suicides.iterrows():\n",
    "   test_df = df[df[\"country\"] == rows[\"countries\"]]\n",
    "   gender_suicides = gender_suicides.append({'country': rows[\"countries\"],\n",
    "        'total s' : df[df[\"country\"] == rows[\"countries\"]].suicides_no.sum(),\n",
    "        'per f': test_df[test_df[\"sex\"] == \"female\"].suicides_no.sum()/df[df[\"country\"] == rows[\"countries\"]].suicides_no.sum()*100,\n",
    "        'per m': test_df[test_df[\"sex\"] == \"male\"].suicides_no.sum()/df[df[\"country\"] == rows[\"countries\"]].suicides_no.sum()*100}, ignore_index=True)"
   ]
  },
  {
   "cell_type": "code",
   "execution_count": 256,
   "metadata": {
    "_uuid": "ecd6e4205c127a95b6060d8a120c1b5c44f4e154"
   },
   "outputs": [
    {
     "data": {
      "text/html": [
       "<div>\n",
       "<style scoped>\n",
       "    .dataframe tbody tr th:only-of-type {\n",
       "        vertical-align: middle;\n",
       "    }\n",
       "\n",
       "    .dataframe tbody tr th {\n",
       "        vertical-align: top;\n",
       "    }\n",
       "\n",
       "    .dataframe thead th {\n",
       "        text-align: right;\n",
       "    }\n",
       "</style>\n",
       "<table border=\"1\" class=\"dataframe\">\n",
       "  <thead>\n",
       "    <tr style=\"text-align: right;\">\n",
       "      <th></th>\n",
       "      <th>country</th>\n",
       "      <th>total s</th>\n",
       "      <th>per f</th>\n",
       "      <th>per m</th>\n",
       "    </tr>\n",
       "  </thead>\n",
       "  <tbody>\n",
       "  </tbody>\n",
       "</table>\n",
       "</div>"
      ],
      "text/plain": [
       "Empty DataFrame\n",
       "Columns: [country, total s, per f, per m]\n",
       "Index: []"
      ]
     },
     "execution_count": 256,
     "metadata": {},
     "output_type": "execute_result"
    }
   ],
   "source": [
    "# Давайте рассмотрим нашу таблицу данных\n",
    "gender_suicides.head()"
   ]
  },
  {
   "cell_type": "code",
   "execution_count": 257,
   "metadata": {
    "_uuid": "54c19d524a802301e774153d9736031228d24976"
   },
   "outputs": [
    {
     "data": {
      "text/html": [
       "<div>\n",
       "<style scoped>\n",
       "    .dataframe tbody tr th:only-of-type {\n",
       "        vertical-align: middle;\n",
       "    }\n",
       "\n",
       "    .dataframe tbody tr th {\n",
       "        vertical-align: top;\n",
       "    }\n",
       "\n",
       "    .dataframe thead th {\n",
       "        text-align: right;\n",
       "    }\n",
       "</style>\n",
       "<table border=\"1\" class=\"dataframe\">\n",
       "  <thead>\n",
       "    <tr style=\"text-align: right;\">\n",
       "      <th></th>\n",
       "      <th>country</th>\n",
       "      <th>total s</th>\n",
       "      <th>per f</th>\n",
       "      <th>per m</th>\n",
       "    </tr>\n",
       "  </thead>\n",
       "  <tbody>\n",
       "  </tbody>\n",
       "</table>\n",
       "</div>"
      ],
      "text/plain": [
       "Empty DataFrame\n",
       "Columns: [country, total s, per f, per m]\n",
       "Index: []"
      ]
     },
     "execution_count": 257,
     "metadata": {},
     "output_type": "execute_result"
    }
   ],
   "source": [
    "# Давайте ранжируем наши данные по проценту женских самоубийств.\n",
    "gender_suicides = gender_suicides.sort_values(\"per f\", ascending=False)\n",
    "gender_suicides.head(10)"
   ]
  },
  {
   "cell_type": "code",
   "execution_count": 258,
   "metadata": {
    "_uuid": "f5a0bd2f9e6a7f681554f5c29376ce89413c5ef1"
   },
   "outputs": [
    {
     "data": {
      "text/html": [
       "<div>\n",
       "<style scoped>\n",
       "    .dataframe tbody tr th:only-of-type {\n",
       "        vertical-align: middle;\n",
       "    }\n",
       "\n",
       "    .dataframe tbody tr th {\n",
       "        vertical-align: top;\n",
       "    }\n",
       "\n",
       "    .dataframe thead th {\n",
       "        text-align: right;\n",
       "    }\n",
       "</style>\n",
       "<table border=\"1\" class=\"dataframe\">\n",
       "  <thead>\n",
       "    <tr style=\"text-align: right;\">\n",
       "      <th></th>\n",
       "      <th>country</th>\n",
       "      <th>total s</th>\n",
       "      <th>per f</th>\n",
       "      <th>per m</th>\n",
       "    </tr>\n",
       "  </thead>\n",
       "  <tbody>\n",
       "  </tbody>\n",
       "</table>\n",
       "</div>"
      ],
      "text/plain": [
       "Empty DataFrame\n",
       "Columns: [country, total s, per f, per m]\n",
       "Index: []"
      ]
     },
     "execution_count": 258,
     "metadata": {},
     "output_type": "execute_result"
    }
   ],
   "source": [
    "# Ранжируем наши данные по проценту мужских самоубийств.\n",
    "gender_suicides = gender_suicides.sort_values(\"per m\", ascending=False)\n",
    "gender_suicides.head(10)"
   ]
  },
  {
   "cell_type": "markdown",
   "metadata": {
    "_uuid": "48937ae36f5bf92d352857b0e70e2b50caee3e79"
   },
   "source": [
    "* **Сгруппируем число самоубийств в странах по возрастному диапазону**"
   ]
  },
  {
   "cell_type": "code",
   "execution_count": 259,
   "metadata": {
    "_uuid": "ff9dccedbe55c97e1bca697aa95bb5f2c09f48d8"
   },
   "outputs": [],
   "source": [
    "# Ранее мы сохраняли названия стран в \"unique\".\n",
    "# Мы создаем таблицу данных, в которой будем хранить данные, которые будем собирать.\n",
    "suicides_by_age = pd.DataFrame(columns=[\n",
    "    'country',   # страна\n",
    "    'total s',   # общее количество самоубийств\n",
    "    'per 5-14',  # от 5 до 14 лет\n",
    "    'per 15-24', # от 15 до 24 лет\n",
    "    'per 25-34', # от 25 до 34 лет\n",
    "    'per 35-54', # от 35 до 54 лет\n",
    "    'per 55-74', # от 55 до 74 лет\n",
    "    'per 75+'])  # 75 лет и старше"
   ]
  },
  {
   "cell_type": "code",
   "execution_count": 260,
   "metadata": {
    "_uuid": "b55d9a9432f86cec0f0c2b374f10a4ca4fdac2e9"
   },
   "outputs": [
    {
     "data": {
      "text/html": [
       "<div>\n",
       "<style scoped>\n",
       "    .dataframe tbody tr th:only-of-type {\n",
       "        vertical-align: middle;\n",
       "    }\n",
       "\n",
       "    .dataframe tbody tr th {\n",
       "        vertical-align: top;\n",
       "    }\n",
       "\n",
       "    .dataframe thead th {\n",
       "        text-align: right;\n",
       "    }\n",
       "</style>\n",
       "<table border=\"1\" class=\"dataframe\">\n",
       "  <thead>\n",
       "    <tr style=\"text-align: right;\">\n",
       "      <th></th>\n",
       "      <th>country</th>\n",
       "      <th>total s</th>\n",
       "      <th>per 5-14</th>\n",
       "      <th>per 15-24</th>\n",
       "      <th>per 25-34</th>\n",
       "      <th>per 35-54</th>\n",
       "      <th>per 55-74</th>\n",
       "      <th>per 75+</th>\n",
       "    </tr>\n",
       "  </thead>\n",
       "  <tbody>\n",
       "  </tbody>\n",
       "</table>\n",
       "</div>"
      ],
      "text/plain": [
       "Empty DataFrame\n",
       "Columns: [country, total s, per 5-14, per 15-24, per 25-34, per 35-54, per 55-74, per 75+]\n",
       "Index: []"
      ]
     },
     "execution_count": 260,
     "metadata": {},
     "output_type": "execute_result"
    }
   ],
   "source": [
    "# Давайте рассмотрим нашу таблицу данных\n",
    "suicides_by_age.head()"
   ]
  },
  {
   "cell_type": "code",
   "execution_count": 261,
   "metadata": {
    "_uuid": "94a9e35fc2c7d9a8dcb6c6e19f2e4f4b882091c0"
   },
   "outputs": [
    {
     "data": {
      "text/html": [
       "<div>\n",
       "<style scoped>\n",
       "    .dataframe tbody tr th:only-of-type {\n",
       "        vertical-align: middle;\n",
       "    }\n",
       "\n",
       "    .dataframe tbody tr th {\n",
       "        vertical-align: top;\n",
       "    }\n",
       "\n",
       "    .dataframe thead th {\n",
       "        text-align: right;\n",
       "    }\n",
       "</style>\n",
       "<table border=\"1\" class=\"dataframe\">\n",
       "  <thead>\n",
       "    <tr style=\"text-align: right;\">\n",
       "      <th></th>\n",
       "      <th>country</th>\n",
       "      <th>total s</th>\n",
       "      <th>per 5-14</th>\n",
       "      <th>per 15-24</th>\n",
       "      <th>per 25-34</th>\n",
       "      <th>per 35-54</th>\n",
       "      <th>per 55-74</th>\n",
       "      <th>per 75+</th>\n",
       "    </tr>\n",
       "  </thead>\n",
       "  <tbody>\n",
       "  </tbody>\n",
       "</table>\n",
       "</div>"
      ],
      "text/plain": [
       "Empty DataFrame\n",
       "Columns: [country, total s, per 5-14, per 15-24, per 25-34, per 35-54, per 55-74, per 75+]\n",
       "Index: []"
      ]
     },
     "execution_count": 261,
     "metadata": {},
     "output_type": "execute_result"
    }
   ],
   "source": [
    "# Отсортируем наши данные по 5-14 процентам.\n",
    "suicides_by_age = suicides_by_age.sort_values(\"per 5-14\", ascending=False)\n",
    "suicides_by_age.head(10)"
   ]
  },
  {
   "cell_type": "code",
   "execution_count": 262,
   "metadata": {
    "_uuid": "17660643909d5fa4ce869a2404cb60bd90fff8a5"
   },
   "outputs": [
    {
     "data": {
      "text/html": [
       "<div>\n",
       "<style scoped>\n",
       "    .dataframe tbody tr th:only-of-type {\n",
       "        vertical-align: middle;\n",
       "    }\n",
       "\n",
       "    .dataframe tbody tr th {\n",
       "        vertical-align: top;\n",
       "    }\n",
       "\n",
       "    .dataframe thead th {\n",
       "        text-align: right;\n",
       "    }\n",
       "</style>\n",
       "<table border=\"1\" class=\"dataframe\">\n",
       "  <thead>\n",
       "    <tr style=\"text-align: right;\">\n",
       "      <th></th>\n",
       "      <th>country</th>\n",
       "      <th>total s</th>\n",
       "      <th>per 5-14</th>\n",
       "      <th>per 15-24</th>\n",
       "      <th>per 25-34</th>\n",
       "      <th>per 35-54</th>\n",
       "      <th>per 55-74</th>\n",
       "      <th>per 75+</th>\n",
       "    </tr>\n",
       "  </thead>\n",
       "  <tbody>\n",
       "  </tbody>\n",
       "</table>\n",
       "</div>"
      ],
      "text/plain": [
       "Empty DataFrame\n",
       "Columns: [country, total s, per 5-14, per 15-24, per 25-34, per 35-54, per 55-74, per 75+]\n",
       "Index: []"
      ]
     },
     "execution_count": 262,
     "metadata": {},
     "output_type": "execute_result"
    }
   ],
   "source": [
    "# Отсортируем наши данные на 15-24 процента.\n",
    "suicides_by_age = suicides_by_age.sort_values(\"per 15-24\", ascending=False)\n",
    "suicides_by_age.head(10)\n"
   ]
  },
  {
   "cell_type": "code",
   "execution_count": 263,
   "metadata": {
    "_uuid": "cada193fd9c207d11ef807a7dc1ffc42bad7f3cd"
   },
   "outputs": [
    {
     "data": {
      "text/html": [
       "<div>\n",
       "<style scoped>\n",
       "    .dataframe tbody tr th:only-of-type {\n",
       "        vertical-align: middle;\n",
       "    }\n",
       "\n",
       "    .dataframe tbody tr th {\n",
       "        vertical-align: top;\n",
       "    }\n",
       "\n",
       "    .dataframe thead th {\n",
       "        text-align: right;\n",
       "    }\n",
       "</style>\n",
       "<table border=\"1\" class=\"dataframe\">\n",
       "  <thead>\n",
       "    <tr style=\"text-align: right;\">\n",
       "      <th></th>\n",
       "      <th>country</th>\n",
       "      <th>total s</th>\n",
       "      <th>per 5-14</th>\n",
       "      <th>per 15-24</th>\n",
       "      <th>per 25-34</th>\n",
       "      <th>per 35-54</th>\n",
       "      <th>per 55-74</th>\n",
       "      <th>per 75+</th>\n",
       "    </tr>\n",
       "  </thead>\n",
       "  <tbody>\n",
       "  </tbody>\n",
       "</table>\n",
       "</div>"
      ],
      "text/plain": [
       "Empty DataFrame\n",
       "Columns: [country, total s, per 5-14, per 15-24, per 25-34, per 35-54, per 55-74, per 75+]\n",
       "Index: []"
      ]
     },
     "execution_count": 263,
     "metadata": {},
     "output_type": "execute_result"
    }
   ],
   "source": [
    "# Отсортируем наши данные по 25-34 процентилю.\n",
    "suicides_by_age = suicides_by_age.sort_values(\"per 25-34\", ascending=False)\n",
    "suicides_by_age.head(10)"
   ]
  },
  {
   "cell_type": "code",
   "execution_count": 264,
   "metadata": {
    "_uuid": "8d50e9d22cc612556b5b895cae574dc4b7196a6d"
   },
   "outputs": [
    {
     "data": {
      "text/html": [
       "<div>\n",
       "<style scoped>\n",
       "    .dataframe tbody tr th:only-of-type {\n",
       "        vertical-align: middle;\n",
       "    }\n",
       "\n",
       "    .dataframe tbody tr th {\n",
       "        vertical-align: top;\n",
       "    }\n",
       "\n",
       "    .dataframe thead th {\n",
       "        text-align: right;\n",
       "    }\n",
       "</style>\n",
       "<table border=\"1\" class=\"dataframe\">\n",
       "  <thead>\n",
       "    <tr style=\"text-align: right;\">\n",
       "      <th></th>\n",
       "      <th>country</th>\n",
       "      <th>total s</th>\n",
       "      <th>per 5-14</th>\n",
       "      <th>per 15-24</th>\n",
       "      <th>per 25-34</th>\n",
       "      <th>per 35-54</th>\n",
       "      <th>per 55-74</th>\n",
       "      <th>per 75+</th>\n",
       "    </tr>\n",
       "  </thead>\n",
       "  <tbody>\n",
       "  </tbody>\n",
       "</table>\n",
       "</div>"
      ],
      "text/plain": [
       "Empty DataFrame\n",
       "Columns: [country, total s, per 5-14, per 15-24, per 25-34, per 35-54, per 55-74, per 75+]\n",
       "Index: []"
      ]
     },
     "execution_count": 264,
     "metadata": {},
     "output_type": "execute_result"
    }
   ],
   "source": [
    "# Отсортируем наши данные по 35-54 процентам.\n",
    "suicides_by_age = suicides_by_age.sort_values(\"per 35-54\", ascending=False)\n",
    "suicides_by_age.head(10)"
   ]
  },
  {
   "cell_type": "code",
   "execution_count": 265,
   "metadata": {
    "_uuid": "d65ecd1b8c2ae5222b49123a1406e4768b62a1ce"
   },
   "outputs": [
    {
     "data": {
      "text/html": [
       "<div>\n",
       "<style scoped>\n",
       "    .dataframe tbody tr th:only-of-type {\n",
       "        vertical-align: middle;\n",
       "    }\n",
       "\n",
       "    .dataframe tbody tr th {\n",
       "        vertical-align: top;\n",
       "    }\n",
       "\n",
       "    .dataframe thead th {\n",
       "        text-align: right;\n",
       "    }\n",
       "</style>\n",
       "<table border=\"1\" class=\"dataframe\">\n",
       "  <thead>\n",
       "    <tr style=\"text-align: right;\">\n",
       "      <th></th>\n",
       "      <th>country</th>\n",
       "      <th>total s</th>\n",
       "      <th>per 5-14</th>\n",
       "      <th>per 15-24</th>\n",
       "      <th>per 25-34</th>\n",
       "      <th>per 35-54</th>\n",
       "      <th>per 55-74</th>\n",
       "      <th>per 75+</th>\n",
       "    </tr>\n",
       "  </thead>\n",
       "  <tbody>\n",
       "  </tbody>\n",
       "</table>\n",
       "</div>"
      ],
      "text/plain": [
       "Empty DataFrame\n",
       "Columns: [country, total s, per 5-14, per 15-24, per 25-34, per 35-54, per 55-74, per 75+]\n",
       "Index: []"
      ]
     },
     "execution_count": 265,
     "metadata": {},
     "output_type": "execute_result"
    }
   ],
   "source": [
    "# Отсортируем наши данные по 55-74 процентам.\n",
    "suicides_by_age = suicides_by_age.sort_values(\"per 55-74\", ascending=False)\n",
    "suicides_by_age.head(10)"
   ]
  },
  {
   "cell_type": "code",
   "execution_count": 266,
   "metadata": {
    "_uuid": "27f8d0ccbe4184c13c3f86768125014b2ef1895b"
   },
   "outputs": [
    {
     "data": {
      "text/html": [
       "<div>\n",
       "<style scoped>\n",
       "    .dataframe tbody tr th:only-of-type {\n",
       "        vertical-align: middle;\n",
       "    }\n",
       "\n",
       "    .dataframe tbody tr th {\n",
       "        vertical-align: top;\n",
       "    }\n",
       "\n",
       "    .dataframe thead th {\n",
       "        text-align: right;\n",
       "    }\n",
       "</style>\n",
       "<table border=\"1\" class=\"dataframe\">\n",
       "  <thead>\n",
       "    <tr style=\"text-align: right;\">\n",
       "      <th></th>\n",
       "      <th>country</th>\n",
       "      <th>total s</th>\n",
       "      <th>per 5-14</th>\n",
       "      <th>per 15-24</th>\n",
       "      <th>per 25-34</th>\n",
       "      <th>per 35-54</th>\n",
       "      <th>per 55-74</th>\n",
       "      <th>per 75+</th>\n",
       "    </tr>\n",
       "  </thead>\n",
       "  <tbody>\n",
       "  </tbody>\n",
       "</table>\n",
       "</div>"
      ],
      "text/plain": [
       "Empty DataFrame\n",
       "Columns: [country, total s, per 5-14, per 15-24, per 25-34, per 35-54, per 55-74, per 75+]\n",
       "Index: []"
      ]
     },
     "execution_count": 266,
     "metadata": {},
     "output_type": "execute_result"
    }
   ],
   "source": [
    "# Давайте отсортируем наши данные по процентилю 75+.\n",
    "suicides_by_age = suicides_by_age.sort_values(\"per 75+\", ascending=False)\n",
    "suicides_by_age.head(10)"
   ]
  },
  {
   "cell_type": "code",
   "execution_count": 267,
   "metadata": {
    "_uuid": "c211954ffa49690424fab800fe04c660c5f3ed0a"
   },
   "outputs": [
    {
     "data": {
      "text/plain": [
       "country        0\n",
       "year           0\n",
       "sex            0\n",
       "age            0\n",
       "suicides_no    0\n",
       "dtype: int64"
      ]
     },
     "execution_count": 267,
     "metadata": {},
     "output_type": "execute_result"
    }
   ],
   "source": [
    "dframe = pd.read_csv(\"statistics.csv\")\n",
    "dframe = df.dropna(axis=0, how=\"any\")\n",
    "dframe.isnull().sum()"
   ]
  },
  {
   "cell_type": "markdown",
   "metadata": {
    "_uuid": "f1321f093c129169ede1be44a3249bcdf501dcf6"
   },
   "source": [
    "*** Ранее мы сохраняли названия стран в «уникальных», но мы удалили другие данные из нашего набора данных по сравнению с предыдущим набором данных. Поэтому нам нужно снова получить названия стран***\n"
   ]
  },
  {
   "cell_type": "code",
   "execution_count": 268,
   "metadata": {
    "_uuid": "e91ff487ce768d9e5f5e615d72819c06e70425bd"
   },
   "outputs": [
    {
     "data": {
      "text/html": [
       "<div>\n",
       "<style scoped>\n",
       "    .dataframe tbody tr th:only-of-type {\n",
       "        vertical-align: middle;\n",
       "    }\n",
       "\n",
       "    .dataframe tbody tr th {\n",
       "        vertical-align: top;\n",
       "    }\n",
       "\n",
       "    .dataframe thead th {\n",
       "        text-align: right;\n",
       "    }\n",
       "</style>\n",
       "<table border=\"1\" class=\"dataframe\">\n",
       "  <thead>\n",
       "    <tr style=\"text-align: right;\">\n",
       "      <th></th>\n",
       "      <th>countries</th>\n",
       "    </tr>\n",
       "  </thead>\n",
       "  <tbody>\n",
       "    <tr>\n",
       "      <th>106</th>\n",
       "      <td>Saint Lucia</td>\n",
       "    </tr>\n",
       "    <tr>\n",
       "      <th>58</th>\n",
       "      <td>Ireland</td>\n",
       "    </tr>\n",
       "    <tr>\n",
       "      <th>135</th>\n",
       "      <td>United States of America</td>\n",
       "    </tr>\n",
       "    <tr>\n",
       "      <th>7</th>\n",
       "      <td>Austria</td>\n",
       "    </tr>\n",
       "    <tr>\n",
       "      <th>75</th>\n",
       "      <td>Martinique</td>\n",
       "    </tr>\n",
       "    <tr>\n",
       "      <th>112</th>\n",
       "      <td>Serbia</td>\n",
       "    </tr>\n",
       "    <tr>\n",
       "      <th>78</th>\n",
       "      <td>Mexico</td>\n",
       "    </tr>\n",
       "    <tr>\n",
       "      <th>71</th>\n",
       "      <td>Macau</td>\n",
       "    </tr>\n",
       "    <tr>\n",
       "      <th>129</th>\n",
       "      <td>Turkey</td>\n",
       "    </tr>\n",
       "    <tr>\n",
       "      <th>139</th>\n",
       "      <td>Virgin Islands (USA)</td>\n",
       "    </tr>\n",
       "  </tbody>\n",
       "</table>\n",
       "</div>"
      ],
      "text/plain": [
       "                    countries\n",
       "106               Saint Lucia\n",
       "58                    Ireland\n",
       "135  United States of America\n",
       "7                     Austria\n",
       "75                 Martinique\n",
       "112                    Serbia\n",
       "78                     Mexico\n",
       "71                      Macau\n",
       "129                    Turkey\n",
       "139      Virgin Islands (USA)"
      ]
     },
     "execution_count": 268,
     "metadata": {},
     "output_type": "execute_result"
    }
   ],
   "source": [
    "unique = pd.DataFrame(dframe.country.unique(), columns = [\"countries\"])\n",
    "unique.sample(10)"
   ]
  },
  {
   "cell_type": "code",
   "execution_count": 269,
   "metadata": {
    "_uuid": "b853dd573bfeebd97d205ff3a2efbda44e9e4701"
   },
   "outputs": [],
   "source": [
    "# Мы создаем таблицу данных, в которой будем хранить данные, которые будем собирать.\n",
    "suicides_by_pop = pd.DataFrame(columns=['country', \n",
    "                                           'total s', \n",
    "                                           'mean pop',\n",
    "                                           'per s'])"
   ]
  },
  {
   "cell_type": "code",
   "execution_count": 270,
   "metadata": {
    "_uuid": "e12b5c69c90b124d52bc0bd0e7bece9015d1603e"
   },
   "outputs": [
    {
     "data": {
      "text/html": [
       "<div>\n",
       "<style scoped>\n",
       "    .dataframe tbody tr th:only-of-type {\n",
       "        vertical-align: middle;\n",
       "    }\n",
       "\n",
       "    .dataframe tbody tr th {\n",
       "        vertical-align: top;\n",
       "    }\n",
       "\n",
       "    .dataframe thead th {\n",
       "        text-align: right;\n",
       "    }\n",
       "</style>\n",
       "<table border=\"1\" class=\"dataframe\">\n",
       "  <thead>\n",
       "    <tr style=\"text-align: right;\">\n",
       "      <th></th>\n",
       "      <th>country</th>\n",
       "      <th>total s</th>\n",
       "      <th>mean pop</th>\n",
       "      <th>per s</th>\n",
       "    </tr>\n",
       "  </thead>\n",
       "  <tbody>\n",
       "  </tbody>\n",
       "</table>\n",
       "</div>"
      ],
      "text/plain": [
       "Empty DataFrame\n",
       "Columns: [country, total s, mean pop, per s]\n",
       "Index: []"
      ]
     },
     "execution_count": 270,
     "metadata": {},
     "output_type": "execute_result"
    }
   ],
   "source": [
    "# Давайте рассмотрим нашу таблицу данных\n",
    "suicides_by_pop.head()"
   ]
  },
  {
   "cell_type": "code",
   "execution_count": 271,
   "metadata": {
    "_uuid": "7f5de4e887c341069bcb383356477ed637078d5c"
   },
   "outputs": [
    {
     "data": {
      "text/html": [
       "<div>\n",
       "<style scoped>\n",
       "    .dataframe tbody tr th:only-of-type {\n",
       "        vertical-align: middle;\n",
       "    }\n",
       "\n",
       "    .dataframe tbody tr th {\n",
       "        vertical-align: top;\n",
       "    }\n",
       "\n",
       "    .dataframe thead th {\n",
       "        text-align: right;\n",
       "    }\n",
       "</style>\n",
       "<table border=\"1\" class=\"dataframe\">\n",
       "  <thead>\n",
       "    <tr style=\"text-align: right;\">\n",
       "      <th></th>\n",
       "      <th>country</th>\n",
       "      <th>total s</th>\n",
       "      <th>mean pop</th>\n",
       "      <th>per s</th>\n",
       "    </tr>\n",
       "  </thead>\n",
       "  <tbody>\n",
       "  </tbody>\n",
       "</table>\n",
       "</div>"
      ],
      "text/plain": [
       "Empty DataFrame\n",
       "Columns: [country, total s, mean pop, per s]\n",
       "Index: []"
      ]
     },
     "execution_count": 271,
     "metadata": {},
     "output_type": "execute_result"
    }
   ],
   "source": [
    "# Давайте отсортируем наши данные по проценту самоубийств/населения.\n",
    "suicides_by_pop = suicides_by_pop.sort_values(\"per s\", ascending=False)\n",
    "suicides_by_pop.head(10)"
   ]
  },
  {
   "cell_type": "markdown",
   "metadata": {
    "_uuid": "54e74a33d54eb46056203cad54bfcd6a145ec891"
   },
   "source": [
    "> # **ОБРАБОТКА МОДЕЛИ ДАННЫХ**"
   ]
  },
  {
   "cell_type": "markdown",
   "metadata": {
    "_uuid": "393ca3f89bdc02899329652192aaa9f6bbb22ee1"
   },
   "source": [
    "В этом разделе мы создадим модели регрессии, применим обучение к нашему набору данных и определим модель регрессии, которая дает наилучший результат в соответствии с определенными нами атрибутами."
   ]
  },
  {
   "cell_type": "markdown",
   "metadata": {
    "_uuid": "55b8beaa8058b680b110c26ee7694891f2ca8804"
   },
   "source": [
    "Подождем моделей, попробуем оценить количество самоубийств по годам.\n",
    "\n",
    "* Линейная регрессия\n",
    "* Поддержка векторной регрессии\n",
    "* Регрессия дерева решений\n",
    "* Регрессия случайного леса\n",
    "* K-ближайшая регрессия соседей"
   ]
  },
  {
   "cell_type": "code",
   "execution_count": 272,
   "metadata": {
    "_uuid": "cc3b3a84bcb8f4b89657d0fa1d0477e114265b6c"
   },
   "outputs": [],
   "source": [
    "# Мы будем использовать функцию оценки r2 для измерения успеха наших моделей регрессии.\n",
    "# Чем ближе значение к 1, тем лучше результат.\n",
    "from sklearn.metrics import r2_score"
   ]
  },
  {
   "cell_type": "markdown",
   "metadata": {
    "_uuid": "5bc0b840468f03a6bf4e5c622ec61fecacd2de12"
   },
   "source": [
    "**Мы готовим наши данные, которые мы будем использовать в обучающих и тестовых данных.**"
   ]
  },
  {
   "cell_type": "code",
   "execution_count": 226,
   "metadata": {
    "_uuid": "a8878c8c215014799c156cb3654df4b639db0233"
   },
   "outputs": [],
   "source": [
    "# Мы группируем общее количество самоубийств по годам.\n",
    "analyze_df = pd.DataFrame(df.groupby(\"year\")[\"suicides_no\"].sum())"
   ]
  },
  {
   "cell_type": "code",
   "execution_count": 227,
   "metadata": {
    "_uuid": "41347bf823bcadf81e2fecd5ae00e800abe854a9"
   },
   "outputs": [
    {
     "data": {
      "text/html": [
       "<div>\n",
       "<style scoped>\n",
       "    .dataframe tbody tr th:only-of-type {\n",
       "        vertical-align: middle;\n",
       "    }\n",
       "\n",
       "    .dataframe tbody tr th {\n",
       "        vertical-align: top;\n",
       "    }\n",
       "\n",
       "    .dataframe thead th {\n",
       "        text-align: right;\n",
       "    }\n",
       "</style>\n",
       "<table border=\"1\" class=\"dataframe\">\n",
       "  <thead>\n",
       "    <tr style=\"text-align: right;\">\n",
       "      <th></th>\n",
       "      <th>suicides_no</th>\n",
       "    </tr>\n",
       "    <tr>\n",
       "      <th>year</th>\n",
       "      <th></th>\n",
       "    </tr>\n",
       "  </thead>\n",
       "  <tbody>\n",
       "    <tr>\n",
       "      <th>1979</th>\n",
       "      <td>92790.0</td>\n",
       "    </tr>\n",
       "    <tr>\n",
       "      <th>1980</th>\n",
       "      <td>153548.0</td>\n",
       "    </tr>\n",
       "    <tr>\n",
       "      <th>1981</th>\n",
       "      <td>178014.0</td>\n",
       "    </tr>\n",
       "    <tr>\n",
       "      <th>1982</th>\n",
       "      <td>182893.0</td>\n",
       "    </tr>\n",
       "    <tr>\n",
       "      <th>1983</th>\n",
       "      <td>122430.0</td>\n",
       "    </tr>\n",
       "  </tbody>\n",
       "</table>\n",
       "</div>"
      ],
      "text/plain": [
       "      suicides_no\n",
       "year             \n",
       "1979      92790.0\n",
       "1980     153548.0\n",
       "1981     178014.0\n",
       "1982     182893.0\n",
       "1983     122430.0"
      ]
     },
     "execution_count": 227,
     "metadata": {},
     "output_type": "execute_result"
    }
   ],
   "source": [
    "analyze_df.head()"
   ]
  },
  {
   "cell_type": "code",
   "execution_count": 228,
   "metadata": {
    "_uuid": "bdae61b9a448e2beeffc912689353df831c74949"
   },
   "outputs": [
    {
     "data": {
      "text/html": [
       "<div>\n",
       "<style scoped>\n",
       "    .dataframe tbody tr th:only-of-type {\n",
       "        vertical-align: middle;\n",
       "    }\n",
       "\n",
       "    .dataframe tbody tr th {\n",
       "        vertical-align: top;\n",
       "    }\n",
       "\n",
       "    .dataframe thead th {\n",
       "        text-align: right;\n",
       "    }\n",
       "</style>\n",
       "<table border=\"1\" class=\"dataframe\">\n",
       "  <thead>\n",
       "    <tr style=\"text-align: right;\">\n",
       "      <th></th>\n",
       "      <th>suicides_no</th>\n",
       "    </tr>\n",
       "    <tr>\n",
       "      <th>year</th>\n",
       "      <th></th>\n",
       "    </tr>\n",
       "  </thead>\n",
       "  <tbody>\n",
       "    <tr>\n",
       "      <th>2012</th>\n",
       "      <td>234085.0</td>\n",
       "    </tr>\n",
       "    <tr>\n",
       "      <th>2013</th>\n",
       "      <td>229421.0</td>\n",
       "    </tr>\n",
       "    <tr>\n",
       "      <th>2014</th>\n",
       "      <td>227793.0</td>\n",
       "    </tr>\n",
       "    <tr>\n",
       "      <th>2015</th>\n",
       "      <td>207908.0</td>\n",
       "    </tr>\n",
       "    <tr>\n",
       "      <th>2016</th>\n",
       "      <td>16483.0</td>\n",
       "    </tr>\n",
       "  </tbody>\n",
       "</table>\n",
       "</div>"
      ],
      "text/plain": [
       "      suicides_no\n",
       "year             \n",
       "2012     234085.0\n",
       "2013     229421.0\n",
       "2014     227793.0\n",
       "2015     207908.0\n",
       "2016      16483.0"
      ]
     },
     "execution_count": 228,
     "metadata": {},
     "output_type": "execute_result"
    }
   ],
   "source": [
    "analyze_df.tail()"
   ]
  },
  {
   "cell_type": "markdown",
   "metadata": {
    "_uuid": "318edbccc43db6b3348dfc129dd678ef5af1b6f6"
   },
   "source": [
    "**При проверке данных мы исключаем этот год, поскольку данные за 2016 год неверны.**"
   ]
  },
  {
   "cell_type": "code",
   "execution_count": 229,
   "metadata": {
    "_uuid": "47ccd462d148780dea018dd118549e00822f4d64"
   },
   "outputs": [],
   "source": [
    "# Мы назначаем годы входным значениям и самоубийствам выходным значениям. \n",
    "x = pd.DataFrame(analyze_df.index)\n",
    "y = analyze_df.iloc[:, 0]\n",
    "\n",
    "# Мы очищаем 2016 год и значение самоубийства.\n",
    "x = x.iloc[:-1, :].values.reshape(-1,1)\n",
    "y = analyze_df.iloc[:-1, 0].values.reshape(-1,1)"
   ]
  },
  {
   "cell_type": "markdown",
   "metadata": {
    "_uuid": "40414be885ae4b0d044a76f7463c4bf12d09b613"
   },
   "source": [
    "### Мы готовы строить регрессионные модели."
   ]
  },
  {
   "cell_type": "markdown",
   "metadata": {
    "_uuid": "cc5a9efdf846496733b2de68c0ca1cacec7aaa70"
   },
   "source": [
    "Сначала мы применим модель **полиномиальной линейной регрессии**.\n",
    " <br>Чтобы визуализировать функцию, которая будет создана в этой модели, мы не будем разбивать данные как обучающие тесты.\n",
    "<br>** (Если мы разделим его, он не сможет нарисовать кривую функции.)**"
   ]
  },
  {
   "cell_type": "markdown",
   "metadata": {
    "_uuid": "3595478bb3f227f4ed9151cb2a03bea7d76dba3e"
   },
   "source": [
    ">  ## **LINEAR REGRESSION**"
   ]
  },
  {
   "cell_type": "code",
   "execution_count": 230,
   "metadata": {
    "_uuid": "3becc72bbcbb6122ef3d3087f7789bf2036c251d"
   },
   "outputs": [],
   "source": [
    "# Вызываем нужные библиотеки.\n",
    "from sklearn.linear_model import LinearRegression\n",
    "from sklearn.preprocessing import PolynomialFeatures\n",
    "\n",
    "# Мы строим наши модели.\n",
    "lr = LinearRegression()\n",
    "\n",
    "# 4. Мы будем использовать функцию степени.\n",
    "pf = PolynomialFeatures(degree=4)"
   ]
  },
  {
   "cell_type": "code",
   "execution_count": 231,
   "metadata": {
    "_uuid": "156566f13190bf733691d5226665c6c872c96cb0"
   },
   "outputs": [],
   "source": [
    "# Сначала мы преобразуем наши входные значения в полиномиальную форму. Потому что, если мы создали полиномиальную функцию, мы должны предоставить входные данные такого порядка.\n",
    "x_pol = pf.fit_transform(x)"
   ]
  },
  {
   "cell_type": "code",
   "execution_count": 232,
   "metadata": {
    "_uuid": "849da73905193262ea6985a0ae76ee1acb5648ff"
   },
   "outputs": [
    {
     "data": {
      "text/plain": [
       "LinearRegression()"
      ]
     },
     "execution_count": 232,
     "metadata": {},
     "output_type": "execute_result"
    }
   ],
   "source": [
    "# Обучаем нашу модель\n",
    "lr.fit(x_pol, y)"
   ]
  },
  {
   "cell_type": "code",
   "execution_count": 233,
   "metadata": {
    "_uuid": "59aeb2b6deedf9f74d0275bc4e88ce9eccc0cf7e"
   },
   "outputs": [],
   "source": [
    "# Мы обучили нашу модель, теперь будем ее тестировать. Во-первых, мы делаем наши тестовые данные полиномиальными.\n",
    "x_pol2 = pf.fit_transform(x)"
   ]
  },
  {
   "cell_type": "code",
   "execution_count": 234,
   "metadata": {
    "_uuid": "a6da1bcb494e4bec460a767eb19d8882359575d0"
   },
   "outputs": [],
   "source": [
    "# Мы отправим переведенные тестовые данные в модель и увидим наши оценочные значения.\n",
    "y_pred = lr.predict(x_pol2)"
   ]
  },
  {
   "cell_type": "code",
   "execution_count": 235,
   "metadata": {
    "_uuid": "1380f68c2bb9a986838c8847b7a7128c5bd6937f"
   },
   "outputs": [
    {
     "data": {
      "text/plain": [
       "Text(0, 0.5, 'Количество самоубийств')"
      ]
     },
     "execution_count": 235,
     "metadata": {},
     "output_type": "execute_result"
    },
    {
     "data": {
      "image/png": "[encoded data removed]",
      "text/plain": [
       "<Figure size 2000x1000 with 1 Axes>"
      ]
     },
     "metadata": {},
     "output_type": "display_data"
    }
   ],
   "source": [
    "# Давайте визуализируем это, чтобы сравнить исходные значения с данными, полученными нашей функцией.\n",
    "plt.figure(figsize=(20,10))\n",
    "plt.scatter(x, y)\n",
    "plt.plot(x, y_pred, color=\"red\")\n",
    "plt.xlabel(\"Годы\")\n",
    "plt.ylabel(\"Количество самоубийств\")"
   ]
  },
  {
   "cell_type": "code",
   "execution_count": null,
   "metadata": {},
   "outputs": [],
   "source": []
  },
  {
   "cell_type": "code",
   "execution_count": null,
   "metadata": {},
   "outputs": [],
   "source": []
  },
  {
   "cell_type": "code",
   "execution_count": null,
   "metadata": {},
   "outputs": [],
   "source": []
  },
  {
   "cell_type": "code",
   "execution_count": null,
   "metadata": {},
   "outputs": [],
   "source": []
  }
 ],
 "metadata": {
  "kernelspec": {
   "display_name": "Python 3 (ipykernel)",
   "language": "python",
   "name": "python3"
  },
  "language_info": {
   "codemirror_mode": {
    "name": "ipython",
    "version": 3
   },
   "file_extension": ".py",
   "mimetype": "text/x-python",
   "name": "python",
   "nbconvert_exporter": "python",
   "pygments_lexer": "ipython3",
   "version": "3.9.13"
  }
 },
 "nbformat": 4,
 "nbformat_minor": 1
}
