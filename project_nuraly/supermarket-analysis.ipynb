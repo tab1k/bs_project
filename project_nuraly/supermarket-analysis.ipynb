{
 "cells": [
  {
   "cell_type": "markdown",
   "id": "a52d61fc",
   "metadata": {
    "papermill": {
     "duration": 0.019517,
     "end_time": "2022-12-07T16:07:37.903250",
     "exception": false,
     "start_time": "2022-12-07T16:07:37.883733",
     "status": "completed"
    },
    "tags": []
   },
   "source": [
    "#### В этой записной книжке мы попытаемся вместе понять и проанализировать этот набор данных супермаркета."
   ]
  },
  {
   "cell_type": "markdown",
   "id": "7ba73a5d",
   "metadata": {
    "papermill": {
     "duration": 0.016459,
     "end_time": "2022-12-07T16:07:37.967861",
     "exception": false,
     "start_time": "2022-12-07T16:07:37.951402",
     "status": "completed"
    },
    "tags": []
   },
   "source": [
    "# Importing Necessary Libraries"
   ]
  },
  {
   "cell_type": "code",
   "execution_count": 2,
   "id": "07914ab9",
   "metadata": {
    "execution": {
     "iopub.execute_input": "2022-12-07T16:07:38.007690Z",
     "iopub.status.busy": "2022-12-07T16:07:38.007043Z",
     "iopub.status.idle": "2022-12-07T16:07:39.248482Z",
     "shell.execute_reply": "2022-12-07T16:07:39.247243Z"
    },
    "papermill": {
     "duration": 1.263452,
     "end_time": "2022-12-07T16:07:39.251450",
     "exception": false,
     "start_time": "2022-12-07T16:07:37.987998",
     "status": "completed"
    },
    "tags": []
   },
   "outputs": [],
   "source": [
    "import numpy as np\n",
    "# NumPy для числовых операций\n",
    "\n",
    "import pandas as pd\n",
    "# pandas для операций с DataFrames\n",
    "\n",
    "import seaborn as sns\n",
    "# seaborn — библиотека визуализации данных\n",
    "\n",
    "import matplotlib.pyplot as plt\n",
    "# matplotlib также является библиотекой визуализации данных.\n",
    "\n",
    "%matplotlib inline\n",
    "\n",
    "import warnings\n",
    "# игнорирование ненужных предупреждений\n",
    "warnings.filterwarnings(\"ignore\")"
   ]
  },
  {
   "cell_type": "markdown",
   "id": "ed8dbee7",
   "metadata": {
    "papermill": {
     "duration": 0.015713,
     "end_time": "2022-12-07T16:07:39.283287",
     "exception": false,
     "start_time": "2022-12-07T16:07:39.267574",
     "status": "completed"
    },
    "tags": []
   },
   "source": [
    "# Reading Data"
   ]
  },
  {
   "cell_type": "code",
   "execution_count": 3,
   "id": "26b0e2c0",
   "metadata": {
    "execution": {
     "iopub.execute_input": "2022-12-07T16:07:39.318125Z",
     "iopub.status.busy": "2022-12-07T16:07:39.316876Z",
     "iopub.status.idle": "2022-12-07T16:07:39.350419Z",
     "shell.execute_reply": "2022-12-07T16:07:39.349018Z"
    },
    "papermill": {
     "duration": 0.054723,
     "end_time": "2022-12-07T16:07:39.353741",
     "exception": false,
     "start_time": "2022-12-07T16:07:39.299018",
     "status": "completed"
    },
    "tags": []
   },
   "outputs": [],
   "source": [
    "df=pd.read_csv(\"supermarket.csv\") #read_ssv -> функция для читабельности нашего датафрейма\n",
    "# чтение данных с помощью панд"
   ]
  },
  {
   "cell_type": "markdown",
   "id": "e3b071ff",
   "metadata": {
    "papermill": {
     "duration": 0.015646,
     "end_time": "2022-12-07T16:07:39.385391",
     "exception": false,
     "start_time": "2022-12-07T16:07:39.369745",
     "status": "completed"
    },
    "tags": []
   },
   "source": [
    "# EDA"
   ]
  },
  {
   "cell_type": "code",
   "execution_count": 4,
   "id": "04a707e3",
   "metadata": {
    "execution": {
     "iopub.execute_input": "2022-12-07T16:07:39.419535Z",
     "iopub.status.busy": "2022-12-07T16:07:39.418775Z",
     "iopub.status.idle": "2022-12-07T16:07:39.447820Z",
     "shell.execute_reply": "2022-12-07T16:07:39.446699Z"
    },
    "papermill": {
     "duration": 0.049425,
     "end_time": "2022-12-07T16:07:39.450572",
     "exception": false,
     "start_time": "2022-12-07T16:07:39.401147",
     "status": "completed"
    },
    "tags": []
   },
   "outputs": [
    {
     "data": {
      "text/html": [
       "<div>\n",
       "<style scoped>\n",
       "    .dataframe tbody tr th:only-of-type {\n",
       "        vertical-align: middle;\n",
       "    }\n",
       "\n",
       "    .dataframe tbody tr th {\n",
       "        vertical-align: top;\n",
       "    }\n",
       "\n",
       "    .dataframe thead th {\n",
       "        text-align: right;\n",
       "    }\n",
       "</style>\n",
       "<table border=\"1\" class=\"dataframe\">\n",
       "  <thead>\n",
       "    <tr style=\"text-align: right;\">\n",
       "      <th></th>\n",
       "      <th>Invoice ID</th>\n",
       "      <th>Branch</th>\n",
       "      <th>City</th>\n",
       "      <th>Customer type</th>\n",
       "      <th>Gender</th>\n",
       "      <th>Product line</th>\n",
       "      <th>Unit price</th>\n",
       "      <th>Quantity</th>\n",
       "      <th>Tax 5%</th>\n",
       "      <th>Total</th>\n",
       "      <th>Date</th>\n",
       "      <th>Time</th>\n",
       "      <th>Payment</th>\n",
       "      <th>cogs</th>\n",
       "      <th>gross margin percentage</th>\n",
       "      <th>gross income</th>\n",
       "      <th>Rating</th>\n",
       "    </tr>\n",
       "  </thead>\n",
       "  <tbody>\n",
       "    <tr>\n",
       "      <th>0</th>\n",
       "      <td>750-67-8428</td>\n",
       "      <td>A</td>\n",
       "      <td>Yangon</td>\n",
       "      <td>Member</td>\n",
       "      <td>Female</td>\n",
       "      <td>Health and beauty</td>\n",
       "      <td>74.69</td>\n",
       "      <td>7</td>\n",
       "      <td>26.1415</td>\n",
       "      <td>548.9715</td>\n",
       "      <td>1/5/2019</td>\n",
       "      <td>13:08</td>\n",
       "      <td>Ewallet</td>\n",
       "      <td>522.83</td>\n",
       "      <td>4.761905</td>\n",
       "      <td>26.1415</td>\n",
       "      <td>9.1</td>\n",
       "    </tr>\n",
       "    <tr>\n",
       "      <th>1</th>\n",
       "      <td>226-31-3081</td>\n",
       "      <td>C</td>\n",
       "      <td>Naypyitaw</td>\n",
       "      <td>Normal</td>\n",
       "      <td>Female</td>\n",
       "      <td>Electronic accessories</td>\n",
       "      <td>15.28</td>\n",
       "      <td>5</td>\n",
       "      <td>3.8200</td>\n",
       "      <td>80.2200</td>\n",
       "      <td>3/8/2019</td>\n",
       "      <td>10:29</td>\n",
       "      <td>Cash</td>\n",
       "      <td>76.40</td>\n",
       "      <td>4.761905</td>\n",
       "      <td>3.8200</td>\n",
       "      <td>9.6</td>\n",
       "    </tr>\n",
       "    <tr>\n",
       "      <th>2</th>\n",
       "      <td>631-41-3108</td>\n",
       "      <td>A</td>\n",
       "      <td>Yangon</td>\n",
       "      <td>Normal</td>\n",
       "      <td>Male</td>\n",
       "      <td>Home and lifestyle</td>\n",
       "      <td>46.33</td>\n",
       "      <td>7</td>\n",
       "      <td>16.2155</td>\n",
       "      <td>340.5255</td>\n",
       "      <td>3/3/2019</td>\n",
       "      <td>13:23</td>\n",
       "      <td>Credit card</td>\n",
       "      <td>324.31</td>\n",
       "      <td>4.761905</td>\n",
       "      <td>16.2155</td>\n",
       "      <td>7.4</td>\n",
       "    </tr>\n",
       "    <tr>\n",
       "      <th>3</th>\n",
       "      <td>123-19-1176</td>\n",
       "      <td>A</td>\n",
       "      <td>Yangon</td>\n",
       "      <td>Member</td>\n",
       "      <td>Male</td>\n",
       "      <td>Health and beauty</td>\n",
       "      <td>58.22</td>\n",
       "      <td>8</td>\n",
       "      <td>23.2880</td>\n",
       "      <td>489.0480</td>\n",
       "      <td>1/27/2019</td>\n",
       "      <td>20:33</td>\n",
       "      <td>Ewallet</td>\n",
       "      <td>465.76</td>\n",
       "      <td>4.761905</td>\n",
       "      <td>23.2880</td>\n",
       "      <td>8.4</td>\n",
       "    </tr>\n",
       "    <tr>\n",
       "      <th>4</th>\n",
       "      <td>373-73-7910</td>\n",
       "      <td>A</td>\n",
       "      <td>Yangon</td>\n",
       "      <td>Normal</td>\n",
       "      <td>Male</td>\n",
       "      <td>Sports and travel</td>\n",
       "      <td>86.31</td>\n",
       "      <td>7</td>\n",
       "      <td>30.2085</td>\n",
       "      <td>634.3785</td>\n",
       "      <td>2/8/2019</td>\n",
       "      <td>10:37</td>\n",
       "      <td>Ewallet</td>\n",
       "      <td>604.17</td>\n",
       "      <td>4.761905</td>\n",
       "      <td>30.2085</td>\n",
       "      <td>5.3</td>\n",
       "    </tr>\n",
       "  </tbody>\n",
       "</table>\n",
       "</div>"
      ],
      "text/plain": [
       "    Invoice ID Branch       City Customer type  Gender  \\\n",
       "0  750-67-8428      A     Yangon        Member  Female   \n",
       "1  226-31-3081      C  Naypyitaw        Normal  Female   \n",
       "2  631-41-3108      A     Yangon        Normal    Male   \n",
       "3  123-19-1176      A     Yangon        Member    Male   \n",
       "4  373-73-7910      A     Yangon        Normal    Male   \n",
       "\n",
       "             Product line  Unit price  Quantity   Tax 5%     Total       Date  \\\n",
       "0       Health and beauty       74.69         7  26.1415  548.9715   1/5/2019   \n",
       "1  Electronic accessories       15.28         5   3.8200   80.2200   3/8/2019   \n",
       "2      Home and lifestyle       46.33         7  16.2155  340.5255   3/3/2019   \n",
       "3       Health and beauty       58.22         8  23.2880  489.0480  1/27/2019   \n",
       "4       Sports and travel       86.31         7  30.2085  634.3785   2/8/2019   \n",
       "\n",
       "    Time      Payment    cogs  gross margin percentage  gross income  Rating  \n",
       "0  13:08      Ewallet  522.83                 4.761905       26.1415     9.1  \n",
       "1  10:29         Cash   76.40                 4.761905        3.8200     9.6  \n",
       "2  13:23  Credit card  324.31                 4.761905       16.2155     7.4  \n",
       "3  20:33      Ewallet  465.76                 4.761905       23.2880     8.4  \n",
       "4  10:37      Ewallet  604.17                 4.761905       30.2085     5.3  "
      ]
     },
     "execution_count": 4,
     "metadata": {},
     "output_type": "execute_result"
    }
   ],
   "source": [
    "df.head()\n",
    "# он показывает первые 5 строк"
   ]
  },
  {
   "cell_type": "code",
   "execution_count": 5,
   "id": "fbe8d11f",
   "metadata": {
    "execution": {
     "iopub.execute_input": "2022-12-07T16:07:39.485133Z",
     "iopub.status.busy": "2022-12-07T16:07:39.484688Z",
     "iopub.status.idle": "2022-12-07T16:07:39.507872Z",
     "shell.execute_reply": "2022-12-07T16:07:39.506676Z"
    },
    "papermill": {
     "duration": 0.043233,
     "end_time": "2022-12-07T16:07:39.510190",
     "exception": false,
     "start_time": "2022-12-07T16:07:39.466957",
     "status": "completed"
    },
    "tags": []
   },
   "outputs": [
    {
     "data": {
      "text/html": [
       "<div>\n",
       "<style scoped>\n",
       "    .dataframe tbody tr th:only-of-type {\n",
       "        vertical-align: middle;\n",
       "    }\n",
       "\n",
       "    .dataframe tbody tr th {\n",
       "        vertical-align: top;\n",
       "    }\n",
       "\n",
       "    .dataframe thead th {\n",
       "        text-align: right;\n",
       "    }\n",
       "</style>\n",
       "<table border=\"1\" class=\"dataframe\">\n",
       "  <thead>\n",
       "    <tr style=\"text-align: right;\">\n",
       "      <th></th>\n",
       "      <th>Invoice ID</th>\n",
       "      <th>Branch</th>\n",
       "      <th>City</th>\n",
       "      <th>Customer type</th>\n",
       "      <th>Gender</th>\n",
       "      <th>Product line</th>\n",
       "      <th>Unit price</th>\n",
       "      <th>Quantity</th>\n",
       "      <th>Tax 5%</th>\n",
       "      <th>Total</th>\n",
       "      <th>Date</th>\n",
       "      <th>Time</th>\n",
       "      <th>Payment</th>\n",
       "      <th>cogs</th>\n",
       "      <th>gross margin percentage</th>\n",
       "      <th>gross income</th>\n",
       "      <th>Rating</th>\n",
       "    </tr>\n",
       "  </thead>\n",
       "  <tbody>\n",
       "    <tr>\n",
       "      <th>995</th>\n",
       "      <td>233-67-5758</td>\n",
       "      <td>C</td>\n",
       "      <td>Naypyitaw</td>\n",
       "      <td>Normal</td>\n",
       "      <td>Male</td>\n",
       "      <td>Health and beauty</td>\n",
       "      <td>40.35</td>\n",
       "      <td>1</td>\n",
       "      <td>2.0175</td>\n",
       "      <td>42.3675</td>\n",
       "      <td>1/29/2019</td>\n",
       "      <td>13:46</td>\n",
       "      <td>Ewallet</td>\n",
       "      <td>40.35</td>\n",
       "      <td>4.761905</td>\n",
       "      <td>2.0175</td>\n",
       "      <td>6.2</td>\n",
       "    </tr>\n",
       "    <tr>\n",
       "      <th>996</th>\n",
       "      <td>303-96-2227</td>\n",
       "      <td>B</td>\n",
       "      <td>Mandalay</td>\n",
       "      <td>Normal</td>\n",
       "      <td>Female</td>\n",
       "      <td>Home and lifestyle</td>\n",
       "      <td>97.38</td>\n",
       "      <td>10</td>\n",
       "      <td>48.6900</td>\n",
       "      <td>1022.4900</td>\n",
       "      <td>3/2/2019</td>\n",
       "      <td>17:16</td>\n",
       "      <td>Ewallet</td>\n",
       "      <td>973.80</td>\n",
       "      <td>4.761905</td>\n",
       "      <td>48.6900</td>\n",
       "      <td>4.4</td>\n",
       "    </tr>\n",
       "    <tr>\n",
       "      <th>997</th>\n",
       "      <td>727-02-1313</td>\n",
       "      <td>A</td>\n",
       "      <td>Yangon</td>\n",
       "      <td>Member</td>\n",
       "      <td>Male</td>\n",
       "      <td>Food and beverages</td>\n",
       "      <td>31.84</td>\n",
       "      <td>1</td>\n",
       "      <td>1.5920</td>\n",
       "      <td>33.4320</td>\n",
       "      <td>2/9/2019</td>\n",
       "      <td>13:22</td>\n",
       "      <td>Cash</td>\n",
       "      <td>31.84</td>\n",
       "      <td>4.761905</td>\n",
       "      <td>1.5920</td>\n",
       "      <td>7.7</td>\n",
       "    </tr>\n",
       "    <tr>\n",
       "      <th>998</th>\n",
       "      <td>347-56-2442</td>\n",
       "      <td>A</td>\n",
       "      <td>Yangon</td>\n",
       "      <td>Normal</td>\n",
       "      <td>Male</td>\n",
       "      <td>Home and lifestyle</td>\n",
       "      <td>65.82</td>\n",
       "      <td>1</td>\n",
       "      <td>3.2910</td>\n",
       "      <td>69.1110</td>\n",
       "      <td>2/22/2019</td>\n",
       "      <td>15:33</td>\n",
       "      <td>Cash</td>\n",
       "      <td>65.82</td>\n",
       "      <td>4.761905</td>\n",
       "      <td>3.2910</td>\n",
       "      <td>4.1</td>\n",
       "    </tr>\n",
       "    <tr>\n",
       "      <th>999</th>\n",
       "      <td>849-09-3807</td>\n",
       "      <td>A</td>\n",
       "      <td>Yangon</td>\n",
       "      <td>Member</td>\n",
       "      <td>Female</td>\n",
       "      <td>Fashion accessories</td>\n",
       "      <td>88.34</td>\n",
       "      <td>7</td>\n",
       "      <td>30.9190</td>\n",
       "      <td>649.2990</td>\n",
       "      <td>2/18/2019</td>\n",
       "      <td>13:28</td>\n",
       "      <td>Cash</td>\n",
       "      <td>618.38</td>\n",
       "      <td>4.761905</td>\n",
       "      <td>30.9190</td>\n",
       "      <td>6.6</td>\n",
       "    </tr>\n",
       "  </tbody>\n",
       "</table>\n",
       "</div>"
      ],
      "text/plain": [
       "      Invoice ID Branch       City Customer type  Gender         Product line  \\\n",
       "995  233-67-5758      C  Naypyitaw        Normal    Male    Health and beauty   \n",
       "996  303-96-2227      B   Mandalay        Normal  Female   Home and lifestyle   \n",
       "997  727-02-1313      A     Yangon        Member    Male   Food and beverages   \n",
       "998  347-56-2442      A     Yangon        Normal    Male   Home and lifestyle   \n",
       "999  849-09-3807      A     Yangon        Member  Female  Fashion accessories   \n",
       "\n",
       "     Unit price  Quantity   Tax 5%      Total       Date   Time  Payment  \\\n",
       "995       40.35         1   2.0175    42.3675  1/29/2019  13:46  Ewallet   \n",
       "996       97.38        10  48.6900  1022.4900   3/2/2019  17:16  Ewallet   \n",
       "997       31.84         1   1.5920    33.4320   2/9/2019  13:22     Cash   \n",
       "998       65.82         1   3.2910    69.1110  2/22/2019  15:33     Cash   \n",
       "999       88.34         7  30.9190   649.2990  2/18/2019  13:28     Cash   \n",
       "\n",
       "       cogs  gross margin percentage  gross income  Rating  \n",
       "995   40.35                 4.761905        2.0175     6.2  \n",
       "996  973.80                 4.761905       48.6900     4.4  \n",
       "997   31.84                 4.761905        1.5920     7.7  \n",
       "998   65.82                 4.761905        3.2910     4.1  \n",
       "999  618.38                 4.761905       30.9190     6.6  "
      ]
     },
     "execution_count": 5,
     "metadata": {},
     "output_type": "execute_result"
    }
   ],
   "source": [
    "df.tail()\n",
    "#показывает последние 5 строк"
   ]
  },
  {
   "cell_type": "code",
   "execution_count": 6,
   "id": "6c1a317a",
   "metadata": {
    "execution": {
     "iopub.execute_input": "2022-12-07T16:07:39.545365Z",
     "iopub.status.busy": "2022-12-07T16:07:39.544948Z",
     "iopub.status.idle": "2022-12-07T16:07:39.574496Z",
     "shell.execute_reply": "2022-12-07T16:07:39.572982Z"
    },
    "papermill": {
     "duration": 0.05024,
     "end_time": "2022-12-07T16:07:39.577191",
     "exception": false,
     "start_time": "2022-12-07T16:07:39.526951",
     "status": "completed"
    },
    "tags": []
   },
   "outputs": [
    {
     "name": "stdout",
     "output_type": "stream",
     "text": [
      "<class 'pandas.core.frame.DataFrame'>\n",
      "RangeIndex: 1000 entries, 0 to 999\n",
      "Data columns (total 17 columns):\n",
      " #   Column                   Non-Null Count  Dtype  \n",
      "---  ------                   --------------  -----  \n",
      " 0   Invoice ID               1000 non-null   object \n",
      " 1   Branch                   1000 non-null   object \n",
      " 2   City                     1000 non-null   object \n",
      " 3   Customer type            1000 non-null   object \n",
      " 4   Gender                   1000 non-null   object \n",
      " 5   Product line             1000 non-null   object \n",
      " 6   Unit price               1000 non-null   float64\n",
      " 7   Quantity                 1000 non-null   int64  \n",
      " 8   Tax 5%                   1000 non-null   float64\n",
      " 9   Total                    1000 non-null   float64\n",
      " 10  Date                     1000 non-null   object \n",
      " 11  Time                     1000 non-null   object \n",
      " 12  Payment                  1000 non-null   object \n",
      " 13  cogs                     1000 non-null   float64\n",
      " 14  gross margin percentage  1000 non-null   float64\n",
      " 15  gross income             1000 non-null   float64\n",
      " 16  Rating                   1000 non-null   float64\n",
      "dtypes: float64(7), int64(1), object(9)\n",
      "memory usage: 132.9+ KB\n"
     ]
    }
   ],
   "source": [
    "df.info()\n",
    "#Показывает общую информацию о столбцах.\n"
   ]
  },
  {
   "cell_type": "code",
   "execution_count": 7,
   "id": "54cc49df",
   "metadata": {
    "execution": {
     "iopub.execute_input": "2022-12-07T16:07:39.612215Z",
     "iopub.status.busy": "2022-12-07T16:07:39.611809Z",
     "iopub.status.idle": "2022-12-07T16:07:39.621170Z",
     "shell.execute_reply": "2022-12-07T16:07:39.620148Z"
    },
    "papermill": {
     "duration": 0.029613,
     "end_time": "2022-12-07T16:07:39.623371",
     "exception": false,
     "start_time": "2022-12-07T16:07:39.593758",
     "status": "completed"
    },
    "tags": []
   },
   "outputs": [
    {
     "data": {
      "text/plain": [
       "Invoice ID                 0\n",
       "Branch                     0\n",
       "City                       0\n",
       "Customer type              0\n",
       "Gender                     0\n",
       "Product line               0\n",
       "Unit price                 0\n",
       "Quantity                   0\n",
       "Tax 5%                     0\n",
       "Total                      0\n",
       "Date                       0\n",
       "Time                       0\n",
       "Payment                    0\n",
       "cogs                       0\n",
       "gross margin percentage    0\n",
       "gross income               0\n",
       "Rating                     0\n",
       "dtype: int64"
      ]
     },
     "execution_count": 7,
     "metadata": {},
     "output_type": "execute_result"
    }
   ],
   "source": [
    "df.isnull().sum()\n",
    "#Показывает, есть ли какие-либо пропущенные значения в нашем наборе данных"
   ]
  },
  {
   "cell_type": "code",
   "execution_count": 8,
   "id": "dd5d608e",
   "metadata": {
    "execution": {
     "iopub.execute_input": "2022-12-07T16:07:39.658799Z",
     "iopub.status.busy": "2022-12-07T16:07:39.658315Z",
     "iopub.status.idle": "2022-12-07T16:07:39.687290Z",
     "shell.execute_reply": "2022-12-07T16:07:39.686457Z"
    },
    "papermill": {
     "duration": 0.04933,
     "end_time": "2022-12-07T16:07:39.689451",
     "exception": false,
     "start_time": "2022-12-07T16:07:39.640121",
     "status": "completed"
    },
    "tags": []
   },
   "outputs": [
    {
     "data": {
      "text/html": [
       "<div>\n",
       "<style scoped>\n",
       "    .dataframe tbody tr th:only-of-type {\n",
       "        vertical-align: middle;\n",
       "    }\n",
       "\n",
       "    .dataframe tbody tr th {\n",
       "        vertical-align: top;\n",
       "    }\n",
       "\n",
       "    .dataframe thead th {\n",
       "        text-align: right;\n",
       "    }\n",
       "</style>\n",
       "<table border=\"1\" class=\"dataframe\">\n",
       "  <thead>\n",
       "    <tr style=\"text-align: right;\">\n",
       "      <th></th>\n",
       "      <th>Invoice ID</th>\n",
       "      <th>Branch</th>\n",
       "      <th>City</th>\n",
       "      <th>Customer type</th>\n",
       "      <th>Gender</th>\n",
       "      <th>Product line</th>\n",
       "      <th>Unit price</th>\n",
       "      <th>Quantity</th>\n",
       "      <th>Tax 5%</th>\n",
       "      <th>Total</th>\n",
       "      <th>Date</th>\n",
       "      <th>Time</th>\n",
       "      <th>Payment</th>\n",
       "      <th>cogs</th>\n",
       "      <th>gross margin percentage</th>\n",
       "      <th>gross income</th>\n",
       "      <th>Rating</th>\n",
       "    </tr>\n",
       "  </thead>\n",
       "  <tbody>\n",
       "    <tr>\n",
       "      <th>509</th>\n",
       "      <td>602-80-9671</td>\n",
       "      <td>C</td>\n",
       "      <td>Naypyitaw</td>\n",
       "      <td>Member</td>\n",
       "      <td>Female</td>\n",
       "      <td>Home and lifestyle</td>\n",
       "      <td>15.95</td>\n",
       "      <td>6</td>\n",
       "      <td>4.7850</td>\n",
       "      <td>100.4850</td>\n",
       "      <td>2/9/2019</td>\n",
       "      <td>17:15</td>\n",
       "      <td>Credit card</td>\n",
       "      <td>95.70</td>\n",
       "      <td>4.761905</td>\n",
       "      <td>4.7850</td>\n",
       "      <td>5.1</td>\n",
       "    </tr>\n",
       "    <tr>\n",
       "      <th>937</th>\n",
       "      <td>361-85-2571</td>\n",
       "      <td>A</td>\n",
       "      <td>Yangon</td>\n",
       "      <td>Normal</td>\n",
       "      <td>Female</td>\n",
       "      <td>Sports and travel</td>\n",
       "      <td>89.48</td>\n",
       "      <td>5</td>\n",
       "      <td>22.3700</td>\n",
       "      <td>469.7700</td>\n",
       "      <td>3/30/2019</td>\n",
       "      <td>10:18</td>\n",
       "      <td>Cash</td>\n",
       "      <td>447.40</td>\n",
       "      <td>4.761905</td>\n",
       "      <td>22.3700</td>\n",
       "      <td>7.4</td>\n",
       "    </tr>\n",
       "    <tr>\n",
       "      <th>82</th>\n",
       "      <td>480-63-2856</td>\n",
       "      <td>C</td>\n",
       "      <td>Naypyitaw</td>\n",
       "      <td>Normal</td>\n",
       "      <td>Male</td>\n",
       "      <td>Food and beverages</td>\n",
       "      <td>19.25</td>\n",
       "      <td>8</td>\n",
       "      <td>7.7000</td>\n",
       "      <td>161.7000</td>\n",
       "      <td>1/23/2019</td>\n",
       "      <td>18:37</td>\n",
       "      <td>Ewallet</td>\n",
       "      <td>154.00</td>\n",
       "      <td>4.761905</td>\n",
       "      <td>7.7000</td>\n",
       "      <td>6.6</td>\n",
       "    </tr>\n",
       "    <tr>\n",
       "      <th>861</th>\n",
       "      <td>840-76-5966</td>\n",
       "      <td>A</td>\n",
       "      <td>Yangon</td>\n",
       "      <td>Member</td>\n",
       "      <td>Male</td>\n",
       "      <td>Sports and travel</td>\n",
       "      <td>12.76</td>\n",
       "      <td>2</td>\n",
       "      <td>1.2760</td>\n",
       "      <td>26.7960</td>\n",
       "      <td>1/8/2019</td>\n",
       "      <td>18:06</td>\n",
       "      <td>Ewallet</td>\n",
       "      <td>25.52</td>\n",
       "      <td>4.761905</td>\n",
       "      <td>1.2760</td>\n",
       "      <td>7.8</td>\n",
       "    </tr>\n",
       "    <tr>\n",
       "      <th>319</th>\n",
       "      <td>787-15-1757</td>\n",
       "      <td>C</td>\n",
       "      <td>Naypyitaw</td>\n",
       "      <td>Member</td>\n",
       "      <td>Male</td>\n",
       "      <td>Health and beauty</td>\n",
       "      <td>44.07</td>\n",
       "      <td>4</td>\n",
       "      <td>8.8140</td>\n",
       "      <td>185.0940</td>\n",
       "      <td>2/18/2019</td>\n",
       "      <td>16:28</td>\n",
       "      <td>Ewallet</td>\n",
       "      <td>176.28</td>\n",
       "      <td>4.761905</td>\n",
       "      <td>8.8140</td>\n",
       "      <td>8.4</td>\n",
       "    </tr>\n",
       "    <tr>\n",
       "      <th>596</th>\n",
       "      <td>152-68-2907</td>\n",
       "      <td>A</td>\n",
       "      <td>Yangon</td>\n",
       "      <td>Normal</td>\n",
       "      <td>Male</td>\n",
       "      <td>Food and beverages</td>\n",
       "      <td>52.20</td>\n",
       "      <td>3</td>\n",
       "      <td>7.8300</td>\n",
       "      <td>164.4300</td>\n",
       "      <td>2/15/2019</td>\n",
       "      <td>13:30</td>\n",
       "      <td>Credit card</td>\n",
       "      <td>156.60</td>\n",
       "      <td>4.761905</td>\n",
       "      <td>7.8300</td>\n",
       "      <td>9.5</td>\n",
       "    </tr>\n",
       "    <tr>\n",
       "      <th>769</th>\n",
       "      <td>886-54-6089</td>\n",
       "      <td>A</td>\n",
       "      <td>Yangon</td>\n",
       "      <td>Normal</td>\n",
       "      <td>Female</td>\n",
       "      <td>Home and lifestyle</td>\n",
       "      <td>11.43</td>\n",
       "      <td>6</td>\n",
       "      <td>3.4290</td>\n",
       "      <td>72.0090</td>\n",
       "      <td>1/15/2019</td>\n",
       "      <td>17:24</td>\n",
       "      <td>Cash</td>\n",
       "      <td>68.58</td>\n",
       "      <td>4.761905</td>\n",
       "      <td>3.4290</td>\n",
       "      <td>7.7</td>\n",
       "    </tr>\n",
       "    <tr>\n",
       "      <th>877</th>\n",
       "      <td>608-05-3804</td>\n",
       "      <td>B</td>\n",
       "      <td>Mandalay</td>\n",
       "      <td>Member</td>\n",
       "      <td>Male</td>\n",
       "      <td>Electronic accessories</td>\n",
       "      <td>39.75</td>\n",
       "      <td>1</td>\n",
       "      <td>1.9875</td>\n",
       "      <td>41.7375</td>\n",
       "      <td>2/25/2019</td>\n",
       "      <td>20:19</td>\n",
       "      <td>Cash</td>\n",
       "      <td>39.75</td>\n",
       "      <td>4.761905</td>\n",
       "      <td>1.9875</td>\n",
       "      <td>6.1</td>\n",
       "    </tr>\n",
       "    <tr>\n",
       "      <th>116</th>\n",
       "      <td>291-32-1427</td>\n",
       "      <td>B</td>\n",
       "      <td>Mandalay</td>\n",
       "      <td>Member</td>\n",
       "      <td>Male</td>\n",
       "      <td>Fashion accessories</td>\n",
       "      <td>21.94</td>\n",
       "      <td>5</td>\n",
       "      <td>5.4850</td>\n",
       "      <td>115.1850</td>\n",
       "      <td>3/5/2019</td>\n",
       "      <td>12:29</td>\n",
       "      <td>Ewallet</td>\n",
       "      <td>109.70</td>\n",
       "      <td>4.761905</td>\n",
       "      <td>5.4850</td>\n",
       "      <td>5.3</td>\n",
       "    </tr>\n",
       "    <tr>\n",
       "      <th>932</th>\n",
       "      <td>243-55-8457</td>\n",
       "      <td>A</td>\n",
       "      <td>Yangon</td>\n",
       "      <td>Normal</td>\n",
       "      <td>Female</td>\n",
       "      <td>Food and beverages</td>\n",
       "      <td>74.44</td>\n",
       "      <td>10</td>\n",
       "      <td>37.2200</td>\n",
       "      <td>781.6200</td>\n",
       "      <td>2/27/2019</td>\n",
       "      <td>11:40</td>\n",
       "      <td>Ewallet</td>\n",
       "      <td>744.40</td>\n",
       "      <td>4.761905</td>\n",
       "      <td>37.2200</td>\n",
       "      <td>5.1</td>\n",
       "    </tr>\n",
       "  </tbody>\n",
       "</table>\n",
       "</div>"
      ],
      "text/plain": [
       "      Invoice ID Branch       City Customer type  Gender  \\\n",
       "509  602-80-9671      C  Naypyitaw        Member  Female   \n",
       "937  361-85-2571      A     Yangon        Normal  Female   \n",
       "82   480-63-2856      C  Naypyitaw        Normal    Male   \n",
       "861  840-76-5966      A     Yangon        Member    Male   \n",
       "319  787-15-1757      C  Naypyitaw        Member    Male   \n",
       "596  152-68-2907      A     Yangon        Normal    Male   \n",
       "769  886-54-6089      A     Yangon        Normal  Female   \n",
       "877  608-05-3804      B   Mandalay        Member    Male   \n",
       "116  291-32-1427      B   Mandalay        Member    Male   \n",
       "932  243-55-8457      A     Yangon        Normal  Female   \n",
       "\n",
       "               Product line  Unit price  Quantity   Tax 5%     Total  \\\n",
       "509      Home and lifestyle       15.95         6   4.7850  100.4850   \n",
       "937       Sports and travel       89.48         5  22.3700  469.7700   \n",
       "82       Food and beverages       19.25         8   7.7000  161.7000   \n",
       "861       Sports and travel       12.76         2   1.2760   26.7960   \n",
       "319       Health and beauty       44.07         4   8.8140  185.0940   \n",
       "596      Food and beverages       52.20         3   7.8300  164.4300   \n",
       "769      Home and lifestyle       11.43         6   3.4290   72.0090   \n",
       "877  Electronic accessories       39.75         1   1.9875   41.7375   \n",
       "116     Fashion accessories       21.94         5   5.4850  115.1850   \n",
       "932      Food and beverages       74.44        10  37.2200  781.6200   \n",
       "\n",
       "          Date   Time      Payment    cogs  gross margin percentage  \\\n",
       "509   2/9/2019  17:15  Credit card   95.70                 4.761905   \n",
       "937  3/30/2019  10:18         Cash  447.40                 4.761905   \n",
       "82   1/23/2019  18:37      Ewallet  154.00                 4.761905   \n",
       "861   1/8/2019  18:06      Ewallet   25.52                 4.761905   \n",
       "319  2/18/2019  16:28      Ewallet  176.28                 4.761905   \n",
       "596  2/15/2019  13:30  Credit card  156.60                 4.761905   \n",
       "769  1/15/2019  17:24         Cash   68.58                 4.761905   \n",
       "877  2/25/2019  20:19         Cash   39.75                 4.761905   \n",
       "116   3/5/2019  12:29      Ewallet  109.70                 4.761905   \n",
       "932  2/27/2019  11:40      Ewallet  744.40                 4.761905   \n",
       "\n",
       "     gross income  Rating  \n",
       "509        4.7850     5.1  \n",
       "937       22.3700     7.4  \n",
       "82         7.7000     6.6  \n",
       "861        1.2760     7.8  \n",
       "319        8.8140     8.4  \n",
       "596        7.8300     9.5  \n",
       "769        3.4290     7.7  \n",
       "877        1.9875     6.1  \n",
       "116        5.4850     5.3  \n",
       "932       37.2200     5.1  "
      ]
     },
     "execution_count": 8,
     "metadata": {},
     "output_type": "execute_result"
    }
   ],
   "source": [
    "df.sample(10)\n",
    "# случайные 10 строк в наборе данных"
   ]
  },
  {
   "cell_type": "markdown",
   "id": "ba5a8225",
   "metadata": {
    "papermill": {
     "duration": 0.016705,
     "end_time": "2022-12-07T16:07:39.723331",
     "exception": false,
     "start_time": "2022-12-07T16:07:39.706626",
     "status": "completed"
    },
    "tags": []
   },
   "source": [
    "# Глубокое понимание"
   ]
  },
  {
   "cell_type": "code",
   "execution_count": 9,
   "id": "8ed94a6b",
   "metadata": {
    "execution": {
     "iopub.execute_input": "2022-12-07T16:07:39.759287Z",
     "iopub.status.busy": "2022-12-07T16:07:39.758834Z",
     "iopub.status.idle": "2022-12-07T16:07:39.767013Z",
     "shell.execute_reply": "2022-12-07T16:07:39.765628Z"
    },
    "papermill": {
     "duration": 0.028833,
     "end_time": "2022-12-07T16:07:39.769209",
     "exception": false,
     "start_time": "2022-12-07T16:07:39.740376",
     "status": "completed"
    },
    "tags": []
   },
   "outputs": [
    {
     "data": {
      "text/plain": [
       "array(['Yangon', 'Naypyitaw', 'Mandalay'], dtype=object)"
      ]
     },
     "execution_count": 9,
     "metadata": {},
     "output_type": "execute_result"
    }
   ],
   "source": [
    "df[\"City\"].unique()\n",
    "#уникальные значения столбца Город"
   ]
  },
  {
   "cell_type": "code",
   "execution_count": 10,
   "id": "60381eeb",
   "metadata": {
    "execution": {
     "iopub.execute_input": "2022-12-07T16:07:39.805861Z",
     "iopub.status.busy": "2022-12-07T16:07:39.805402Z",
     "iopub.status.idle": "2022-12-07T16:07:39.812681Z",
     "shell.execute_reply": "2022-12-07T16:07:39.811793Z"
    },
    "papermill": {
     "duration": 0.028106,
     "end_time": "2022-12-07T16:07:39.814860",
     "exception": false,
     "start_time": "2022-12-07T16:07:39.786754",
     "status": "completed"
    },
    "tags": []
   },
   "outputs": [
    {
     "data": {
      "text/plain": [
       "3"
      ]
     },
     "execution_count": 10,
     "metadata": {},
     "output_type": "execute_result"
    }
   ],
   "source": [
    "df.Branch.nunique()\n",
    "#количество уникальных значений столбца Branch"
   ]
  },
  {
   "cell_type": "code",
   "execution_count": 11,
   "id": "e3dfa97c",
   "metadata": {
    "execution": {
     "iopub.execute_input": "2022-12-07T16:07:39.855381Z",
     "iopub.status.busy": "2022-12-07T16:07:39.854893Z",
     "iopub.status.idle": "2022-12-07T16:07:39.863093Z",
     "shell.execute_reply": "2022-12-07T16:07:39.861787Z"
    },
    "papermill": {
     "duration": 0.03115,
     "end_time": "2022-12-07T16:07:39.865627",
     "exception": false,
     "start_time": "2022-12-07T16:07:39.834477",
     "status": "completed"
    },
    "tags": []
   },
   "outputs": [
    {
     "data": {
      "text/plain": [
       "array(['A', 'C', 'B'], dtype=object)"
      ]
     },
     "execution_count": 11,
     "metadata": {},
     "output_type": "execute_result"
    }
   ],
   "source": [
    "df.Branch.unique()\n",
    "#уникальные значения столбца Город"
   ]
  },
  {
   "cell_type": "code",
   "execution_count": 12,
   "id": "8ecf64d2",
   "metadata": {
    "execution": {
     "iopub.execute_input": "2022-12-07T16:07:39.921146Z",
     "iopub.status.busy": "2022-12-07T16:07:39.920578Z",
     "iopub.status.idle": "2022-12-07T16:07:39.929355Z",
     "shell.execute_reply": "2022-12-07T16:07:39.928234Z"
    },
    "papermill": {
     "duration": 0.039023,
     "end_time": "2022-12-07T16:07:39.931677",
     "exception": false,
     "start_time": "2022-12-07T16:07:39.892654",
     "status": "completed"
    },
    "tags": []
   },
   "outputs": [
    {
     "data": {
      "text/plain": [
       "1042.65"
      ]
     },
     "execution_count": 12,
     "metadata": {},
     "output_type": "execute_result"
    }
   ],
   "source": [
    "df.Total.max()\n",
    "#Максимальная цена штекера\n"
   ]
  },
  {
   "cell_type": "code",
   "execution_count": 13,
   "id": "d3bca127",
   "metadata": {
    "execution": {
     "iopub.execute_input": "2022-12-07T16:07:39.971781Z",
     "iopub.status.busy": "2022-12-07T16:07:39.971351Z",
     "iopub.status.idle": "2022-12-07T16:07:39.985230Z",
     "shell.execute_reply": "2022-12-07T16:07:39.984368Z"
    },
    "papermill": {
     "duration": 0.036617,
     "end_time": "2022-12-07T16:07:39.987952",
     "exception": false,
     "start_time": "2022-12-07T16:07:39.951335",
     "status": "completed"
    },
    "tags": []
   },
   "outputs": [
    {
     "data": {
      "text/plain": [
       "(1042.65,\n",
       " 10.6785,\n",
       " 245.88533510097207,\n",
       " 60459.598017717326,\n",
       " 322.96674900000005,\n",
       " 0     87.2340\n",
       " 1     93.7440\n",
       " 2    175.9170\n",
       " 3    189.0945\n",
       " 4    216.8460\n",
       " 5    217.6335\n",
       " 6    263.9700\n",
       " 7    276.9480\n",
       " 8    470.9880\n",
       " 9    829.0800\n",
       " Name: Total, dtype: float64)"
      ]
     },
     "execution_count": 13,
     "metadata": {},
     "output_type": "execute_result"
    }
   ],
   "source": [
    "df.Total.max(),df.Total.min(),df.Total.std(),df.Total.var(),df.Total.mean(),df.Total.mode()\n",
    "\n",
    "#Много статистических значений\n",
    "# Максимум, Минимум, Стандартное отклонение, Дисперсия, Среднее и Мода соответственно"
   ]
  },
  {
   "cell_type": "code",
   "execution_count": 14,
   "id": "0ebab2d9",
   "metadata": {
    "execution": {
     "iopub.execute_input": "2022-12-07T16:07:40.026454Z",
     "iopub.status.busy": "2022-12-07T16:07:40.026056Z",
     "iopub.status.idle": "2022-12-07T16:07:40.065058Z",
     "shell.execute_reply": "2022-12-07T16:07:40.063979Z"
    },
    "papermill": {
     "duration": 0.061025,
     "end_time": "2022-12-07T16:07:40.067783",
     "exception": false,
     "start_time": "2022-12-07T16:07:40.006758",
     "status": "completed"
    },
    "tags": []
   },
   "outputs": [
    {
     "data": {
      "text/html": [
       "<div>\n",
       "<style scoped>\n",
       "    .dataframe tbody tr th:only-of-type {\n",
       "        vertical-align: middle;\n",
       "    }\n",
       "\n",
       "    .dataframe tbody tr th {\n",
       "        vertical-align: top;\n",
       "    }\n",
       "\n",
       "    .dataframe thead th {\n",
       "        text-align: right;\n",
       "    }\n",
       "</style>\n",
       "<table border=\"1\" class=\"dataframe\">\n",
       "  <thead>\n",
       "    <tr style=\"text-align: right;\">\n",
       "      <th></th>\n",
       "      <th>Unit price</th>\n",
       "      <th>Quantity</th>\n",
       "      <th>Tax 5%</th>\n",
       "      <th>Total</th>\n",
       "      <th>cogs</th>\n",
       "      <th>gross margin percentage</th>\n",
       "      <th>gross income</th>\n",
       "      <th>Rating</th>\n",
       "    </tr>\n",
       "  </thead>\n",
       "  <tbody>\n",
       "    <tr>\n",
       "      <th>count</th>\n",
       "      <td>1000.000000</td>\n",
       "      <td>1000.000000</td>\n",
       "      <td>1000.000000</td>\n",
       "      <td>1000.000000</td>\n",
       "      <td>1000.00000</td>\n",
       "      <td>1.000000e+03</td>\n",
       "      <td>1000.000000</td>\n",
       "      <td>1000.00000</td>\n",
       "    </tr>\n",
       "    <tr>\n",
       "      <th>mean</th>\n",
       "      <td>55.672130</td>\n",
       "      <td>5.510000</td>\n",
       "      <td>15.379369</td>\n",
       "      <td>322.966749</td>\n",
       "      <td>307.58738</td>\n",
       "      <td>4.761905e+00</td>\n",
       "      <td>15.379369</td>\n",
       "      <td>6.97270</td>\n",
       "    </tr>\n",
       "    <tr>\n",
       "      <th>std</th>\n",
       "      <td>26.494628</td>\n",
       "      <td>2.923431</td>\n",
       "      <td>11.708825</td>\n",
       "      <td>245.885335</td>\n",
       "      <td>234.17651</td>\n",
       "      <td>6.131498e-14</td>\n",
       "      <td>11.708825</td>\n",
       "      <td>1.71858</td>\n",
       "    </tr>\n",
       "    <tr>\n",
       "      <th>min</th>\n",
       "      <td>10.080000</td>\n",
       "      <td>1.000000</td>\n",
       "      <td>0.508500</td>\n",
       "      <td>10.678500</td>\n",
       "      <td>10.17000</td>\n",
       "      <td>4.761905e+00</td>\n",
       "      <td>0.508500</td>\n",
       "      <td>4.00000</td>\n",
       "    </tr>\n",
       "    <tr>\n",
       "      <th>25%</th>\n",
       "      <td>32.875000</td>\n",
       "      <td>3.000000</td>\n",
       "      <td>5.924875</td>\n",
       "      <td>124.422375</td>\n",
       "      <td>118.49750</td>\n",
       "      <td>4.761905e+00</td>\n",
       "      <td>5.924875</td>\n",
       "      <td>5.50000</td>\n",
       "    </tr>\n",
       "    <tr>\n",
       "      <th>50%</th>\n",
       "      <td>55.230000</td>\n",
       "      <td>5.000000</td>\n",
       "      <td>12.088000</td>\n",
       "      <td>253.848000</td>\n",
       "      <td>241.76000</td>\n",
       "      <td>4.761905e+00</td>\n",
       "      <td>12.088000</td>\n",
       "      <td>7.00000</td>\n",
       "    </tr>\n",
       "    <tr>\n",
       "      <th>75%</th>\n",
       "      <td>77.935000</td>\n",
       "      <td>8.000000</td>\n",
       "      <td>22.445250</td>\n",
       "      <td>471.350250</td>\n",
       "      <td>448.90500</td>\n",
       "      <td>4.761905e+00</td>\n",
       "      <td>22.445250</td>\n",
       "      <td>8.50000</td>\n",
       "    </tr>\n",
       "    <tr>\n",
       "      <th>max</th>\n",
       "      <td>99.960000</td>\n",
       "      <td>10.000000</td>\n",
       "      <td>49.650000</td>\n",
       "      <td>1042.650000</td>\n",
       "      <td>993.00000</td>\n",
       "      <td>4.761905e+00</td>\n",
       "      <td>49.650000</td>\n",
       "      <td>10.00000</td>\n",
       "    </tr>\n",
       "  </tbody>\n",
       "</table>\n",
       "</div>"
      ],
      "text/plain": [
       "        Unit price     Quantity       Tax 5%        Total        cogs  \\\n",
       "count  1000.000000  1000.000000  1000.000000  1000.000000  1000.00000   \n",
       "mean     55.672130     5.510000    15.379369   322.966749   307.58738   \n",
       "std      26.494628     2.923431    11.708825   245.885335   234.17651   \n",
       "min      10.080000     1.000000     0.508500    10.678500    10.17000   \n",
       "25%      32.875000     3.000000     5.924875   124.422375   118.49750   \n",
       "50%      55.230000     5.000000    12.088000   253.848000   241.76000   \n",
       "75%      77.935000     8.000000    22.445250   471.350250   448.90500   \n",
       "max      99.960000    10.000000    49.650000  1042.650000   993.00000   \n",
       "\n",
       "       gross margin percentage  gross income      Rating  \n",
       "count             1.000000e+03   1000.000000  1000.00000  \n",
       "mean              4.761905e+00     15.379369     6.97270  \n",
       "std               6.131498e-14     11.708825     1.71858  \n",
       "min               4.761905e+00      0.508500     4.00000  \n",
       "25%               4.761905e+00      5.924875     5.50000  \n",
       "50%               4.761905e+00     12.088000     7.00000  \n",
       "75%               4.761905e+00     22.445250     8.50000  \n",
       "max               4.761905e+00     49.650000    10.00000  "
      ]
     },
     "execution_count": 14,
     "metadata": {},
     "output_type": "execute_result"
    }
   ],
   "source": [
    "df.describe()\n",
    "#Показывает статистические значения столбцов типа int или float"
   ]
  },
  {
   "cell_type": "code",
   "execution_count": 15,
   "id": "1ec27a55",
   "metadata": {
    "execution": {
     "iopub.execute_input": "2022-12-07T16:07:40.107111Z",
     "iopub.status.busy": "2022-12-07T16:07:40.106681Z",
     "iopub.status.idle": "2022-12-07T16:07:40.137334Z",
     "shell.execute_reply": "2022-12-07T16:07:40.136424Z"
    },
    "papermill": {
     "duration": 0.053156,
     "end_time": "2022-12-07T16:07:40.139780",
     "exception": false,
     "start_time": "2022-12-07T16:07:40.086624",
     "status": "completed"
    },
    "tags": []
   },
   "outputs": [
    {
     "data": {
      "text/html": [
       "<div>\n",
       "<style scoped>\n",
       "    .dataframe tbody tr th:only-of-type {\n",
       "        vertical-align: middle;\n",
       "    }\n",
       "\n",
       "    .dataframe tbody tr th {\n",
       "        vertical-align: top;\n",
       "    }\n",
       "\n",
       "    .dataframe thead th {\n",
       "        text-align: right;\n",
       "    }\n",
       "</style>\n",
       "<table border=\"1\" class=\"dataframe\">\n",
       "  <thead>\n",
       "    <tr style=\"text-align: right;\">\n",
       "      <th></th>\n",
       "      <th>Invoice ID</th>\n",
       "      <th>Branch</th>\n",
       "      <th>City</th>\n",
       "      <th>Customer type</th>\n",
       "      <th>Gender</th>\n",
       "      <th>Product line</th>\n",
       "      <th>Date</th>\n",
       "      <th>Time</th>\n",
       "      <th>Payment</th>\n",
       "    </tr>\n",
       "  </thead>\n",
       "  <tbody>\n",
       "    <tr>\n",
       "      <th>count</th>\n",
       "      <td>1000</td>\n",
       "      <td>1000</td>\n",
       "      <td>1000</td>\n",
       "      <td>1000</td>\n",
       "      <td>1000</td>\n",
       "      <td>1000</td>\n",
       "      <td>1000</td>\n",
       "      <td>1000</td>\n",
       "      <td>1000</td>\n",
       "    </tr>\n",
       "    <tr>\n",
       "      <th>unique</th>\n",
       "      <td>1000</td>\n",
       "      <td>3</td>\n",
       "      <td>3</td>\n",
       "      <td>2</td>\n",
       "      <td>2</td>\n",
       "      <td>6</td>\n",
       "      <td>89</td>\n",
       "      <td>506</td>\n",
       "      <td>3</td>\n",
       "    </tr>\n",
       "    <tr>\n",
       "      <th>top</th>\n",
       "      <td>750-67-8428</td>\n",
       "      <td>A</td>\n",
       "      <td>Yangon</td>\n",
       "      <td>Member</td>\n",
       "      <td>Female</td>\n",
       "      <td>Fashion accessories</td>\n",
       "      <td>2/7/2019</td>\n",
       "      <td>19:48</td>\n",
       "      <td>Ewallet</td>\n",
       "    </tr>\n",
       "    <tr>\n",
       "      <th>freq</th>\n",
       "      <td>1</td>\n",
       "      <td>340</td>\n",
       "      <td>340</td>\n",
       "      <td>501</td>\n",
       "      <td>501</td>\n",
       "      <td>178</td>\n",
       "      <td>20</td>\n",
       "      <td>7</td>\n",
       "      <td>345</td>\n",
       "    </tr>\n",
       "  </tbody>\n",
       "</table>\n",
       "</div>"
      ],
      "text/plain": [
       "         Invoice ID Branch    City Customer type  Gender         Product line  \\\n",
       "count          1000   1000    1000          1000    1000                 1000   \n",
       "unique         1000      3       3             2       2                    6   \n",
       "top     750-67-8428      A  Yangon        Member  Female  Fashion accessories   \n",
       "freq              1    340     340           501     501                  178   \n",
       "\n",
       "            Date   Time  Payment  \n",
       "count       1000   1000     1000  \n",
       "unique        89    506        3  \n",
       "top     2/7/2019  19:48  Ewallet  \n",
       "freq          20      7      345  "
      ]
     },
     "execution_count": 15,
     "metadata": {},
     "output_type": "execute_result"
    }
   ],
   "source": [
    "df.describe(include=\"O\")\n",
    "#Показывает статистические значения столбцов объектного типа"
   ]
  },
  {
   "cell_type": "markdown",
   "id": "f1e9870e",
   "metadata": {
    "papermill": {
     "duration": 0.017996,
     "end_time": "2022-12-07T16:07:40.176215",
     "exception": false,
     "start_time": "2022-12-07T16:07:40.158219",
     "status": "completed"
    },
    "tags": []
   },
   "source": [
    "# Работа с датами"
   ]
  },
  {
   "cell_type": "code",
   "execution_count": 16,
   "id": "f7ed8895",
   "metadata": {
    "execution": {
     "iopub.execute_input": "2022-12-07T16:07:40.214849Z",
     "iopub.status.busy": "2022-12-07T16:07:40.214447Z",
     "iopub.status.idle": "2022-12-07T16:07:40.227856Z",
     "shell.execute_reply": "2022-12-07T16:07:40.226490Z"
    },
    "papermill": {
     "duration": 0.035809,
     "end_time": "2022-12-07T16:07:40.230347",
     "exception": false,
     "start_time": "2022-12-07T16:07:40.194538",
     "status": "completed"
    },
    "tags": []
   },
   "outputs": [
    {
     "name": "stdout",
     "output_type": "stream",
     "text": [
      "<class 'pandas.core.frame.DataFrame'>\n",
      "RangeIndex: 1000 entries, 0 to 999\n",
      "Data columns (total 17 columns):\n",
      " #   Column                   Non-Null Count  Dtype  \n",
      "---  ------                   --------------  -----  \n",
      " 0   Invoice ID               1000 non-null   object \n",
      " 1   Branch                   1000 non-null   object \n",
      " 2   City                     1000 non-null   object \n",
      " 3   Customer type            1000 non-null   object \n",
      " 4   Gender                   1000 non-null   object \n",
      " 5   Product line             1000 non-null   object \n",
      " 6   Unit price               1000 non-null   float64\n",
      " 7   Quantity                 1000 non-null   int64  \n",
      " 8   Tax 5%                   1000 non-null   float64\n",
      " 9   Total                    1000 non-null   float64\n",
      " 10  Date                     1000 non-null   object \n",
      " 11  Time                     1000 non-null   object \n",
      " 12  Payment                  1000 non-null   object \n",
      " 13  cogs                     1000 non-null   float64\n",
      " 14  gross margin percentage  1000 non-null   float64\n",
      " 15  gross income             1000 non-null   float64\n",
      " 16  Rating                   1000 non-null   float64\n",
      "dtypes: float64(7), int64(1), object(9)\n",
      "memory usage: 132.9+ KB\n"
     ]
    }
   ],
   "source": [
    "df.info()"
   ]
  },
  {
   "cell_type": "code",
   "execution_count": 17,
   "id": "196bcefc",
   "metadata": {
    "execution": {
     "iopub.execute_input": "2022-12-07T16:07:40.269536Z",
     "iopub.status.busy": "2022-12-07T16:07:40.269158Z",
     "iopub.status.idle": "2022-12-07T16:07:40.288255Z",
     "shell.execute_reply": "2022-12-07T16:07:40.287054Z"
    },
    "papermill": {
     "duration": 0.04166,
     "end_time": "2022-12-07T16:07:40.290763",
     "exception": false,
     "start_time": "2022-12-07T16:07:40.249103",
     "status": "completed"
    },
    "tags": []
   },
   "outputs": [],
   "source": [
    "df[\"Date\"]=pd.to_datetime(df[\"Date\"])\n",
    "#Я преобразовал тип столбца Date в DateTime из объекта"
   ]
  },
  {
   "cell_type": "code",
   "execution_count": 18,
   "id": "336a9d73",
   "metadata": {
    "execution": {
     "iopub.execute_input": "2022-12-07T16:07:40.330503Z",
     "iopub.status.busy": "2022-12-07T16:07:40.330109Z",
     "iopub.status.idle": "2022-12-07T16:07:40.345026Z",
     "shell.execute_reply": "2022-12-07T16:07:40.344225Z"
    },
    "papermill": {
     "duration": 0.038152,
     "end_time": "2022-12-07T16:07:40.347702",
     "exception": false,
     "start_time": "2022-12-07T16:07:40.309550",
     "status": "completed"
    },
    "tags": []
   },
   "outputs": [
    {
     "name": "stdout",
     "output_type": "stream",
     "text": [
      "<class 'pandas.core.frame.DataFrame'>\n",
      "RangeIndex: 1000 entries, 0 to 999\n",
      "Data columns (total 17 columns):\n",
      " #   Column                   Non-Null Count  Dtype         \n",
      "---  ------                   --------------  -----         \n",
      " 0   Invoice ID               1000 non-null   object        \n",
      " 1   Branch                   1000 non-null   object        \n",
      " 2   City                     1000 non-null   object        \n",
      " 3   Customer type            1000 non-null   object        \n",
      " 4   Gender                   1000 non-null   object        \n",
      " 5   Product line             1000 non-null   object        \n",
      " 6   Unit price               1000 non-null   float64       \n",
      " 7   Quantity                 1000 non-null   int64         \n",
      " 8   Tax 5%                   1000 non-null   float64       \n",
      " 9   Total                    1000 non-null   float64       \n",
      " 10  Date                     1000 non-null   datetime64[ns]\n",
      " 11  Time                     1000 non-null   object        \n",
      " 12  Payment                  1000 non-null   object        \n",
      " 13  cogs                     1000 non-null   float64       \n",
      " 14  gross margin percentage  1000 non-null   float64       \n",
      " 15  gross income             1000 non-null   float64       \n",
      " 16  Rating                   1000 non-null   float64       \n",
      "dtypes: datetime64[ns](1), float64(7), int64(1), object(8)\n",
      "memory usage: 132.9+ KB\n"
     ]
    }
   ],
   "source": [
    "df.info()"
   ]
  },
  {
   "cell_type": "code",
   "execution_count": 19,
   "id": "8de43313",
   "metadata": {
    "execution": {
     "iopub.execute_input": "2022-12-07T16:07:40.387179Z",
     "iopub.status.busy": "2022-12-07T16:07:40.386760Z",
     "iopub.status.idle": "2022-12-07T16:07:40.398914Z",
     "shell.execute_reply": "2022-12-07T16:07:40.397686Z"
    },
    "papermill": {
     "duration": 0.035318,
     "end_time": "2022-12-07T16:07:40.401711",
     "exception": false,
     "start_time": "2022-12-07T16:07:40.366393",
     "status": "completed"
    },
    "tags": []
   },
   "outputs": [],
   "source": [
    "df[\"day\"]=(df[\"Date\"]).dt.day\n",
    "# Я создаю новый столбец, его имя — день, а затем я извлекаю дни из столбца «Дата».\n",
    "\n",
    "df[\"month\"]=(df[\"Date\"]).dt.month\n",
    "# Я создаю новый столбец, его имя — месяц, а затем я извлекаю месяцы из столбца «Дата».\n",
    "\n",
    "df[\"year\"]=(df[\"Date\"]).dt.year\n",
    "# Я создаю новый столбец, его имя — год, а затем я извлекаю годы из столбца «Дата».\n",
    "\n",
    "df[\"month_name\"]=(df[\"Date\"]).dt.month_name()\n",
    "# Я создаю новый столбец, его имя — month_name, а затем я извлекаю названия месяцев из столбца «Дата».\n",
    "\n",
    "df[\"weekday\"]=(df[\"Date\"]).dt.day_name()\n",
    "# Я создаю новый столбец, его имя — день недели, а затем я извлекаю день недели из столбца «Дата».\n"
   ]
  },
  {
   "cell_type": "code",
   "execution_count": 20,
   "id": "eb241e25",
   "metadata": {
    "execution": {
     "iopub.execute_input": "2022-12-07T16:07:40.441397Z",
     "iopub.status.busy": "2022-12-07T16:07:40.441013Z",
     "iopub.status.idle": "2022-12-07T16:07:40.467961Z",
     "shell.execute_reply": "2022-12-07T16:07:40.466744Z"
    },
    "papermill": {
     "duration": 0.049919,
     "end_time": "2022-12-07T16:07:40.470647",
     "exception": false,
     "start_time": "2022-12-07T16:07:40.420728",
     "status": "completed"
    },
    "tags": []
   },
   "outputs": [
    {
     "data": {
      "text/html": [
       "<div>\n",
       "<style scoped>\n",
       "    .dataframe tbody tr th:only-of-type {\n",
       "        vertical-align: middle;\n",
       "    }\n",
       "\n",
       "    .dataframe tbody tr th {\n",
       "        vertical-align: top;\n",
       "    }\n",
       "\n",
       "    .dataframe thead th {\n",
       "        text-align: right;\n",
       "    }\n",
       "</style>\n",
       "<table border=\"1\" class=\"dataframe\">\n",
       "  <thead>\n",
       "    <tr style=\"text-align: right;\">\n",
       "      <th></th>\n",
       "      <th>Invoice ID</th>\n",
       "      <th>Branch</th>\n",
       "      <th>City</th>\n",
       "      <th>Customer type</th>\n",
       "      <th>Gender</th>\n",
       "      <th>Product line</th>\n",
       "      <th>Unit price</th>\n",
       "      <th>Quantity</th>\n",
       "      <th>Tax 5%</th>\n",
       "      <th>Total</th>\n",
       "      <th>...</th>\n",
       "      <th>Payment</th>\n",
       "      <th>cogs</th>\n",
       "      <th>gross margin percentage</th>\n",
       "      <th>gross income</th>\n",
       "      <th>Rating</th>\n",
       "      <th>day</th>\n",
       "      <th>month</th>\n",
       "      <th>year</th>\n",
       "      <th>month_name</th>\n",
       "      <th>weekday</th>\n",
       "    </tr>\n",
       "  </thead>\n",
       "  <tbody>\n",
       "    <tr>\n",
       "      <th>0</th>\n",
       "      <td>750-67-8428</td>\n",
       "      <td>A</td>\n",
       "      <td>Yangon</td>\n",
       "      <td>Member</td>\n",
       "      <td>Female</td>\n",
       "      <td>Health and beauty</td>\n",
       "      <td>74.69</td>\n",
       "      <td>7</td>\n",
       "      <td>26.1415</td>\n",
       "      <td>548.9715</td>\n",
       "      <td>...</td>\n",
       "      <td>Ewallet</td>\n",
       "      <td>522.83</td>\n",
       "      <td>4.761905</td>\n",
       "      <td>26.1415</td>\n",
       "      <td>9.1</td>\n",
       "      <td>5</td>\n",
       "      <td>1</td>\n",
       "      <td>2019</td>\n",
       "      <td>January</td>\n",
       "      <td>Saturday</td>\n",
       "    </tr>\n",
       "    <tr>\n",
       "      <th>1</th>\n",
       "      <td>226-31-3081</td>\n",
       "      <td>C</td>\n",
       "      <td>Naypyitaw</td>\n",
       "      <td>Normal</td>\n",
       "      <td>Female</td>\n",
       "      <td>Electronic accessories</td>\n",
       "      <td>15.28</td>\n",
       "      <td>5</td>\n",
       "      <td>3.8200</td>\n",
       "      <td>80.2200</td>\n",
       "      <td>...</td>\n",
       "      <td>Cash</td>\n",
       "      <td>76.40</td>\n",
       "      <td>4.761905</td>\n",
       "      <td>3.8200</td>\n",
       "      <td>9.6</td>\n",
       "      <td>8</td>\n",
       "      <td>3</td>\n",
       "      <td>2019</td>\n",
       "      <td>March</td>\n",
       "      <td>Friday</td>\n",
       "    </tr>\n",
       "    <tr>\n",
       "      <th>2</th>\n",
       "      <td>631-41-3108</td>\n",
       "      <td>A</td>\n",
       "      <td>Yangon</td>\n",
       "      <td>Normal</td>\n",
       "      <td>Male</td>\n",
       "      <td>Home and lifestyle</td>\n",
       "      <td>46.33</td>\n",
       "      <td>7</td>\n",
       "      <td>16.2155</td>\n",
       "      <td>340.5255</td>\n",
       "      <td>...</td>\n",
       "      <td>Credit card</td>\n",
       "      <td>324.31</td>\n",
       "      <td>4.761905</td>\n",
       "      <td>16.2155</td>\n",
       "      <td>7.4</td>\n",
       "      <td>3</td>\n",
       "      <td>3</td>\n",
       "      <td>2019</td>\n",
       "      <td>March</td>\n",
       "      <td>Sunday</td>\n",
       "    </tr>\n",
       "    <tr>\n",
       "      <th>3</th>\n",
       "      <td>123-19-1176</td>\n",
       "      <td>A</td>\n",
       "      <td>Yangon</td>\n",
       "      <td>Member</td>\n",
       "      <td>Male</td>\n",
       "      <td>Health and beauty</td>\n",
       "      <td>58.22</td>\n",
       "      <td>8</td>\n",
       "      <td>23.2880</td>\n",
       "      <td>489.0480</td>\n",
       "      <td>...</td>\n",
       "      <td>Ewallet</td>\n",
       "      <td>465.76</td>\n",
       "      <td>4.761905</td>\n",
       "      <td>23.2880</td>\n",
       "      <td>8.4</td>\n",
       "      <td>27</td>\n",
       "      <td>1</td>\n",
       "      <td>2019</td>\n",
       "      <td>January</td>\n",
       "      <td>Sunday</td>\n",
       "    </tr>\n",
       "    <tr>\n",
       "      <th>4</th>\n",
       "      <td>373-73-7910</td>\n",
       "      <td>A</td>\n",
       "      <td>Yangon</td>\n",
       "      <td>Normal</td>\n",
       "      <td>Male</td>\n",
       "      <td>Sports and travel</td>\n",
       "      <td>86.31</td>\n",
       "      <td>7</td>\n",
       "      <td>30.2085</td>\n",
       "      <td>634.3785</td>\n",
       "      <td>...</td>\n",
       "      <td>Ewallet</td>\n",
       "      <td>604.17</td>\n",
       "      <td>4.761905</td>\n",
       "      <td>30.2085</td>\n",
       "      <td>5.3</td>\n",
       "      <td>8</td>\n",
       "      <td>2</td>\n",
       "      <td>2019</td>\n",
       "      <td>February</td>\n",
       "      <td>Friday</td>\n",
       "    </tr>\n",
       "  </tbody>\n",
       "</table>\n",
       "<p>5 rows × 22 columns</p>\n",
       "</div>"
      ],
      "text/plain": [
       "    Invoice ID Branch       City Customer type  Gender  \\\n",
       "0  750-67-8428      A     Yangon        Member  Female   \n",
       "1  226-31-3081      C  Naypyitaw        Normal  Female   \n",
       "2  631-41-3108      A     Yangon        Normal    Male   \n",
       "3  123-19-1176      A     Yangon        Member    Male   \n",
       "4  373-73-7910      A     Yangon        Normal    Male   \n",
       "\n",
       "             Product line  Unit price  Quantity   Tax 5%     Total  ...  \\\n",
       "0       Health and beauty       74.69         7  26.1415  548.9715  ...   \n",
       "1  Electronic accessories       15.28         5   3.8200   80.2200  ...   \n",
       "2      Home and lifestyle       46.33         7  16.2155  340.5255  ...   \n",
       "3       Health and beauty       58.22         8  23.2880  489.0480  ...   \n",
       "4       Sports and travel       86.31         7  30.2085  634.3785  ...   \n",
       "\n",
       "       Payment    cogs gross margin percentage  gross income  Rating  day  \\\n",
       "0      Ewallet  522.83                4.761905       26.1415     9.1    5   \n",
       "1         Cash   76.40                4.761905        3.8200     9.6    8   \n",
       "2  Credit card  324.31                4.761905       16.2155     7.4    3   \n",
       "3      Ewallet  465.76                4.761905       23.2880     8.4   27   \n",
       "4      Ewallet  604.17                4.761905       30.2085     5.3    8   \n",
       "\n",
       "   month  year  month_name   weekday  \n",
       "0      1  2019     January  Saturday  \n",
       "1      3  2019       March    Friday  \n",
       "2      3  2019       March    Sunday  \n",
       "3      1  2019     January    Sunday  \n",
       "4      2  2019    February    Friday  \n",
       "\n",
       "[5 rows x 22 columns]"
      ]
     },
     "execution_count": 20,
     "metadata": {},
     "output_type": "execute_result"
    }
   ],
   "source": [
    "#Давайте посмотрим на наш фрейм данных!\n",
    "df.head()"
   ]
  },
  {
   "cell_type": "code",
   "execution_count": 21,
   "id": "2a3d5722",
   "metadata": {
    "execution": {
     "iopub.execute_input": "2022-12-07T16:07:40.511015Z",
     "iopub.status.busy": "2022-12-07T16:07:40.510501Z",
     "iopub.status.idle": "2022-12-07T16:07:40.516137Z",
     "shell.execute_reply": "2022-12-07T16:07:40.514697Z"
    },
    "papermill": {
     "duration": 0.028753,
     "end_time": "2022-12-07T16:07:40.518686",
     "exception": false,
     "start_time": "2022-12-07T16:07:40.489933",
     "status": "completed"
    },
    "tags": []
   },
   "outputs": [],
   "source": [
    "# Мы не смогли увидеть все столбцы, поэтому я установлю опцию.\n",
    "pd.set_option(\"display.max_columns\",25)\n",
    "# покажи мне 25 колонок, если больше 25 поставь ..."
   ]
  },
  {
   "cell_type": "code",
   "execution_count": 22,
   "id": "10df3ba4",
   "metadata": {
    "execution": {
     "iopub.execute_input": "2022-12-07T16:07:40.559140Z",
     "iopub.status.busy": "2022-12-07T16:07:40.558718Z",
     "iopub.status.idle": "2022-12-07T16:07:40.583875Z",
     "shell.execute_reply": "2022-12-07T16:07:40.582744Z"
    },
    "papermill": {
     "duration": 0.048482,
     "end_time": "2022-12-07T16:07:40.586292",
     "exception": false,
     "start_time": "2022-12-07T16:07:40.537810",
     "status": "completed"
    },
    "tags": []
   },
   "outputs": [
    {
     "data": {
      "text/html": [
       "<div>\n",
       "<style scoped>\n",
       "    .dataframe tbody tr th:only-of-type {\n",
       "        vertical-align: middle;\n",
       "    }\n",
       "\n",
       "    .dataframe tbody tr th {\n",
       "        vertical-align: top;\n",
       "    }\n",
       "\n",
       "    .dataframe thead th {\n",
       "        text-align: right;\n",
       "    }\n",
       "</style>\n",
       "<table border=\"1\" class=\"dataframe\">\n",
       "  <thead>\n",
       "    <tr style=\"text-align: right;\">\n",
       "      <th></th>\n",
       "      <th>Invoice ID</th>\n",
       "      <th>Branch</th>\n",
       "      <th>City</th>\n",
       "      <th>Customer type</th>\n",
       "      <th>Gender</th>\n",
       "      <th>Product line</th>\n",
       "      <th>Unit price</th>\n",
       "      <th>Quantity</th>\n",
       "      <th>Tax 5%</th>\n",
       "      <th>Total</th>\n",
       "      <th>Date</th>\n",
       "      <th>Time</th>\n",
       "      <th>Payment</th>\n",
       "      <th>cogs</th>\n",
       "      <th>gross margin percentage</th>\n",
       "      <th>gross income</th>\n",
       "      <th>Rating</th>\n",
       "      <th>day</th>\n",
       "      <th>month</th>\n",
       "      <th>year</th>\n",
       "      <th>month_name</th>\n",
       "      <th>weekday</th>\n",
       "    </tr>\n",
       "  </thead>\n",
       "  <tbody>\n",
       "    <tr>\n",
       "      <th>0</th>\n",
       "      <td>750-67-8428</td>\n",
       "      <td>A</td>\n",
       "      <td>Yangon</td>\n",
       "      <td>Member</td>\n",
       "      <td>Female</td>\n",
       "      <td>Health and beauty</td>\n",
       "      <td>74.69</td>\n",
       "      <td>7</td>\n",
       "      <td>26.1415</td>\n",
       "      <td>548.9715</td>\n",
       "      <td>2019-01-05</td>\n",
       "      <td>13:08</td>\n",
       "      <td>Ewallet</td>\n",
       "      <td>522.83</td>\n",
       "      <td>4.761905</td>\n",
       "      <td>26.1415</td>\n",
       "      <td>9.1</td>\n",
       "      <td>5</td>\n",
       "      <td>1</td>\n",
       "      <td>2019</td>\n",
       "      <td>January</td>\n",
       "      <td>Saturday</td>\n",
       "    </tr>\n",
       "    <tr>\n",
       "      <th>1</th>\n",
       "      <td>226-31-3081</td>\n",
       "      <td>C</td>\n",
       "      <td>Naypyitaw</td>\n",
       "      <td>Normal</td>\n",
       "      <td>Female</td>\n",
       "      <td>Electronic accessories</td>\n",
       "      <td>15.28</td>\n",
       "      <td>5</td>\n",
       "      <td>3.8200</td>\n",
       "      <td>80.2200</td>\n",
       "      <td>2019-03-08</td>\n",
       "      <td>10:29</td>\n",
       "      <td>Cash</td>\n",
       "      <td>76.40</td>\n",
       "      <td>4.761905</td>\n",
       "      <td>3.8200</td>\n",
       "      <td>9.6</td>\n",
       "      <td>8</td>\n",
       "      <td>3</td>\n",
       "      <td>2019</td>\n",
       "      <td>March</td>\n",
       "      <td>Friday</td>\n",
       "    </tr>\n",
       "    <tr>\n",
       "      <th>2</th>\n",
       "      <td>631-41-3108</td>\n",
       "      <td>A</td>\n",
       "      <td>Yangon</td>\n",
       "      <td>Normal</td>\n",
       "      <td>Male</td>\n",
       "      <td>Home and lifestyle</td>\n",
       "      <td>46.33</td>\n",
       "      <td>7</td>\n",
       "      <td>16.2155</td>\n",
       "      <td>340.5255</td>\n",
       "      <td>2019-03-03</td>\n",
       "      <td>13:23</td>\n",
       "      <td>Credit card</td>\n",
       "      <td>324.31</td>\n",
       "      <td>4.761905</td>\n",
       "      <td>16.2155</td>\n",
       "      <td>7.4</td>\n",
       "      <td>3</td>\n",
       "      <td>3</td>\n",
       "      <td>2019</td>\n",
       "      <td>March</td>\n",
       "      <td>Sunday</td>\n",
       "    </tr>\n",
       "    <tr>\n",
       "      <th>3</th>\n",
       "      <td>123-19-1176</td>\n",
       "      <td>A</td>\n",
       "      <td>Yangon</td>\n",
       "      <td>Member</td>\n",
       "      <td>Male</td>\n",
       "      <td>Health and beauty</td>\n",
       "      <td>58.22</td>\n",
       "      <td>8</td>\n",
       "      <td>23.2880</td>\n",
       "      <td>489.0480</td>\n",
       "      <td>2019-01-27</td>\n",
       "      <td>20:33</td>\n",
       "      <td>Ewallet</td>\n",
       "      <td>465.76</td>\n",
       "      <td>4.761905</td>\n",
       "      <td>23.2880</td>\n",
       "      <td>8.4</td>\n",
       "      <td>27</td>\n",
       "      <td>1</td>\n",
       "      <td>2019</td>\n",
       "      <td>January</td>\n",
       "      <td>Sunday</td>\n",
       "    </tr>\n",
       "    <tr>\n",
       "      <th>4</th>\n",
       "      <td>373-73-7910</td>\n",
       "      <td>A</td>\n",
       "      <td>Yangon</td>\n",
       "      <td>Normal</td>\n",
       "      <td>Male</td>\n",
       "      <td>Sports and travel</td>\n",
       "      <td>86.31</td>\n",
       "      <td>7</td>\n",
       "      <td>30.2085</td>\n",
       "      <td>634.3785</td>\n",
       "      <td>2019-02-08</td>\n",
       "      <td>10:37</td>\n",
       "      <td>Ewallet</td>\n",
       "      <td>604.17</td>\n",
       "      <td>4.761905</td>\n",
       "      <td>30.2085</td>\n",
       "      <td>5.3</td>\n",
       "      <td>8</td>\n",
       "      <td>2</td>\n",
       "      <td>2019</td>\n",
       "      <td>February</td>\n",
       "      <td>Friday</td>\n",
       "    </tr>\n",
       "  </tbody>\n",
       "</table>\n",
       "</div>"
      ],
      "text/plain": [
       "    Invoice ID Branch       City Customer type  Gender  \\\n",
       "0  750-67-8428      A     Yangon        Member  Female   \n",
       "1  226-31-3081      C  Naypyitaw        Normal  Female   \n",
       "2  631-41-3108      A     Yangon        Normal    Male   \n",
       "3  123-19-1176      A     Yangon        Member    Male   \n",
       "4  373-73-7910      A     Yangon        Normal    Male   \n",
       "\n",
       "             Product line  Unit price  Quantity   Tax 5%     Total       Date  \\\n",
       "0       Health and beauty       74.69         7  26.1415  548.9715 2019-01-05   \n",
       "1  Electronic accessories       15.28         5   3.8200   80.2200 2019-03-08   \n",
       "2      Home and lifestyle       46.33         7  16.2155  340.5255 2019-03-03   \n",
       "3       Health and beauty       58.22         8  23.2880  489.0480 2019-01-27   \n",
       "4       Sports and travel       86.31         7  30.2085  634.3785 2019-02-08   \n",
       "\n",
       "    Time      Payment    cogs  gross margin percentage  gross income  Rating  \\\n",
       "0  13:08      Ewallet  522.83                 4.761905       26.1415     9.1   \n",
       "1  10:29         Cash   76.40                 4.761905        3.8200     9.6   \n",
       "2  13:23  Credit card  324.31                 4.761905       16.2155     7.4   \n",
       "3  20:33      Ewallet  465.76                 4.761905       23.2880     8.4   \n",
       "4  10:37      Ewallet  604.17                 4.761905       30.2085     5.3   \n",
       "\n",
       "   day  month  year month_name   weekday  \n",
       "0    5      1  2019    January  Saturday  \n",
       "1    8      3  2019      March    Friday  \n",
       "2    3      3  2019      March    Sunday  \n",
       "3   27      1  2019    January    Sunday  \n",
       "4    8      2  2019   February    Friday  "
      ]
     },
     "execution_count": 22,
     "metadata": {},
     "output_type": "execute_result"
    }
   ],
   "source": [
    "df.head()"
   ]
  },
  {
   "cell_type": "code",
   "execution_count": 23,
   "id": "dcc235ce",
   "metadata": {
    "execution": {
     "iopub.execute_input": "2022-12-07T16:07:40.627198Z",
     "iopub.status.busy": "2022-12-07T16:07:40.626190Z",
     "iopub.status.idle": "2022-12-07T16:07:40.641551Z",
     "shell.execute_reply": "2022-12-07T16:07:40.639766Z"
    },
    "papermill": {
     "duration": 0.038794,
     "end_time": "2022-12-07T16:07:40.644506",
     "exception": false,
     "start_time": "2022-12-07T16:07:40.605712",
     "status": "completed"
    },
    "tags": []
   },
   "outputs": [
    {
     "name": "stdout",
     "output_type": "stream",
     "text": [
      "<class 'pandas.core.frame.DataFrame'>\n",
      "RangeIndex: 1000 entries, 0 to 999\n",
      "Data columns (total 22 columns):\n",
      " #   Column                   Non-Null Count  Dtype         \n",
      "---  ------                   --------------  -----         \n",
      " 0   Invoice ID               1000 non-null   object        \n",
      " 1   Branch                   1000 non-null   object        \n",
      " 2   City                     1000 non-null   object        \n",
      " 3   Customer type            1000 non-null   object        \n",
      " 4   Gender                   1000 non-null   object        \n",
      " 5   Product line             1000 non-null   object        \n",
      " 6   Unit price               1000 non-null   float64       \n",
      " 7   Quantity                 1000 non-null   int64         \n",
      " 8   Tax 5%                   1000 non-null   float64       \n",
      " 9   Total                    1000 non-null   float64       \n",
      " 10  Date                     1000 non-null   datetime64[ns]\n",
      " 11  Time                     1000 non-null   object        \n",
      " 12  Payment                  1000 non-null   object        \n",
      " 13  cogs                     1000 non-null   float64       \n",
      " 14  gross margin percentage  1000 non-null   float64       \n",
      " 15  gross income             1000 non-null   float64       \n",
      " 16  Rating                   1000 non-null   float64       \n",
      " 17  day                      1000 non-null   int64         \n",
      " 18  month                    1000 non-null   int64         \n",
      " 19  year                     1000 non-null   int64         \n",
      " 20  month_name               1000 non-null   object        \n",
      " 21  weekday                  1000 non-null   object        \n",
      "dtypes: datetime64[ns](1), float64(7), int64(4), object(10)\n",
      "memory usage: 172.0+ KB\n"
     ]
    }
   ],
   "source": [
    "df.info()"
   ]
  },
  {
   "cell_type": "code",
   "execution_count": 24,
   "id": "e6d0f385",
   "metadata": {
    "execution": {
     "iopub.execute_input": "2022-12-07T16:07:40.686284Z",
     "iopub.status.busy": "2022-12-07T16:07:40.685603Z",
     "iopub.status.idle": "2022-12-07T16:07:40.737387Z",
     "shell.execute_reply": "2022-12-07T16:07:40.736143Z"
    },
    "papermill": {
     "duration": 0.075382,
     "end_time": "2022-12-07T16:07:40.740171",
     "exception": false,
     "start_time": "2022-12-07T16:07:40.664789",
     "status": "completed"
    },
    "tags": []
   },
   "outputs": [],
   "source": [
    "df[\"Time\"]=pd.to_datetime(df[\"Time\"])\n",
    "#Я преобразовал тип столбца Time в DateTime из объекта"
   ]
  },
  {
   "cell_type": "code",
   "execution_count": 25,
   "id": "80c28961",
   "metadata": {
    "execution": {
     "iopub.execute_input": "2022-12-07T16:07:40.782073Z",
     "iopub.status.busy": "2022-12-07T16:07:40.781241Z",
     "iopub.status.idle": "2022-12-07T16:07:40.797134Z",
     "shell.execute_reply": "2022-12-07T16:07:40.795707Z"
    },
    "papermill": {
     "duration": 0.040372,
     "end_time": "2022-12-07T16:07:40.800631",
     "exception": false,
     "start_time": "2022-12-07T16:07:40.760259",
     "status": "completed"
    },
    "tags": []
   },
   "outputs": [
    {
     "name": "stdout",
     "output_type": "stream",
     "text": [
      "<class 'pandas.core.frame.DataFrame'>\n",
      "RangeIndex: 1000 entries, 0 to 999\n",
      "Data columns (total 22 columns):\n",
      " #   Column                   Non-Null Count  Dtype         \n",
      "---  ------                   --------------  -----         \n",
      " 0   Invoice ID               1000 non-null   object        \n",
      " 1   Branch                   1000 non-null   object        \n",
      " 2   City                     1000 non-null   object        \n",
      " 3   Customer type            1000 non-null   object        \n",
      " 4   Gender                   1000 non-null   object        \n",
      " 5   Product line             1000 non-null   object        \n",
      " 6   Unit price               1000 non-null   float64       \n",
      " 7   Quantity                 1000 non-null   int64         \n",
      " 8   Tax 5%                   1000 non-null   float64       \n",
      " 9   Total                    1000 non-null   float64       \n",
      " 10  Date                     1000 non-null   datetime64[ns]\n",
      " 11  Time                     1000 non-null   datetime64[ns]\n",
      " 12  Payment                  1000 non-null   object        \n",
      " 13  cogs                     1000 non-null   float64       \n",
      " 14  gross margin percentage  1000 non-null   float64       \n",
      " 15  gross income             1000 non-null   float64       \n",
      " 16  Rating                   1000 non-null   float64       \n",
      " 17  day                      1000 non-null   int64         \n",
      " 18  month                    1000 non-null   int64         \n",
      " 19  year                     1000 non-null   int64         \n",
      " 20  month_name               1000 non-null   object        \n",
      " 21  weekday                  1000 non-null   object        \n",
      "dtypes: datetime64[ns](2), float64(7), int64(4), object(9)\n",
      "memory usage: 172.0+ KB\n"
     ]
    }
   ],
   "source": [
    "df.info()"
   ]
  },
  {
   "cell_type": "code",
   "execution_count": 26,
   "id": "cef55a67",
   "metadata": {
    "execution": {
     "iopub.execute_input": "2022-12-07T16:07:40.842487Z",
     "iopub.status.busy": "2022-12-07T16:07:40.842069Z",
     "iopub.status.idle": "2022-12-07T16:07:40.849161Z",
     "shell.execute_reply": "2022-12-07T16:07:40.847997Z"
    },
    "papermill": {
     "duration": 0.03101,
     "end_time": "2022-12-07T16:07:40.851746",
     "exception": false,
     "start_time": "2022-12-07T16:07:40.820736",
     "status": "completed"
    },
    "tags": []
   },
   "outputs": [],
   "source": [
    "df[\"Hour\"]=(df[\"Time\"]).dt.hour\n",
    "# Я создаю новый столбец с именем «Час», а затем извлекаю информацию о часах из столбца «Время»."
   ]
  },
  {
   "cell_type": "code",
   "execution_count": 27,
   "id": "00b16913",
   "metadata": {
    "execution": {
     "iopub.execute_input": "2022-12-07T16:07:40.893763Z",
     "iopub.status.busy": "2022-12-07T16:07:40.893374Z",
     "iopub.status.idle": "2022-12-07T16:07:40.920589Z",
     "shell.execute_reply": "2022-12-07T16:07:40.919343Z"
    },
    "papermill": {
     "duration": 0.051955,
     "end_time": "2022-12-07T16:07:40.923424",
     "exception": false,
     "start_time": "2022-12-07T16:07:40.871469",
     "status": "completed"
    },
    "tags": []
   },
   "outputs": [
    {
     "data": {
      "text/html": [
       "<div>\n",
       "<style scoped>\n",
       "    .dataframe tbody tr th:only-of-type {\n",
       "        vertical-align: middle;\n",
       "    }\n",
       "\n",
       "    .dataframe tbody tr th {\n",
       "        vertical-align: top;\n",
       "    }\n",
       "\n",
       "    .dataframe thead th {\n",
       "        text-align: right;\n",
       "    }\n",
       "</style>\n",
       "<table border=\"1\" class=\"dataframe\">\n",
       "  <thead>\n",
       "    <tr style=\"text-align: right;\">\n",
       "      <th></th>\n",
       "      <th>Invoice ID</th>\n",
       "      <th>Branch</th>\n",
       "      <th>City</th>\n",
       "      <th>Customer type</th>\n",
       "      <th>Gender</th>\n",
       "      <th>Product line</th>\n",
       "      <th>Unit price</th>\n",
       "      <th>Quantity</th>\n",
       "      <th>Tax 5%</th>\n",
       "      <th>Total</th>\n",
       "      <th>Date</th>\n",
       "      <th>Time</th>\n",
       "      <th>Payment</th>\n",
       "      <th>cogs</th>\n",
       "      <th>gross margin percentage</th>\n",
       "      <th>gross income</th>\n",
       "      <th>Rating</th>\n",
       "      <th>day</th>\n",
       "      <th>month</th>\n",
       "      <th>year</th>\n",
       "      <th>month_name</th>\n",
       "      <th>weekday</th>\n",
       "      <th>Hour</th>\n",
       "    </tr>\n",
       "  </thead>\n",
       "  <tbody>\n",
       "    <tr>\n",
       "      <th>0</th>\n",
       "      <td>750-67-8428</td>\n",
       "      <td>A</td>\n",
       "      <td>Yangon</td>\n",
       "      <td>Member</td>\n",
       "      <td>Female</td>\n",
       "      <td>Health and beauty</td>\n",
       "      <td>74.69</td>\n",
       "      <td>7</td>\n",
       "      <td>26.1415</td>\n",
       "      <td>548.9715</td>\n",
       "      <td>2019-01-05</td>\n",
       "      <td>2022-12-22 13:08:00</td>\n",
       "      <td>Ewallet</td>\n",
       "      <td>522.83</td>\n",
       "      <td>4.761905</td>\n",
       "      <td>26.1415</td>\n",
       "      <td>9.1</td>\n",
       "      <td>5</td>\n",
       "      <td>1</td>\n",
       "      <td>2019</td>\n",
       "      <td>January</td>\n",
       "      <td>Saturday</td>\n",
       "      <td>13</td>\n",
       "    </tr>\n",
       "    <tr>\n",
       "      <th>1</th>\n",
       "      <td>226-31-3081</td>\n",
       "      <td>C</td>\n",
       "      <td>Naypyitaw</td>\n",
       "      <td>Normal</td>\n",
       "      <td>Female</td>\n",
       "      <td>Electronic accessories</td>\n",
       "      <td>15.28</td>\n",
       "      <td>5</td>\n",
       "      <td>3.8200</td>\n",
       "      <td>80.2200</td>\n",
       "      <td>2019-03-08</td>\n",
       "      <td>2022-12-22 10:29:00</td>\n",
       "      <td>Cash</td>\n",
       "      <td>76.40</td>\n",
       "      <td>4.761905</td>\n",
       "      <td>3.8200</td>\n",
       "      <td>9.6</td>\n",
       "      <td>8</td>\n",
       "      <td>3</td>\n",
       "      <td>2019</td>\n",
       "      <td>March</td>\n",
       "      <td>Friday</td>\n",
       "      <td>10</td>\n",
       "    </tr>\n",
       "    <tr>\n",
       "      <th>2</th>\n",
       "      <td>631-41-3108</td>\n",
       "      <td>A</td>\n",
       "      <td>Yangon</td>\n",
       "      <td>Normal</td>\n",
       "      <td>Male</td>\n",
       "      <td>Home and lifestyle</td>\n",
       "      <td>46.33</td>\n",
       "      <td>7</td>\n",
       "      <td>16.2155</td>\n",
       "      <td>340.5255</td>\n",
       "      <td>2019-03-03</td>\n",
       "      <td>2022-12-22 13:23:00</td>\n",
       "      <td>Credit card</td>\n",
       "      <td>324.31</td>\n",
       "      <td>4.761905</td>\n",
       "      <td>16.2155</td>\n",
       "      <td>7.4</td>\n",
       "      <td>3</td>\n",
       "      <td>3</td>\n",
       "      <td>2019</td>\n",
       "      <td>March</td>\n",
       "      <td>Sunday</td>\n",
       "      <td>13</td>\n",
       "    </tr>\n",
       "    <tr>\n",
       "      <th>3</th>\n",
       "      <td>123-19-1176</td>\n",
       "      <td>A</td>\n",
       "      <td>Yangon</td>\n",
       "      <td>Member</td>\n",
       "      <td>Male</td>\n",
       "      <td>Health and beauty</td>\n",
       "      <td>58.22</td>\n",
       "      <td>8</td>\n",
       "      <td>23.2880</td>\n",
       "      <td>489.0480</td>\n",
       "      <td>2019-01-27</td>\n",
       "      <td>2022-12-22 20:33:00</td>\n",
       "      <td>Ewallet</td>\n",
       "      <td>465.76</td>\n",
       "      <td>4.761905</td>\n",
       "      <td>23.2880</td>\n",
       "      <td>8.4</td>\n",
       "      <td>27</td>\n",
       "      <td>1</td>\n",
       "      <td>2019</td>\n",
       "      <td>January</td>\n",
       "      <td>Sunday</td>\n",
       "      <td>20</td>\n",
       "    </tr>\n",
       "    <tr>\n",
       "      <th>4</th>\n",
       "      <td>373-73-7910</td>\n",
       "      <td>A</td>\n",
       "      <td>Yangon</td>\n",
       "      <td>Normal</td>\n",
       "      <td>Male</td>\n",
       "      <td>Sports and travel</td>\n",
       "      <td>86.31</td>\n",
       "      <td>7</td>\n",
       "      <td>30.2085</td>\n",
       "      <td>634.3785</td>\n",
       "      <td>2019-02-08</td>\n",
       "      <td>2022-12-22 10:37:00</td>\n",
       "      <td>Ewallet</td>\n",
       "      <td>604.17</td>\n",
       "      <td>4.761905</td>\n",
       "      <td>30.2085</td>\n",
       "      <td>5.3</td>\n",
       "      <td>8</td>\n",
       "      <td>2</td>\n",
       "      <td>2019</td>\n",
       "      <td>February</td>\n",
       "      <td>Friday</td>\n",
       "      <td>10</td>\n",
       "    </tr>\n",
       "  </tbody>\n",
       "</table>\n",
       "</div>"
      ],
      "text/plain": [
       "    Invoice ID Branch       City Customer type  Gender  \\\n",
       "0  750-67-8428      A     Yangon        Member  Female   \n",
       "1  226-31-3081      C  Naypyitaw        Normal  Female   \n",
       "2  631-41-3108      A     Yangon        Normal    Male   \n",
       "3  123-19-1176      A     Yangon        Member    Male   \n",
       "4  373-73-7910      A     Yangon        Normal    Male   \n",
       "\n",
       "             Product line  Unit price  Quantity   Tax 5%     Total       Date  \\\n",
       "0       Health and beauty       74.69         7  26.1415  548.9715 2019-01-05   \n",
       "1  Electronic accessories       15.28         5   3.8200   80.2200 2019-03-08   \n",
       "2      Home and lifestyle       46.33         7  16.2155  340.5255 2019-03-03   \n",
       "3       Health and beauty       58.22         8  23.2880  489.0480 2019-01-27   \n",
       "4       Sports and travel       86.31         7  30.2085  634.3785 2019-02-08   \n",
       "\n",
       "                 Time      Payment    cogs  gross margin percentage  \\\n",
       "0 2022-12-22 13:08:00      Ewallet  522.83                 4.761905   \n",
       "1 2022-12-22 10:29:00         Cash   76.40                 4.761905   \n",
       "2 2022-12-22 13:23:00  Credit card  324.31                 4.761905   \n",
       "3 2022-12-22 20:33:00      Ewallet  465.76                 4.761905   \n",
       "4 2022-12-22 10:37:00      Ewallet  604.17                 4.761905   \n",
       "\n",
       "   gross income  Rating  day  month  year month_name   weekday  Hour  \n",
       "0       26.1415     9.1    5      1  2019    January  Saturday    13  \n",
       "1        3.8200     9.6    8      3  2019      March    Friday    10  \n",
       "2       16.2155     7.4    3      3  2019      March    Sunday    13  \n",
       "3       23.2880     8.4   27      1  2019    January    Sunday    20  \n",
       "4       30.2085     5.3    8      2  2019   February    Friday    10  "
      ]
     },
     "execution_count": 27,
     "metadata": {},
     "output_type": "execute_result"
    }
   ],
   "source": [
    "df.head()"
   ]
  },
  {
   "cell_type": "markdown",
   "id": "1a0b764b",
   "metadata": {
    "papermill": {
     "duration": 0.021344,
     "end_time": "2022-12-07T16:07:40.965498",
     "exception": false,
     "start_time": "2022-12-07T16:07:40.944154",
     "status": "completed"
    },
    "tags": []
   },
   "source": [
    "# Визуализация данных"
   ]
  },
  {
   "cell_type": "code",
   "execution_count": 32,
   "id": "cb4e6de8",
   "metadata": {
    "execution": {
     "iopub.execute_input": "2022-12-07T16:07:41.007709Z",
     "iopub.status.busy": "2022-12-07T16:07:41.007063Z",
     "iopub.status.idle": "2022-12-07T16:07:41.206662Z",
     "shell.execute_reply": "2022-12-07T16:07:41.205640Z"
    },
    "papermill": {
     "duration": 0.223454,
     "end_time": "2022-12-07T16:07:41.209128",
     "exception": false,
     "start_time": "2022-12-07T16:07:40.985674",
     "status": "completed"
    },
    "scrolled": true,
    "tags": []
   },
   "outputs": [
    {
     "data": {
      "image/png": "[encoded data removed]",
      "text/plain": [
       "<Figure size 300x300 with 1 Axes>"
      ]
     },
     "metadata": {},
     "output_type": "display_data"
    }
   ],
   "source": [
    "plt.figure(figsize=(3,3))\n",
    "#устанавливаем размер фигуры как (8,8). Это означает 8 по оси x и 6 по оси y.\n",
    "\n",
    "plt.title(\"Montly transaction\")\n",
    "#установка заголовка графика\n",
    "\n",
    "sns.countplot(x=df.month_name)\n",
    "#Создание графика подсчета месяцев\n",
    "\n",
    "plt.xticks(rotation=45); \n",
    "#установка угла поворота названия месяца"
   ]
  },
  {
   "cell_type": "code",
   "execution_count": 30,
   "id": "e0f96bdb",
   "metadata": {
    "execution": {
     "iopub.execute_input": "2022-12-07T16:07:41.252624Z",
     "iopub.status.busy": "2022-12-07T16:07:41.251529Z",
     "iopub.status.idle": "2022-12-07T16:07:41.411444Z",
     "shell.execute_reply": "2022-12-07T16:07:41.409800Z"
    },
    "papermill": {
     "duration": 0.186524,
     "end_time": "2022-12-07T16:07:41.416542",
     "exception": false,
     "start_time": "2022-12-07T16:07:41.230018",
     "status": "completed"
    },
    "tags": []
   },
   "outputs": [
    {
     "data": {
      "image/png": "[encoded data removed]",
      "text/plain": [
       "<Figure size 800x800 with 1 Axes>"
      ]
     },
     "metadata": {},
     "output_type": "display_data"
    }
   ],
   "source": [
    "plt.figure(figsize=(8,8))\n",
    "# В круговой диаграмме мы делаем квадрат. Как следствие, я сделал этот размер (8,8).\n",
    "\n",
    "explode=(0.25,0.10,0.05)\n",
    "# Взрыв помогает нам видеть более четко.\n",
    "# Я взорвал первое больше, а третье меньше.\n",
    "\n",
    "df[\"month_name\"].value_counts().plot.pie(autopct=\"%1.1f%%\",startangle=60,explode=explode)\n",
    "#Составляем круговую диаграмму.\n",
    "#начиная с 60 градусов до проставления значений.\n",
    "\n",
    "plt.title(\"Transaction per month\");"
   ]
  },
  {
   "cell_type": "markdown",
   "id": "b473a9e6",
   "metadata": {
    "papermill": {
     "duration": 0.027135,
     "end_time": "2022-12-07T16:07:41.497989",
     "exception": false,
     "start_time": "2022-12-07T16:07:41.470854",
     "status": "completed"
    },
    "tags": []
   },
   "source": [
    "> **Как мы видим, в январе в этом супермаркете было больше покупателей, чем в предыдущие два месяца.**"
   ]
  },
  {
   "cell_type": "code",
   "execution_count": 33,
   "id": "8d5589a4",
   "metadata": {
    "execution": {
     "iopub.execute_input": "2022-12-07T16:07:41.541110Z",
     "iopub.status.busy": "2022-12-07T16:07:41.540384Z",
     "iopub.status.idle": "2022-12-07T16:07:41.750674Z",
     "shell.execute_reply": "2022-12-07T16:07:41.749375Z"
    },
    "papermill": {
     "duration": 0.235028,
     "end_time": "2022-12-07T16:07:41.753443",
     "exception": false,
     "start_time": "2022-12-07T16:07:41.518415",
     "status": "completed"
    },
    "tags": []
   },
   "outputs": [
    {
     "data": {
      "image/png": "[encoded data removed]",
      "text/plain": [
       "<Figure size 400x700 with 1 Axes>"
      ]
     },
     "metadata": {},
     "output_type": "display_data"
    }
   ],
   "source": [
    "plt.figure(figsize=(4,7))\n",
    "\n",
    "plt.title(\"Montly transaction\")\n",
    "\n",
    "sns.countplot(x=df[\"Gender\"]);\n",
    "# Создание графика подсчета столбца «Пол»."
   ]
  },
  {
   "cell_type": "markdown",
   "id": "98af6ea1",
   "metadata": {
    "papermill": {
     "duration": 0.020475,
     "end_time": "2022-12-07T16:07:41.795294",
     "exception": false,
     "start_time": "2022-12-07T16:07:41.774819",
     "status": "completed"
    },
    "tags": []
   },
   "source": [
    "> **Существует очень небольшой интервал между мужским и женским родом**\n",
    "\n",
    "**Посмотрим, сколько отличий!**"
   ]
  },
  {
   "cell_type": "code",
   "execution_count": 30,
   "id": "6b6be2ce",
   "metadata": {
    "execution": {
     "iopub.execute_input": "2022-12-07T16:07:41.839383Z",
     "iopub.status.busy": "2022-12-07T16:07:41.838607Z",
     "iopub.status.idle": "2022-12-07T16:07:41.846065Z",
     "shell.execute_reply": "2022-12-07T16:07:41.845293Z"
    },
    "papermill": {
     "duration": 0.03192,
     "end_time": "2022-12-07T16:07:41.848111",
     "exception": false,
     "start_time": "2022-12-07T16:07:41.816191",
     "status": "completed"
    },
    "tags": []
   },
   "outputs": [
    {
     "data": {
      "text/plain": [
       "Female    501\n",
       "Male      499\n",
       "Name: Gender, dtype: int64"
      ]
     },
     "execution_count": 30,
     "metadata": {},
     "output_type": "execute_result"
    }
   ],
   "source": [
    "df.Gender.value_counts()"
   ]
  },
  {
   "cell_type": "markdown",
   "id": "c0a2d461",
   "metadata": {
    "papermill": {
     "duration": 0.021026,
     "end_time": "2022-12-07T16:07:41.890542",
     "exception": false,
     "start_time": "2022-12-07T16:07:41.869516",
     "status": "completed"
    },
    "tags": []
   },
   "source": [
    "***Всего 2 человека***"
   ]
  },
  {
   "cell_type": "code",
   "execution_count": 32,
   "id": "90147ca7",
   "metadata": {
    "execution": {
     "iopub.execute_input": "2022-12-07T16:07:41.935272Z",
     "iopub.status.busy": "2022-12-07T16:07:41.934466Z",
     "iopub.status.idle": "2022-12-07T16:07:42.173736Z",
     "shell.execute_reply": "2022-12-07T16:07:42.172822Z"
    },
    "papermill": {
     "duration": 0.264291,
     "end_time": "2022-12-07T16:07:42.175961",
     "exception": false,
     "start_time": "2022-12-07T16:07:41.911670",
     "status": "completed"
    },
    "tags": []
   },
   "outputs": [
    {
     "data": {
      "image/png": "[encoded data removed]",
      "text/plain": [
       "<Figure size 640x480 with 1 Axes>"
      ]
     },
     "metadata": {},
     "output_type": "display_data"
    }
   ],
   "source": [
    "sns.countplot(x=df.weekday)\n",
    "plt.xticks(rotation=45);\n",
    "#поворот значений по оси X"
   ]
  },
  {
   "cell_type": "markdown",
   "id": "6e8ffb26",
   "metadata": {
    "papermill": {
     "duration": 0.021723,
     "end_time": "2022-12-07T16:07:42.219834",
     "exception": false,
     "start_time": "2022-12-07T16:07:42.198111",
     "status": "completed"
    },
    "tags": []
   },
   "source": [
    "> **Самый многолюдный день — суббота. Наверное, так как это праздник любого человека, и многие люди покупают свои нужды на неделю в субботу.**\n",
    "\n",
    "> **Однако понедельник — самый спокойный день. Интересно, что вторник — второй по посещаемости день. Во вторник народу еще больше, чем в воскресенье. Почему?**\n",
    "\n",
    "> **Возможно, продукты, купленные в субботу, заканчиваются.**"
   ]
  },
  {
   "cell_type": "code",
   "execution_count": 32,
   "id": "41dc8ef4",
   "metadata": {
    "execution": {
     "iopub.execute_input": "2022-12-07T16:07:42.266700Z",
     "iopub.status.busy": "2022-12-07T16:07:42.266016Z",
     "iopub.status.idle": "2022-12-07T16:07:42.527343Z",
     "shell.execute_reply": "2022-12-07T16:07:42.525889Z"
    },
    "papermill": {
     "duration": 0.287311,
     "end_time": "2022-12-07T16:07:42.530079",
     "exception": false,
     "start_time": "2022-12-07T16:07:42.242768",
     "status": "completed"
    },
    "tags": []
   },
   "outputs": [
    {
     "data": {
      "image/png": "[encoded data removed]",
      "text/plain": [
       "<Figure size 864x432 with 1 Axes>"
      ]
     },
     "metadata": {
      "needs_background": "light"
     },
     "output_type": "display_data"
    }
   ],
   "source": [
    "plt.figure(figsize=(12,6))\n",
    "plt.title(\"total monthly Transaction\")\n",
    "sns.countplot(x=df[\"Product line\"])\n",
    "plt.xticks(rotation=90); "
   ]
  },
  {
   "cell_type": "markdown",
   "id": "f5db5d53",
   "metadata": {
    "papermill": {
     "duration": 0.021626,
     "end_time": "2022-12-07T16:07:42.574413",
     "exception": false,
     "start_time": "2022-12-07T16:07:42.552787",
     "status": "completed"
    },
    "tags": []
   },
   "source": [
    "## Давайте посмотрим на круговую диаграмму!"
   ]
  },
  {
   "cell_type": "code",
   "execution_count": 33,
   "id": "ba7933ad",
   "metadata": {
    "execution": {
     "iopub.execute_input": "2022-12-07T16:07:42.619562Z",
     "iopub.status.busy": "2022-12-07T16:07:42.619158Z",
     "iopub.status.idle": "2022-12-07T16:07:42.835489Z",
     "shell.execute_reply": "2022-12-07T16:07:42.833805Z"
    },
    "papermill": {
     "duration": 0.242952,
     "end_time": "2022-12-07T16:07:42.839205",
     "exception": false,
     "start_time": "2022-12-07T16:07:42.596253",
     "status": "completed"
    },
    "tags": []
   },
   "outputs": [
    {
     "data": {
      "image/png": "[encoded data removed]",
      "text/plain": [
       "<Figure size 800x800 with 1 Axes>"
      ]
     },
     "metadata": {},
     "output_type": "display_data"
    }
   ],
   "source": [
    "plt.figure(figsize=(8,8))\n",
    "\n",
    "explode=(0.15,0.05,0.05,0.05,0.05,0.05)\n",
    "\n",
    "df[\"Product line\"].value_counts().plot.pie(autopct=\"%1.2f%%\",startangle=80,explode=explode)\n",
    "#  autopct=\"%1xf%%\" \n",
    "#Это означает показать число \"x\" после запятой.\n",
    "\n",
    "plt.title(\"Transaction per month\");\n"
   ]
  },
  {
   "cell_type": "markdown",
   "id": "d67420ed",
   "metadata": {
    "papermill": {
     "duration": 0.022654,
     "end_time": "2022-12-07T16:07:42.885230",
     "exception": false,
     "start_time": "2022-12-07T16:07:42.862576",
     "status": "completed"
    },
    "tags": []
   },
   "source": [
    "> **Вау Модные аксессуары больше, чем другие, даже больше, чем еда :D .**\n",
    "\n",
    "> **Возможно, нам стоит взглянуть на график с точки зрения пола.**"
   ]
  },
  {
   "cell_type": "code",
   "execution_count": 34,
   "id": "dcb6777a",
   "metadata": {
    "execution": {
     "iopub.execute_input": "2022-12-07T16:07:42.934152Z",
     "iopub.status.busy": "2022-12-07T16:07:42.933755Z",
     "iopub.status.idle": "2022-12-07T16:07:43.152619Z",
     "shell.execute_reply": "2022-12-07T16:07:43.150639Z"
    },
    "papermill": {
     "duration": 0.245628,
     "end_time": "2022-12-07T16:07:43.155363",
     "exception": false,
     "start_time": "2022-12-07T16:07:42.909735",
     "status": "completed"
    },
    "tags": []
   },
   "outputs": [
    {
     "data": {
      "image/png": "[encoded data removed]",
      "text/plain": [
       "<Figure size 576x576 with 1 Axes>"
      ]
     },
     "metadata": {},
     "output_type": "display_data"
    }
   ],
   "source": [
    "plt.figure(figsize=(8,8))\n",
    "\n",
    "explode=(0.15,0.05,0.05,0.05,0.05,0.05)\n",
    "\n",
    "df[\"Product line\"][df[\"Gender\"]==\"Male\"].value_counts().plot.pie(autopct=\"%1.2f%%\",startangle=80,explode=explode,)\n",
    "\n",
    "plt.title(\"Transaction per month of Males\");\n"
   ]
  },
  {
   "cell_type": "markdown",
   "id": "7d156ea8",
   "metadata": {
    "papermill": {
     "duration": 0.023147,
     "end_time": "2022-12-07T16:07:43.202344",
     "exception": false,
     "start_time": "2022-12-07T16:07:43.179197",
     "status": "completed"
    },
    "tags": []
   },
   "source": [
    "## **На этом графике показана единственная мужская транзакция в месяц.**\n",
    "> **Теперь график изменился. Модные аксессуары переместились с первого места на четвертое. И сейчас на первом месте Здоровье и Красота. Кто сказал, что мужчины не заботятся о своей красоте? Я шучу, такой вывод сделать нельзя. Может быть, они купили его для своих подруг или мам. Кто знает?**\n",
    "\n",
    "\n",
    "> **Размещение электронных аксессуаров рядом с аксессуарами для здоровья и красоты может увеличить продажи в супермаркетах!**"
   ]
  },
  {
   "cell_type": "code",
   "execution_count": 35,
   "id": "29bd9a15",
   "metadata": {
    "execution": {
     "iopub.execute_input": "2022-12-07T16:07:43.251732Z",
     "iopub.status.busy": "2022-12-07T16:07:43.251107Z",
     "iopub.status.idle": "2022-12-07T16:07:43.467930Z",
     "shell.execute_reply": "2022-12-07T16:07:43.465982Z"
    },
    "papermill": {
     "duration": 0.247349,
     "end_time": "2022-12-07T16:07:43.473016",
     "exception": false,
     "start_time": "2022-12-07T16:07:43.225667",
     "status": "completed"
    },
    "tags": []
   },
   "outputs": [
    {
     "data": {
      "image/png": "[encoded data removed]",
      "text/plain": [
       "<Figure size 576x576 with 1 Axes>"
      ]
     },
     "metadata": {},
     "output_type": "display_data"
    }
   ],
   "source": [
    "plt.figure(figsize=(8,8))\n",
    "\n",
    "explode=(0.15,0.05,0.05,0.05,0.05,0.05)\n",
    "\n",
    "df[\"Product line\"][df[\"Gender\"]==\"Female\"].value_counts().plot.pie(autopct=\"%1.2f%%\",startangle=80,explode=explode,)\n",
    "\n",
    "plt.title(\"Transaction per month of Females\");\n"
   ]
  },
  {
   "cell_type": "markdown",
   "id": "a8b62614",
   "metadata": {
    "papermill": {
     "duration": 0.024193,
     "end_time": "2022-12-07T16:07:43.522253",
     "exception": false,
     "start_time": "2022-12-07T16:07:43.498060",
     "status": "completed"
    },
    "tags": []
   },
   "source": [
    "## **На этом графике показана единственная транзакция женского пола в месяц.**\n",
    "> **Как мы и ожидали, модные аксессуары с большим отрывом впереди.**"
   ]
  },
  {
   "cell_type": "code",
   "execution_count": 36,
   "id": "c37a706d",
   "metadata": {
    "execution": {
     "iopub.execute_input": "2022-12-07T16:07:43.573891Z",
     "iopub.status.busy": "2022-12-07T16:07:43.572566Z",
     "iopub.status.idle": "2022-12-07T16:07:43.833760Z",
     "shell.execute_reply": "2022-12-07T16:07:43.832606Z"
    },
    "papermill": {
     "duration": 0.289553,
     "end_time": "2022-12-07T16:07:43.836343",
     "exception": false,
     "start_time": "2022-12-07T16:07:43.546790",
     "status": "completed"
    },
    "tags": []
   },
   "outputs": [
    {
     "data": {
      "image/png": "[encoded data removed]",
      "text/plain": [
       "<Figure size 432x288 with 1 Axes>"
      ]
     },
     "metadata": {
      "needs_background": "light"
     },
     "output_type": "display_data"
    }
   ],
   "source": [
    "plt.title(\"Total Monthly Tranaction\")\n",
    "sns.countplot(x=df[\"City\"],hue = df[\"Branch\"]);"
   ]
  },
  {
   "cell_type": "markdown",
   "id": "31bffa59",
   "metadata": {
    "papermill": {
     "duration": 0.024929,
     "end_time": "2022-12-07T16:07:43.886429",
     "exception": false,
     "start_time": "2022-12-07T16:07:43.861500",
     "status": "completed"
    },
    "tags": []
   },
   "source": [
    "> Большинство клиентов из города Янгон."
   ]
  },
  {
   "cell_type": "code",
   "execution_count": 37,
   "id": "b9dc4def",
   "metadata": {
    "execution": {
     "iopub.execute_input": "2022-12-07T16:07:43.940510Z",
     "iopub.status.busy": "2022-12-07T16:07:43.939630Z",
     "iopub.status.idle": "2022-12-07T16:07:44.233917Z",
     "shell.execute_reply": "2022-12-07T16:07:44.232656Z"
    },
    "papermill": {
     "duration": 0.324428,
     "end_time": "2022-12-07T16:07:44.236709",
     "exception": false,
     "start_time": "2022-12-07T16:07:43.912281",
     "status": "completed"
    },
    "tags": []
   },
   "outputs": [
    {
     "data": {
      "image/png": "[encoded data removed]",
      "text/plain": [
       "<Figure size 864x432 with 1 Axes>"
      ]
     },
     "metadata": {
      "needs_background": "light"
     },
     "output_type": "display_data"
    }
   ],
   "source": [
    "plt.figure(figsize=(12,6))\n",
    "plt.title(\"total monthly Transaction\")\n",
    "sns.countplot(x=df[\"Branch\"],hue=df[\"Product line\"])\n",
    "plt.xticks(rotation=35)\n",
    "plt.legend(loc=\"best\"); \n",
    "plt.show()"
   ]
  },
  {
   "cell_type": "markdown",
   "id": "eddf30de",
   "metadata": {
    "papermill": {
     "duration": 0.025025,
     "end_time": "2022-12-07T16:07:44.287333",
     "exception": false,
     "start_time": "2022-12-07T16:07:44.262308",
     "status": "completed"
    },
    "tags": []
   },
   "source": [
    "> Как видите, популярность и потребности могут меняться в зависимости от местоположения."
   ]
  },
  {
   "cell_type": "code",
   "execution_count": 38,
   "id": "7804e127",
   "metadata": {
    "execution": {
     "iopub.execute_input": "2022-12-07T16:07:44.340965Z",
     "iopub.status.busy": "2022-12-07T16:07:44.339753Z",
     "iopub.status.idle": "2022-12-07T16:07:44.529224Z",
     "shell.execute_reply": "2022-12-07T16:07:44.527991Z"
    },
    "papermill": {
     "duration": 0.218671,
     "end_time": "2022-12-07T16:07:44.531776",
     "exception": false,
     "start_time": "2022-12-07T16:07:44.313105",
     "status": "completed"
    },
    "tags": []
   },
   "outputs": [
    {
     "data": {
      "image/png": "[encoded data removed]",
      "text/plain": [
       "<Figure size 432x288 with 1 Axes>"
      ]
     },
     "metadata": {
      "needs_background": "light"
     },
     "output_type": "display_data"
    }
   ],
   "source": [
    "plt.title(\"Countplot of customers types\")\n",
    "sns.countplot(x=df[\"Customer type\" ]);"
   ]
  },
  {
   "cell_type": "markdown",
   "id": "e52ed6a9",
   "metadata": {
    "papermill": {
     "duration": 0.025445,
     "end_time": "2022-12-07T16:07:44.582974",
     "exception": false,
     "start_time": "2022-12-07T16:07:44.557529",
     "status": "completed"
    },
    "tags": []
   },
   "source": [
    "- Это почти равные"
   ]
  },
  {
   "cell_type": "code",
   "execution_count": 39,
   "id": "96ffadb7",
   "metadata": {
    "execution": {
     "iopub.execute_input": "2022-12-07T16:07:44.636692Z",
     "iopub.status.busy": "2022-12-07T16:07:44.635857Z",
     "iopub.status.idle": "2022-12-07T16:07:44.645045Z",
     "shell.execute_reply": "2022-12-07T16:07:44.644232Z"
    },
    "papermill": {
     "duration": 0.038324,
     "end_time": "2022-12-07T16:07:44.647248",
     "exception": false,
     "start_time": "2022-12-07T16:07:44.608924",
     "status": "completed"
    },
    "tags": []
   },
   "outputs": [
    {
     "data": {
      "text/plain": [
       "Member    501\n",
       "Normal    499\n",
       "Name: Customer type, dtype: int64"
      ]
     },
     "execution_count": 39,
     "metadata": {},
     "output_type": "execute_result"
    }
   ],
   "source": [
    "df[\"Customer type\"].value_counts()"
   ]
  },
  {
   "cell_type": "markdown",
   "id": "88eda511",
   "metadata": {
    "papermill": {
     "duration": 0.025144,
     "end_time": "2022-12-07T16:07:44.698827",
     "exception": false,
     "start_time": "2022-12-07T16:07:44.673683",
     "status": "completed"
    },
    "tags": []
   },
   "source": [
    "- Различий всего 2 человека"
   ]
  },
  {
   "cell_type": "code",
   "execution_count": 34,
   "id": "7d5f7eb6",
   "metadata": {
    "execution": {
     "iopub.execute_input": "2022-12-07T16:07:44.752224Z",
     "iopub.status.busy": "2022-12-07T16:07:44.751790Z",
     "iopub.status.idle": "2022-12-07T16:07:45.008441Z",
     "shell.execute_reply": "2022-12-07T16:07:45.007143Z"
    },
    "papermill": {
     "duration": 0.286684,
     "end_time": "2022-12-07T16:07:45.011194",
     "exception": false,
     "start_time": "2022-12-07T16:07:44.724510",
     "status": "completed"
    },
    "tags": []
   },
   "outputs": [
    {
     "data": {
      "image/png": "[encoded data removed]",
      "text/plain": [
       "<Figure size 640x480 with 1 Axes>"
      ]
     },
     "metadata": {},
     "output_type": "display_data"
    }
   ],
   "source": [
    "plt.title(\"Frequency of purchases genderwise\")\n",
    "sns.countplot(x=df.City,hue=df.Gender);\n",
    "#Genders с точки зрения городов"
   ]
  },
  {
   "cell_type": "code",
   "execution_count": 41,
   "id": "070c0b23",
   "metadata": {
    "execution": {
     "iopub.execute_input": "2022-12-07T16:07:45.065560Z",
     "iopub.status.busy": "2022-12-07T16:07:45.065132Z",
     "iopub.status.idle": "2022-12-07T16:07:45.264829Z",
     "shell.execute_reply": "2022-12-07T16:07:45.263934Z"
    },
    "papermill": {
     "duration": 0.229911,
     "end_time": "2022-12-07T16:07:45.267293",
     "exception": false,
     "start_time": "2022-12-07T16:07:45.037382",
     "status": "completed"
    },
    "tags": []
   },
   "outputs": [
    {
     "data": {
      "image/png": "[encoded data removed]",
      "text/plain": [
       "<Figure size 432x288 with 1 Axes>"
      ]
     },
     "metadata": {
      "needs_background": "light"
     },
     "output_type": "display_data"
    }
   ],
   "source": [
    "sns.countplot(x=df.Payment);"
   ]
  },
  {
   "cell_type": "markdown",
   "id": "1c5d07a8",
   "metadata": {
    "papermill": {
     "duration": 0.025942,
     "end_time": "2022-12-07T16:07:45.319868",
     "exception": false,
     "start_time": "2022-12-07T16:07:45.293926",
     "status": "completed"
    },
    "tags": []
   },
   "source": [
    "> **Кредитная карта дешевле других**"
   ]
  },
  {
   "cell_type": "code",
   "execution_count": 42,
   "id": "94e29a94",
   "metadata": {
    "execution": {
     "iopub.execute_input": "2022-12-07T16:07:45.374342Z",
     "iopub.status.busy": "2022-12-07T16:07:45.373550Z",
     "iopub.status.idle": "2022-12-07T16:07:45.655402Z",
     "shell.execute_reply": "2022-12-07T16:07:45.654482Z"
    },
    "papermill": {
     "duration": 0.311597,
     "end_time": "2022-12-07T16:07:45.657764",
     "exception": false,
     "start_time": "2022-12-07T16:07:45.346167",
     "status": "completed"
    },
    "tags": []
   },
   "outputs": [
    {
     "data": {
      "image/png": "[encoded data removed]",
      "text/plain": [
       "<Figure size 432x288 with 1 Axes>"
      ]
     },
     "metadata": {
      "needs_background": "light"
     },
     "output_type": "display_data"
    }
   ],
   "source": [
    "sns.barplot(x=df.Payment,y=df[\"Total\"]);"
   ]
  },
  {
   "cell_type": "markdown",
   "id": "4eb784fc",
   "metadata": {
    "papermill": {
     "duration": 0.026107,
     "end_time": "2022-12-07T16:07:45.710285",
     "exception": false,
     "start_time": "2022-12-07T16:07:45.684178",
     "status": "completed"
    },
    "tags": []
   },
   "source": [
    "> **Я ожидал увидеть более высокие кредитные карты и электронные кошельки, когда общая сумма увеличится, но это не так. Таким образом, мы не должны забывать, что эти данные были в начале 2019 года, поэтому мы должны думать об этой дате, а не сегодня. **"
   ]
  },
  {
   "cell_type": "code",
   "execution_count": 43,
   "id": "175b6505",
   "metadata": {
    "execution": {
     "iopub.execute_input": "2022-12-07T16:07:45.765959Z",
     "iopub.status.busy": "2022-12-07T16:07:45.764729Z",
     "iopub.status.idle": "2022-12-07T16:07:46.188785Z",
     "shell.execute_reply": "2022-12-07T16:07:46.187520Z"
    },
    "papermill": {
     "duration": 0.454685,
     "end_time": "2022-12-07T16:07:46.191650",
     "exception": false,
     "start_time": "2022-12-07T16:07:45.736965",
     "status": "completed"
    },
    "tags": []
   },
   "outputs": [
    {
     "data": {
      "image/png": "[encoded data removed]",
      "text/plain": [
       "<Figure size 864x432 with 1 Axes>"
      ]
     },
     "metadata": {
      "needs_background": "light"
     },
     "output_type": "display_data"
    }
   ],
   "source": [
    "plt.figure(figsize=(12,6))\n",
    "sns.barplot(x=df[\"Product line\"],y=df[\"gross income\"]);"
   ]
  },
  {
   "cell_type": "code",
   "execution_count": 44,
   "id": "8ea28ce1",
   "metadata": {
    "execution": {
     "iopub.execute_input": "2022-12-07T16:07:46.249132Z",
     "iopub.status.busy": "2022-12-07T16:07:46.248286Z",
     "iopub.status.idle": "2022-12-07T16:07:46.654544Z",
     "shell.execute_reply": "2022-12-07T16:07:46.653392Z"
    },
    "papermill": {
     "duration": 0.437926,
     "end_time": "2022-12-07T16:07:46.657047",
     "exception": false,
     "start_time": "2022-12-07T16:07:46.219121",
     "status": "completed"
    },
    "tags": []
   },
   "outputs": [
    {
     "data": {
      "image/png": "[encoded data removed]",
      "text/plain": [
       "<Figure size 864x432 with 1 Axes>"
      ]
     },
     "metadata": {
      "needs_background": "light"
     },
     "output_type": "display_data"
    }
   ],
   "source": [
    "plt.figure(figsize=(12,6))\n",
    "sns.barplot(x=df[\"Product line\"],y=df[\"gross income\"])\n",
    "plt.xticks(rotation=45);"
   ]
  },
  {
   "cell_type": "markdown",
   "id": "0750c454",
   "metadata": {
    "papermill": {
     "duration": 0.027084,
     "end_time": "2022-12-07T16:07:46.711701",
     "exception": false,
     "start_time": "2022-12-07T16:07:46.684617",
     "status": "completed"
    },
    "tags": []
   },
   "source": [
    "> **Валовой доход от дома и образа жизни больше, чем у других.**"
   ]
  },
  {
   "cell_type": "code",
   "execution_count": 45,
   "id": "f5e7f586",
   "metadata": {
    "execution": {
     "iopub.execute_input": "2022-12-07T16:07:46.770398Z",
     "iopub.status.busy": "2022-12-07T16:07:46.769972Z",
     "iopub.status.idle": "2022-12-07T16:07:47.166520Z",
     "shell.execute_reply": "2022-12-07T16:07:47.165652Z"
    },
    "papermill": {
     "duration": 0.429307,
     "end_time": "2022-12-07T16:07:47.168685",
     "exception": false,
     "start_time": "2022-12-07T16:07:46.739378",
     "status": "completed"
    },
    "tags": []
   },
   "outputs": [
    {
     "data": {
      "image/png": "[encoded data removed]",
      "text/plain": [
       "<Figure size 864x432 with 1 Axes>"
      ]
     },
     "metadata": {
      "needs_background": "light"
     },
     "output_type": "display_data"
    }
   ],
   "source": [
    "plt.figure(figsize=(12,6))\n",
    "sns.barplot(y=df[\"Product line\"],x=df[\"Rating\"]);"
   ]
  },
  {
   "cell_type": "markdown",
   "id": "bf246528",
   "metadata": {
    "papermill": {
     "duration": 0.027465,
     "end_time": "2022-12-07T16:07:47.224606",
     "exception": false,
     "start_time": "2022-12-07T16:07:47.197141",
     "status": "completed"
    },
    "tags": []
   },
   "source": [
    "> **Нет большой разницы между рейтингом и аксессуарами, я думаю, что мы больше ничего не можем сказать об этом графике**"
   ]
  },
  {
   "cell_type": "code",
   "execution_count": 46,
   "id": "ad77ad1f",
   "metadata": {
    "execution": {
     "iopub.execute_input": "2022-12-07T16:07:47.282792Z",
     "iopub.status.busy": "2022-12-07T16:07:47.282055Z",
     "iopub.status.idle": "2022-12-07T16:07:47.842604Z",
     "shell.execute_reply": "2022-12-07T16:07:47.841517Z"
    },
    "papermill": {
     "duration": 0.592607,
     "end_time": "2022-12-07T16:07:47.845231",
     "exception": false,
     "start_time": "2022-12-07T16:07:47.252624",
     "status": "completed"
    },
    "tags": []
   },
   "outputs": [
    {
     "data": {
      "image/png": "[encoded data removed]",
      "text/plain": [
       "<Figure size 864x432 with 1 Axes>"
      ]
     },
     "metadata": {
      "needs_background": "light"
     },
     "output_type": "display_data"
    }
   ],
   "source": [
    "plt.figure(figsize=(12,6))\n",
    "sns.barplot(x=df[\"Total\"],y=df[\"Product line\"]);"
   ]
  },
  {
   "cell_type": "markdown",
   "id": "777f0add",
   "metadata": {
    "papermill": {
     "duration": 0.028055,
     "end_time": "2022-12-07T16:07:47.903238",
     "exception": false,
     "start_time": "2022-12-07T16:07:47.875183",
     "status": "completed"
    },
    "tags": []
   },
   "source": [
    "> Мы можем сказать, что, возможно, товары для дома и образа жизни дороже, чем другие, или когда люди покупают эти товары, количество товаров больше, чем у других. Напротив, мы не можем найти, что верно"
   ]
  },
  {
   "cell_type": "code",
   "execution_count": 47,
   "id": "cfa740b7",
   "metadata": {
    "execution": {
     "iopub.execute_input": "2022-12-07T16:07:47.962867Z",
     "iopub.status.busy": "2022-12-07T16:07:47.962116Z",
     "iopub.status.idle": "2022-12-07T16:07:48.217215Z",
     "shell.execute_reply": "2022-12-07T16:07:48.216097Z"
    },
    "papermill": {
     "duration": 0.288165,
     "end_time": "2022-12-07T16:07:48.219842",
     "exception": false,
     "start_time": "2022-12-07T16:07:47.931677",
     "status": "completed"
    },
    "tags": []
   },
   "outputs": [
    {
     "data": {
      "image/png": "[encoded data removed]",
      "text/plain": [
       "<Figure size 864x432 with 1 Axes>"
      ]
     },
     "metadata": {
      "needs_background": "light"
     },
     "output_type": "display_data"
    }
   ],
   "source": [
    "plt.figure(figsize=(12,6))\n",
    "sns.histplot(df[\"Quantity\"]);"
   ]
  },
  {
   "cell_type": "markdown",
   "id": "26c3f0d4",
   "metadata": {
    "papermill": {
     "duration": 0.028118,
     "end_time": "2022-12-07T16:07:48.277320",
     "exception": false,
     "start_time": "2022-12-07T16:07:48.249202",
     "status": "completed"
    },
    "tags": []
   },
   "source": [
    "> Количества распределены почти поровну."
   ]
  },
  {
   "cell_type": "markdown",
   "id": "8f692fa3",
   "metadata": {
    "papermill": {
     "duration": 0.028607,
     "end_time": "2022-12-07T16:07:48.334979",
     "exception": false,
     "start_time": "2022-12-07T16:07:48.306372",
     "status": "completed"
    },
    "tags": []
   },
   "source": [
    "## Корреляция"
   ]
  },
  {
   "cell_type": "code",
   "execution_count": 48,
   "id": "d894c4ea",
   "metadata": {
    "execution": {
     "iopub.execute_input": "2022-12-07T16:07:48.394458Z",
     "iopub.status.busy": "2022-12-07T16:07:48.394026Z",
     "iopub.status.idle": "2022-12-07T16:07:49.278294Z",
     "shell.execute_reply": "2022-12-07T16:07:49.277405Z"
    },
    "papermill": {
     "duration": 0.916634,
     "end_time": "2022-12-07T16:07:49.280702",
     "exception": false,
     "start_time": "2022-12-07T16:07:48.364068",
     "status": "completed"
    },
    "tags": []
   },
   "outputs": [
    {
     "data": {
      "image/png": "[encoded data removed]",
      "text/plain": [
       "<Figure size 720x720 with 2 Axes>"
      ]
     },
     "metadata": {
      "needs_background": "light"
     },
     "output_type": "display_data"
    }
   ],
   "source": [
    "plt.figure(figsize=(10,10))\n",
    "sns.heatmap(df.corr(),annot=True);"
   ]
  },
  {
   "cell_type": "code",
   "execution_count": 35,
   "id": "e6a7fa19",
   "metadata": {
    "execution": {
     "iopub.execute_input": "2022-12-07T16:07:49.344457Z",
     "iopub.status.busy": "2022-12-07T16:07:49.343632Z",
     "iopub.status.idle": "2022-12-07T16:07:50.171845Z",
     "shell.execute_reply": "2022-12-07T16:07:50.170688Z"
    },
    "papermill": {
     "duration": 0.862685,
     "end_time": "2022-12-07T16:07:50.174626",
     "exception": false,
     "start_time": "2022-12-07T16:07:49.311941",
     "status": "completed"
    },
    "tags": []
   },
   "outputs": [
    {
     "data": {
      "image/png": "[encoded data removed]",
      "text/plain": [
       "<Figure size 1200x1200 with 2 Axes>"
      ]
     },
     "metadata": {},
     "output_type": "display_data"
    }
   ],
   "source": [
    "#Чтобы лучше видеть, я уберу столбцы NaN.\n",
    "plt.figure(figsize=(12,12))\n",
    "sns.heatmap(df.drop([\"gross margin percentage\",\"year\"],axis=1).corr(),annot=True,cmap=\"winter\");"
   ]
  }
 ],
 "metadata": {
  "kernelspec": {
   "display_name": "Python 3 (ipykernel)",
   "language": "python",
   "name": "python3"
  },
  "language_info": {
   "codemirror_mode": {
    "name": "ipython",
    "version": 3
   },
   "file_extension": ".py",
   "mimetype": "text/x-python",
   "name": "python",
   "nbconvert_exporter": "python",
   "pygments_lexer": "ipython3",
   "version": "3.9.13"
  },
  "papermill": {
   "default_parameters": {},
   "duration": 22.3127,
   "end_time": "2022-12-07T16:07:51.221946",
   "environment_variables": {},
   "exception": null,
   "input_path": "__notebook__.ipynb",
   "output_path": "__notebook__.ipynb",
   "parameters": {},
   "start_time": "2022-12-07T16:07:28.909246",
   "version": "2.3.4"
  }
 },
 "nbformat": 4,
 "nbformat_minor": 5
}
