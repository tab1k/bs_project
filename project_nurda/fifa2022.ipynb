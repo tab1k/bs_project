{
 "cells": [
  {
   "cell_type": "markdown",
   "id": "1b2d4143",
   "metadata": {
    "_cell_guid": "c3a88594-a72b-4294-ba4f-c2be9d6cdd22",
    "_uuid": "6c65a045-bfbd-4aa0-a3f8-0a4e093a9626",
    "papermill": {
     "duration": 0.014078,
     "end_time": "2022-11-13T08:41:51.998590",
     "exception": false,
     "start_time": "2022-11-13T08:41:51.984512",
     "status": "completed"
    },
    "tags": []
   },
   "source": [
    "**Мы спрогнозировали команды, которые могут выиграть ЧМ-2022 и которые могут преподнести сюрприз, ориентируясь на свои результаты в предыдущих международных матчах за пределами своего поля, поскольку чемпионат мира проводится за пределами поля всех команд, кроме принимающей команды Катара! **"
   ]
  },
  {
   "cell_type": "markdown",
   "id": "37a6d130",
   "metadata": {
    "papermill": {
     "duration": 0.011987,
     "end_time": "2022-11-13T08:41:52.023114",
     "exception": false,
     "start_time": "2022-11-13T08:41:52.011127",
     "status": "completed"
    },
    "tags": []
   },
   "source": [
    "# ***Импорт библиотек***\n"
   ]
  },
  {
   "cell_type": "code",
   "execution_count": 64,
   "id": "91397caa",
   "metadata": {
    "_cell_guid": "91dd64d7-1d7f-4868-a100-841f1774bd83",
    "_uuid": "87313702-068d-4669-8f8f-6d5a0622b7f1",
    "execution": {
     "iopub.execute_input": "2022-11-13T08:41:52.050417Z",
     "iopub.status.busy": "2022-11-13T08:41:52.049426Z",
     "iopub.status.idle": "2022-11-13T08:41:53.002933Z",
     "shell.execute_reply": "2022-11-13T08:41:53.001735Z"
    },
    "jupyter": {
     "outputs_hidden": false
    },
    "papermill": {
     "duration": 0.970438,
     "end_time": "2022-11-13T08:41:53.005969",
     "exception": false,
     "start_time": "2022-11-13T08:41:52.035531",
     "status": "completed"
    },
    "tags": []
   },
   "outputs": [],
   "source": [
    "#libraries\n",
    "import numpy as np\n",
    "import pandas as pd\n",
    "import matplotlib.pyplot as plt\n",
    "%matplotlib inline\n",
    "import seaborn as sns\n",
    "from scipy import stats  # решение научных и математических проблем\n",
    "import datetime as dt\n",
    "from matplotlib.ticker import MaxNLocator"
   ]
  },
  {
   "cell_type": "markdown",
   "id": "dc23ed57",
   "metadata": {
    "_cell_guid": "bb6c718f-d5c1-4a0c-9d69-25c421f20e3f",
    "_uuid": "d64c6732-8be8-40d2-bd7a-5fae89edce4b",
    "papermill": {
     "duration": 0.011695,
     "end_time": "2022-11-13T08:41:53.029933",
     "exception": false,
     "start_time": "2022-11-13T08:41:53.018238",
     "status": "completed"
    },
    "tags": []
   },
   "source": [
    "# ***Сбор информации***"
   ]
  },
  {
   "cell_type": "code",
   "execution_count": 65,
   "id": "63719e63",
   "metadata": {
    "_cell_guid": "3edc8e42-b469-4f7d-973d-e8da20b081d8",
    "_uuid": "fb17780c-bb08-4590-a36d-5c9113e92918",
    "execution": {
     "iopub.execute_input": "2022-11-13T08:41:53.056745Z",
     "iopub.status.busy": "2022-11-13T08:41:53.056332Z",
     "iopub.status.idle": "2022-11-13T08:41:53.249583Z",
     "shell.execute_reply": "2022-11-13T08:41:53.248247Z"
    },
    "jupyter": {
     "outputs_hidden": false
    },
    "papermill": {
     "duration": 0.21054,
     "end_time": "2022-11-13T08:41:53.252437",
     "exception": false,
     "start_time": "2022-11-13T08:41:53.041897",
     "status": "completed"
    },
    "tags": []
   },
   "outputs": [
    {
     "data": {
      "text/html": [
       "<div>\n",
       "<style scoped>\n",
       "    .dataframe tbody tr th:only-of-type {\n",
       "        vertical-align: middle;\n",
       "    }\n",
       "\n",
       "    .dataframe tbody tr th {\n",
       "        vertical-align: top;\n",
       "    }\n",
       "\n",
       "    .dataframe thead th {\n",
       "        text-align: right;\n",
       "    }\n",
       "</style>\n",
       "<table border=\"1\" class=\"dataframe\">\n",
       "  <thead>\n",
       "    <tr style=\"text-align: right;\">\n",
       "      <th></th>\n",
       "      <th>date</th>\n",
       "      <th>home_team</th>\n",
       "      <th>away_team</th>\n",
       "      <th>home_team_continent</th>\n",
       "      <th>away_team_continent</th>\n",
       "      <th>home_team_fifa_rank</th>\n",
       "      <th>away_team_fifa_rank</th>\n",
       "      <th>home_team_total_fifa_points</th>\n",
       "      <th>away_team_total_fifa_points</th>\n",
       "      <th>home_team_score</th>\n",
       "      <th>...</th>\n",
       "      <th>shoot_out</th>\n",
       "      <th>home_team_result</th>\n",
       "      <th>home_team_goalkeeper_score</th>\n",
       "      <th>away_team_goalkeeper_score</th>\n",
       "      <th>home_team_mean_defense_score</th>\n",
       "      <th>home_team_mean_offense_score</th>\n",
       "      <th>home_team_mean_midfield_score</th>\n",
       "      <th>away_team_mean_defense_score</th>\n",
       "      <th>away_team_mean_offense_score</th>\n",
       "      <th>away_team_mean_midfield_score</th>\n",
       "    </tr>\n",
       "  </thead>\n",
       "  <tbody>\n",
       "    <tr>\n",
       "      <th>23917</th>\n",
       "      <td>2022-06-14</td>\n",
       "      <td>Liechtenstein</td>\n",
       "      <td>Latvia</td>\n",
       "      <td>Europe</td>\n",
       "      <td>Europe</td>\n",
       "      <td>192</td>\n",
       "      <td>135</td>\n",
       "      <td>895</td>\n",
       "      <td>1105</td>\n",
       "      <td>0</td>\n",
       "      <td>...</td>\n",
       "      <td>No</td>\n",
       "      <td>Lose</td>\n",
       "      <td>NaN</td>\n",
       "      <td>65.0</td>\n",
       "      <td>NaN</td>\n",
       "      <td>NaN</td>\n",
       "      <td>NaN</td>\n",
       "      <td>NaN</td>\n",
       "      <td>NaN</td>\n",
       "      <td>NaN</td>\n",
       "    </tr>\n",
       "    <tr>\n",
       "      <th>23918</th>\n",
       "      <td>2022-06-14</td>\n",
       "      <td>Chile</td>\n",
       "      <td>Ghana</td>\n",
       "      <td>South America</td>\n",
       "      <td>Africa</td>\n",
       "      <td>28</td>\n",
       "      <td>60</td>\n",
       "      <td>1526</td>\n",
       "      <td>1387</td>\n",
       "      <td>0</td>\n",
       "      <td>...</td>\n",
       "      <td>Yes</td>\n",
       "      <td>Lose</td>\n",
       "      <td>79.0</td>\n",
       "      <td>74.0</td>\n",
       "      <td>75.5</td>\n",
       "      <td>76.7</td>\n",
       "      <td>78.2</td>\n",
       "      <td>75.5</td>\n",
       "      <td>76.0</td>\n",
       "      <td>78.2</td>\n",
       "    </tr>\n",
       "    <tr>\n",
       "      <th>23919</th>\n",
       "      <td>2022-06-14</td>\n",
       "      <td>Japan</td>\n",
       "      <td>Tunisia</td>\n",
       "      <td>Asia</td>\n",
       "      <td>Africa</td>\n",
       "      <td>23</td>\n",
       "      <td>35</td>\n",
       "      <td>1553</td>\n",
       "      <td>1499</td>\n",
       "      <td>0</td>\n",
       "      <td>...</td>\n",
       "      <td>No</td>\n",
       "      <td>Lose</td>\n",
       "      <td>73.0</td>\n",
       "      <td>NaN</td>\n",
       "      <td>75.2</td>\n",
       "      <td>75.0</td>\n",
       "      <td>77.5</td>\n",
       "      <td>70.8</td>\n",
       "      <td>72.3</td>\n",
       "      <td>74.0</td>\n",
       "    </tr>\n",
       "    <tr>\n",
       "      <th>23920</th>\n",
       "      <td>2022-06-14</td>\n",
       "      <td>Korea Republic</td>\n",
       "      <td>Egypt</td>\n",
       "      <td>Asia</td>\n",
       "      <td>Africa</td>\n",
       "      <td>29</td>\n",
       "      <td>32</td>\n",
       "      <td>1519</td>\n",
       "      <td>1500</td>\n",
       "      <td>4</td>\n",
       "      <td>...</td>\n",
       "      <td>No</td>\n",
       "      <td>Win</td>\n",
       "      <td>75.0</td>\n",
       "      <td>NaN</td>\n",
       "      <td>73.0</td>\n",
       "      <td>80.0</td>\n",
       "      <td>73.8</td>\n",
       "      <td>NaN</td>\n",
       "      <td>79.3</td>\n",
       "      <td>70.8</td>\n",
       "    </tr>\n",
       "  </tbody>\n",
       "</table>\n",
       "<p>4 rows × 25 columns</p>\n",
       "</div>"
      ],
      "text/plain": [
       "            date       home_team away_team home_team_continent  \\\n",
       "23917 2022-06-14   Liechtenstein    Latvia              Europe   \n",
       "23918 2022-06-14           Chile     Ghana       South America   \n",
       "23919 2022-06-14           Japan   Tunisia                Asia   \n",
       "23920 2022-06-14  Korea Republic     Egypt                Asia   \n",
       "\n",
       "      away_team_continent  home_team_fifa_rank  away_team_fifa_rank  \\\n",
       "23917              Europe                  192                  135   \n",
       "23918              Africa                   28                   60   \n",
       "23919              Africa                   23                   35   \n",
       "23920              Africa                   29                   32   \n",
       "\n",
       "       home_team_total_fifa_points  away_team_total_fifa_points  \\\n",
       "23917                          895                         1105   \n",
       "23918                         1526                         1387   \n",
       "23919                         1553                         1499   \n",
       "23920                         1519                         1500   \n",
       "\n",
       "       home_team_score  ...  shoot_out home_team_result  \\\n",
       "23917                0  ...         No             Lose   \n",
       "23918                0  ...        Yes             Lose   \n",
       "23919                0  ...         No             Lose   \n",
       "23920                4  ...         No              Win   \n",
       "\n",
       "      home_team_goalkeeper_score away_team_goalkeeper_score  \\\n",
       "23917                        NaN                       65.0   \n",
       "23918                       79.0                       74.0   \n",
       "23919                       73.0                        NaN   \n",
       "23920                       75.0                        NaN   \n",
       "\n",
       "       home_team_mean_defense_score home_team_mean_offense_score  \\\n",
       "23917                           NaN                          NaN   \n",
       "23918                          75.5                         76.7   \n",
       "23919                          75.2                         75.0   \n",
       "23920                          73.0                         80.0   \n",
       "\n",
       "      home_team_mean_midfield_score  away_team_mean_defense_score  \\\n",
       "23917                           NaN                           NaN   \n",
       "23918                          78.2                          75.5   \n",
       "23919                          77.5                          70.8   \n",
       "23920                          73.8                           NaN   \n",
       "\n",
       "       away_team_mean_offense_score  away_team_mean_midfield_score  \n",
       "23917                           NaN                            NaN  \n",
       "23918                          76.0                           78.2  \n",
       "23919                          72.3                           74.0  \n",
       "23920                          79.3                           70.8  \n",
       "\n",
       "[4 rows x 25 columns]"
      ]
     },
     "execution_count": 65,
     "metadata": {},
     "output_type": "execute_result"
    }
   ],
   "source": [
    "# Читаем данные, которые будем использовать.\n",
    "fifa = pd.read_csv('fifa.csv', parse_dates = ['date'])\n",
    "fifa.tail(4)"
   ]
  },
  {
   "cell_type": "markdown",
   "id": "06992e68",
   "metadata": {
    "_cell_guid": "e4431a10-8e45-41cd-bca9-1e90f27ccea6",
    "_uuid": "b6d71d6f-63cc-4099-8555-ea38a12965d0",
    "papermill": {
     "duration": 0.01192,
     "end_time": "2022-11-13T08:41:53.276964",
     "exception": false,
     "start_time": "2022-11-13T08:41:53.265044",
     "status": "completed"
    },
    "tags": []
   },
   "source": [
    "\n",
    "***Проверить имена столбцов***"
   ]
  },
  {
   "cell_type": "code",
   "execution_count": 66,
   "id": "d0720932",
   "metadata": {
    "_cell_guid": "25c3743e-32fd-431b-ad36-dcfd54d728b8",
    "_uuid": "a0dc2319-f72c-4f57-8e72-ba7fea39ac63",
    "execution": {
     "iopub.execute_input": "2022-11-13T08:41:53.304630Z",
     "iopub.status.busy": "2022-11-13T08:41:53.303999Z",
     "iopub.status.idle": "2022-11-13T08:41:53.311279Z",
     "shell.execute_reply": "2022-11-13T08:41:53.310275Z"
    },
    "jupyter": {
     "outputs_hidden": false
    },
    "papermill": {
     "duration": 0.023456,
     "end_time": "2022-11-13T08:41:53.313460",
     "exception": false,
     "start_time": "2022-11-13T08:41:53.290004",
     "status": "completed"
    },
    "tags": []
   },
   "outputs": [
    {
     "data": {
      "text/plain": [
       "Index(['date', 'home_team', 'away_team', 'home_team_continent',\n",
       "       'away_team_continent', 'home_team_fifa_rank', 'away_team_fifa_rank',\n",
       "       'home_team_total_fifa_points', 'away_team_total_fifa_points',\n",
       "       'home_team_score', 'away_team_score', 'tournament', 'city', 'country',\n",
       "       'neutral_location', 'shoot_out', 'home_team_result',\n",
       "       'home_team_goalkeeper_score', 'away_team_goalkeeper_score',\n",
       "       'home_team_mean_defense_score', 'home_team_mean_offense_score',\n",
       "       'home_team_mean_midfield_score', 'away_team_mean_defense_score',\n",
       "       'away_team_mean_offense_score', 'away_team_mean_midfield_score'],\n",
       "      dtype='object')"
      ]
     },
     "execution_count": 66,
     "metadata": {},
     "output_type": "execute_result"
    }
   ],
   "source": [
    "# Перечисление всех названий столбцов.\n",
    "fifa.columns"
   ]
  },
  {
   "cell_type": "markdown",
   "id": "a2d2eb46",
   "metadata": {
    "_cell_guid": "829ff427-28a1-4cbf-8929-caa8c5a95ae2",
    "_uuid": "ff07a4a8-509e-49c9-94ff-fd6a1d60b9cc",
    "papermill": {
     "duration": 0.012599,
     "end_time": "2022-11-13T08:41:53.338537",
     "exception": false,
     "start_time": "2022-11-13T08:41:53.325938",
     "status": "completed"
    },
    "tags": []
   },
   "source": [
    "**Удаление ненужных столбцов в рамках проекта**"
   ]
  },
  {
   "cell_type": "code",
   "execution_count": 69,
   "id": "66732a7a",
   "metadata": {
    "_cell_guid": "0480a86a-98f9-4117-8e7c-8bc4bd940655",
    "_uuid": "7831784c-c3fc-47c1-a2c3-a7b212966db9",
    "execution": {
     "iopub.execute_input": "2022-11-13T08:41:53.365213Z",
     "iopub.status.busy": "2022-11-13T08:41:53.364550Z",
     "iopub.status.idle": "2022-11-13T08:41:53.372631Z",
     "shell.execute_reply": "2022-11-13T08:41:53.371811Z"
    },
    "jupyter": {
     "outputs_hidden": false
    },
    "papermill": {
     "duration": 0.024321,
     "end_time": "2022-11-13T08:41:53.375122",
     "exception": false,
     "start_time": "2022-11-13T08:41:53.350801",
     "status": "completed"
    },
    "tags": []
   },
   "outputs": [],
   "source": [
    "clear_df = fifa.drop(['home_team','home_team_continent', 'away_team_continent', 'home_team_mean_midfield_score','home_team_fifa_rank','home_team_mean_offense_score','home_team_mean_defense_score','home_team_score', 'home_team_total_fifa_points','away_team_total_fifa_points', 'city','country','neutral_location', 'shoot_out','home_team_goalkeeper_score','away_team_goalkeeper_score'], axis=1)\n",
    "\n",
    "df = pd.DataFrame(clear_df)"
   ]
  },
  {
   "cell_type": "markdown",
   "id": "6c89155c",
   "metadata": {
    "papermill": {
     "duration": 0.012162,
     "end_time": "2022-11-13T08:41:53.400125",
     "exception": false,
     "start_time": "2022-11-13T08:41:53.387963",
     "status": "completed"
    },
    "tags": []
   },
   "source": [
    "**Отбор команд, участвующих только в чемпионате мира, будь то квалификационные матчи или кубковые матчи.**"
   ]
  },
  {
   "cell_type": "code",
   "execution_count": 70,
   "id": "00d789d6",
   "metadata": {
    "execution": {
     "iopub.execute_input": "2022-11-13T08:41:53.426919Z",
     "iopub.status.busy": "2022-11-13T08:41:53.426498Z",
     "iopub.status.idle": "2022-11-13T08:41:53.448899Z",
     "shell.execute_reply": "2022-11-13T08:41:53.447735Z"
    },
    "papermill": {
     "duration": 0.03873,
     "end_time": "2022-11-13T08:41:53.451200",
     "exception": false,
     "start_time": "2022-11-13T08:41:53.412470",
     "status": "completed"
    },
    "tags": []
   },
   "outputs": [
    {
     "data": {
      "text/plain": [
       "Index(['date', 'away_team', 'away_team_fifa_rank', 'away_team_score',\n",
       "       'tournament', 'home_team_result', 'away_team_mean_defense_score',\n",
       "       'away_team_mean_offense_score', 'away_team_mean_midfield_score'],\n",
       "      dtype='object')"
      ]
     },
     "execution_count": 70,
     "metadata": {},
     "output_type": "execute_result"
    }
   ],
   "source": [
    "fifaWcup = df[df['tournament'].str.contains('FIFA World')]\n",
    "clear_df.columns"
   ]
  },
  {
   "cell_type": "markdown",
   "id": "448ebcb9",
   "metadata": {
    "papermill": {
     "duration": 0.012041,
     "end_time": "2022-11-13T08:41:53.476143",
     "exception": false,
     "start_time": "2022-11-13T08:41:53.464102",
     "status": "completed"
    },
    "tags": []
   },
   "source": [
    "***Показать новый кадр данных***"
   ]
  },
  {
   "cell_type": "code",
   "execution_count": 71,
   "id": "0a3186fd",
   "metadata": {
    "_cell_guid": "74178624-4616-497c-8f88-cf01e3ad0b56",
    "_uuid": "2ce0e340-dd79-4a67-a20d-42112286129c",
    "execution": {
     "iopub.execute_input": "2022-11-13T08:41:53.503301Z",
     "iopub.status.busy": "2022-11-13T08:41:53.502651Z",
     "iopub.status.idle": "2022-11-13T08:41:53.517220Z",
     "shell.execute_reply": "2022-11-13T08:41:53.516056Z"
    },
    "jupyter": {
     "outputs_hidden": false
    },
    "papermill": {
     "duration": 0.031213,
     "end_time": "2022-11-13T08:41:53.519546",
     "exception": false,
     "start_time": "2022-11-13T08:41:53.488333",
     "status": "completed"
    },
    "tags": []
   },
   "outputs": [
    {
     "data": {
      "text/html": [
       "<div>\n",
       "<style scoped>\n",
       "    .dataframe tbody tr th:only-of-type {\n",
       "        vertical-align: middle;\n",
       "    }\n",
       "\n",
       "    .dataframe tbody tr th {\n",
       "        vertical-align: top;\n",
       "    }\n",
       "\n",
       "    .dataframe thead th {\n",
       "        text-align: right;\n",
       "    }\n",
       "</style>\n",
       "<table border=\"1\" class=\"dataframe\">\n",
       "  <thead>\n",
       "    <tr style=\"text-align: right;\">\n",
       "      <th></th>\n",
       "      <th>date</th>\n",
       "      <th>away_team</th>\n",
       "      <th>away_team_fifa_rank</th>\n",
       "      <th>away_team_score</th>\n",
       "      <th>tournament</th>\n",
       "      <th>home_team_result</th>\n",
       "      <th>away_team_mean_defense_score</th>\n",
       "      <th>away_team_mean_offense_score</th>\n",
       "      <th>away_team_mean_midfield_score</th>\n",
       "    </tr>\n",
       "  </thead>\n",
       "  <tbody>\n",
       "    <tr>\n",
       "      <th>23876</th>\n",
       "      <td>2022-06-13</td>\n",
       "      <td>Peru</td>\n",
       "      <td>22</td>\n",
       "      <td>0</td>\n",
       "      <td>FIFA World Cup qualification</td>\n",
       "      <td>Win</td>\n",
       "      <td>74.5</td>\n",
       "      <td>73.0</td>\n",
       "      <td>76.8</td>\n",
       "    </tr>\n",
       "    <tr>\n",
       "      <th>23890</th>\n",
       "      <td>2022-06-14</td>\n",
       "      <td>New Zealand</td>\n",
       "      <td>101</td>\n",
       "      <td>0</td>\n",
       "      <td>FIFA World Cup qualification</td>\n",
       "      <td>Win</td>\n",
       "      <td>70.2</td>\n",
       "      <td>70.7</td>\n",
       "      <td>69.2</td>\n",
       "    </tr>\n",
       "  </tbody>\n",
       "</table>\n",
       "</div>"
      ],
      "text/plain": [
       "            date    away_team  away_team_fifa_rank  away_team_score  \\\n",
       "23876 2022-06-13         Peru                   22                0   \n",
       "23890 2022-06-14  New Zealand                  101                0   \n",
       "\n",
       "                         tournament home_team_result  \\\n",
       "23876  FIFA World Cup qualification              Win   \n",
       "23890  FIFA World Cup qualification              Win   \n",
       "\n",
       "       away_team_mean_defense_score  away_team_mean_offense_score  \\\n",
       "23876                          74.5                          73.0   \n",
       "23890                          70.2                          70.7   \n",
       "\n",
       "       away_team_mean_midfield_score  \n",
       "23876                           76.8  \n",
       "23890                           69.2  "
      ]
     },
     "execution_count": 71,
     "metadata": {},
     "output_type": "execute_result"
    }
   ],
   "source": [
    "# Проверяем последние 2 значений нашего набора данных \n",
    "fifaWcup.tail(2)"
   ]
  },
  {
   "cell_type": "markdown",
   "id": "4a9850f7",
   "metadata": {
    "_cell_guid": "a2855a6d-11de-4ed8-8707-b5052ebb884a",
    "_uuid": "1ea879c0-adb3-4805-adbe-65202c0c3345",
    "papermill": {
     "duration": 0.012251,
     "end_time": "2022-11-13T08:41:53.544594",
     "exception": false,
     "start_time": "2022-11-13T08:41:53.532343",
     "status": "completed"
    },
    "tags": []
   },
   "source": [
    "# EDA"
   ]
  },
  {
   "cell_type": "markdown",
   "id": "3ea53a98",
   "metadata": {
    "_cell_guid": "bec1eb57-49a2-47df-88eb-c08581838a13",
    "_uuid": "4d803ac4-833a-4f18-a976-3974e0b0ef48",
    "papermill": {
     "duration": 0.0122,
     "end_time": "2022-11-13T08:41:53.571569",
     "exception": false,
     "start_time": "2022-11-13T08:41:53.559369",
     "status": "completed"
    },
    "tags": []
   },
   "source": [
    "**Выберите только те команды, которые прошли квалификацию на Кубок мира 2022**"
   ]
  },
  {
   "cell_type": "code",
   "execution_count": 74,
   "id": "53aa5635",
   "metadata": {
    "_cell_guid": "c7bbbebe-3ea8-4979-b662-d10fb2fe0709",
    "_uuid": "8b965f59-8edd-4afa-a204-5bf3cca3f7f3",
    "execution": {
     "iopub.execute_input": "2022-11-13T08:41:53.599145Z",
     "iopub.status.busy": "2022-11-13T08:41:53.598487Z",
     "iopub.status.idle": "2022-11-13T08:41:53.618499Z",
     "shell.execute_reply": "2022-11-13T08:41:53.617013Z"
    },
    "jupyter": {
     "outputs_hidden": false
    },
    "papermill": {
     "duration": 0.036644,
     "end_time": "2022-11-13T08:41:53.620865",
     "exception": false,
     "start_time": "2022-11-13T08:41:53.584221",
     "status": "completed"
    },
    "tags": []
   },
   "outputs": [
    {
     "ename": "NameError",
     "evalue": "name 'df_fifaWcup' is not defined",
     "output_type": "error",
     "traceback": [
      "\u001b[0;31m---------------------------------------------------------------------------\u001b[0m",
      "\u001b[0;31mNameError\u001b[0m                                 Traceback (most recent call last)",
      "\u001b[0;32m/var/folders/4g/x966n1ts5w7f78pg2515mz800000gn/T/ipykernel_7516/3814894818.py\u001b[0m in \u001b[0;36m<module>\u001b[0;34m\u001b[0m\n\u001b[1;32m      1\u001b[0m \u001b[0mteam_list\u001b[0m \u001b[0;34m=\u001b[0m\u001b[0;34m[\u001b[0m\u001b[0;34m'Argentina'\u001b[0m\u001b[0;34m,\u001b[0m \u001b[0;34m'Brazil'\u001b[0m\u001b[0;34m,\u001b[0m \u001b[0;34m'Ecuador'\u001b[0m\u001b[0;34m,\u001b[0m \u001b[0;34m'Uruguay'\u001b[0m\u001b[0;34m,\u001b[0m \u001b[0;34m'Australia'\u001b[0m\u001b[0;34m,\u001b[0m \u001b[0;34m'Cameroon'\u001b[0m\u001b[0;34m,\u001b[0m \u001b[0;34m'Ghana'\u001b[0m \u001b[0;34m,\u001b[0m\u001b[0;34m'Morocco'\u001b[0m \u001b[0;34m,\u001b[0m \u001b[0;34m'Senegal'\u001b[0m \u001b[0;34m,\u001b[0m \u001b[0;34m'Tunisia'\u001b[0m  \u001b[0;34m,\u001b[0m\u001b[0;34m'Iran'\u001b[0m \u001b[0;34m,\u001b[0m \u001b[0;34m'Japan'\u001b[0m\u001b[0;34m,\u001b[0m\u001b[0;34m'Qatar'\u001b[0m \u001b[0;34m,\u001b[0m\u001b[0;34m'Saudi Arabia'\u001b[0m \u001b[0;34m,\u001b[0m \u001b[0;34m'South Korea'\u001b[0m \u001b[0;34m,\u001b[0m\u001b[0;34m'Canada'\u001b[0m \u001b[0;34m,\u001b[0m\u001b[0;34m'Costa Rica'\u001b[0m \u001b[0;34m,\u001b[0m \u001b[0;34m'Mexico'\u001b[0m \u001b[0;34m,\u001b[0m\u001b[0;34m'United States'\u001b[0m \u001b[0;34m,\u001b[0m\u001b[0;34m'Belgium'\u001b[0m\u001b[0;34m,\u001b[0m\u001b[0;34m'Croatia'\u001b[0m \u001b[0;34m,\u001b[0m\u001b[0;34m'Denmark'\u001b[0m \u001b[0;34m,\u001b[0m\u001b[0;34m'England'\u001b[0m \u001b[0;34m,\u001b[0m\u001b[0;34m'France'\u001b[0m \u001b[0;34m,\u001b[0m\u001b[0;34m'Germany'\u001b[0m \u001b[0;34m,\u001b[0m\u001b[0;34m'Netherlands'\u001b[0m \u001b[0;34m,\u001b[0m\u001b[0;34m'Poland'\u001b[0m \u001b[0;34m,\u001b[0m\u001b[0;34m'Portugal'\u001b[0m \u001b[0;34m,\u001b[0m\u001b[0;34m'Serbia'\u001b[0m \u001b[0;34m,\u001b[0m\u001b[0;34m'Spain'\u001b[0m \u001b[0;34m,\u001b[0m\u001b[0;34m'Switzerland'\u001b[0m \u001b[0;34m,\u001b[0m\u001b[0;34m'Wales'\u001b[0m\u001b[0;34m]\u001b[0m\u001b[0;34m\u001b[0m\u001b[0;34m\u001b[0m\u001b[0m\n\u001b[0;32m----> 2\u001b[0;31m \u001b[0mdf_only_tems\u001b[0m \u001b[0;34m=\u001b[0m \u001b[0mdf_fifaWcup\u001b[0m\u001b[0;34m[\u001b[0m\u001b[0mdf_fifaWcup\u001b[0m\u001b[0;34m.\u001b[0m\u001b[0maway_team\u001b[0m\u001b[0;34m.\u001b[0m\u001b[0misin\u001b[0m\u001b[0;34m(\u001b[0m\u001b[0mteam_list\u001b[0m\u001b[0;34m)\u001b[0m\u001b[0;34m]\u001b[0m\u001b[0;34m\u001b[0m\u001b[0;34m\u001b[0m\u001b[0m\n\u001b[0m\u001b[1;32m      3\u001b[0m \u001b[0;34m\u001b[0m\u001b[0m\n\u001b[1;32m      4\u001b[0m \u001b[0mdf_only_tems\u001b[0m\u001b[0;34m.\u001b[0m\u001b[0mtail\u001b[0m\u001b[0;34m(\u001b[0m\u001b[0;36m2\u001b[0m\u001b[0;34m)\u001b[0m\u001b[0;34m\u001b[0m\u001b[0;34m\u001b[0m\u001b[0m\n",
      "\u001b[0;31mNameError\u001b[0m: name 'df_fifaWcup' is not defined"
     ]
    }
   ],
   "source": [
    "team_list =['Argentina', 'Brazil', 'Ecuador', 'Uruguay', 'Australia', 'Cameroon', 'Ghana' ,'Morocco' , 'Senegal' , 'Tunisia'  ,'Iran' , 'Japan','Qatar' ,'Saudi Arabia' , 'South Korea' ,'Canada' ,'Costa Rica' , 'Mexico' ,'United States' ,'Belgium','Croatia' ,'Denmark' ,'England' ,'France' ,'Germany' ,'Netherlands' ,'Poland' ,'Portugal' ,'Serbia' ,'Spain' ,'Switzerland' ,'Wales']\n",
    "df_only_tems = df_fifaWcup[df_fifaWcup.away_team.isin(team_list)]\n",
    "\n",
    "df_only_tems.tail(2)"
   ]
  },
  {
   "cell_type": "markdown",
   "id": "091e8b76",
   "metadata": {
    "_cell_guid": "6ed098e1-7930-4743-8412-e199e2ac8939",
    "_uuid": "83db45f7-ab79-4864-a340-da8e0ea38515",
    "papermill": {
     "duration": 0.012419,
     "end_time": "2022-11-13T08:41:53.646188",
     "exception": false,
     "start_time": "2022-11-13T08:41:53.633769",
     "status": "completed"
    },
    "tags": []
   },
   "source": [
    "**Выберите продолжительность от 5 лет до чемпионата мира по футболу в Катаре**"
   ]
  },
  {
   "cell_type": "code",
   "execution_count": 49,
   "id": "3597ca6c",
   "metadata": {
    "_cell_guid": "33198c09-a46d-45ac-b49b-016139d23b96",
    "_uuid": "0b8b1cab-1a84-4005-9a52-8358a0220e91",
    "execution": {
     "iopub.execute_input": "2022-11-13T08:41:53.674106Z",
     "iopub.status.busy": "2022-11-13T08:41:53.673092Z",
     "iopub.status.idle": "2022-11-13T08:41:53.692871Z",
     "shell.execute_reply": "2022-11-13T08:41:53.691593Z"
    },
    "jupyter": {
     "outputs_hidden": false
    },
    "papermill": {
     "duration": 0.036305,
     "end_time": "2022-11-13T08:41:53.695274",
     "exception": false,
     "start_time": "2022-11-13T08:41:53.658969",
     "status": "completed"
    },
    "tags": []
   },
   "outputs": [
    {
     "ename": "NameError",
     "evalue": "name 'df_only_Q_tems' is not defined",
     "output_type": "error",
     "traceback": [
      "\u001b[0;31m---------------------------------------------------------------------------\u001b[0m",
      "\u001b[0;31mNameError\u001b[0m                                 Traceback (most recent call last)",
      "\u001b[0;32m/var/folders/4g/x966n1ts5w7f78pg2515mz800000gn/T/ipykernel_7516/646593778.py\u001b[0m in \u001b[0;36m<module>\u001b[0;34m\u001b[0m\n\u001b[0;32m----> 1\u001b[0;31m \u001b[0mfiltered_df_date\u001b[0m \u001b[0;34m=\u001b[0m \u001b[0mdf_only_Q_tems\u001b[0m\u001b[0;34m.\u001b[0m\u001b[0mloc\u001b[0m\u001b[0;34m[\u001b[0m\u001b[0;34m(\u001b[0m\u001b[0mdf_only_Q_tems\u001b[0m\u001b[0;34m[\u001b[0m\u001b[0;34m'date'\u001b[0m\u001b[0;34m]\u001b[0m \u001b[0;34m>=\u001b[0m \u001b[0;34m'2017-01-01'\u001b[0m\u001b[0;34m)\u001b[0m \u001b[0;34m&\u001b[0m \u001b[0;34m(\u001b[0m\u001b[0mdf_only_Q_tems\u001b[0m\u001b[0;34m[\u001b[0m\u001b[0;34m'date'\u001b[0m\u001b[0;34m]\u001b[0m \u001b[0;34m<=\u001b[0m \u001b[0;34m'2022-06-14'\u001b[0m\u001b[0;34m)\u001b[0m\u001b[0;34m]\u001b[0m\u001b[0;34m\u001b[0m\u001b[0;34m\u001b[0m\u001b[0m\n\u001b[0m\u001b[1;32m      2\u001b[0m \u001b[0mfiltered_df_date\u001b[0m\u001b[0;34m.\u001b[0m\u001b[0mtail\u001b[0m\u001b[0;34m(\u001b[0m\u001b[0;36m2\u001b[0m\u001b[0;34m)\u001b[0m\u001b[0;34m\u001b[0m\u001b[0;34m\u001b[0m\u001b[0m\n",
      "\u001b[0;31mNameError\u001b[0m: name 'df_only_Q_tems' is not defined"
     ]
    }
   ],
   "source": [
    "filtered_df_date = df_only_Q_tems.loc[(df_only_Q_tems['date'] >= '2017-01-01') & (df_only_Q_tems['date'] <= '2022-06-14')]\n",
    "filtered_df_date.tail(2)"
   ]
  },
  {
   "cell_type": "markdown",
   "id": "706ae1f2",
   "metadata": {
    "_cell_guid": "c5cfc26e-3c6b-474a-b9e2-09308c6e21e8",
    "_uuid": "ad3bce24-f39b-45b3-adf8-94ec1dd56992",
    "papermill": {
     "duration": 0.012699,
     "end_time": "2022-11-13T08:41:53.721100",
     "exception": false,
     "start_time": "2022-11-13T08:41:53.708401",
     "status": "completed"
    },
    "tags": []
   },
   "source": [
    "**Выберите 10 топ-рейтингов away_team_fifa_rank из 32 команд**"
   ]
  },
  {
   "cell_type": "code",
   "execution_count": 15,
   "id": "4cf4f921",
   "metadata": {
    "_cell_guid": "12ca5e4d-84ea-4a48-8e30-bc80338613d0",
    "_uuid": "e9f6304c-4d0c-453f-bf6b-6689cb5f360d",
    "execution": {
     "iopub.execute_input": "2022-11-13T08:41:53.749194Z",
     "iopub.status.busy": "2022-11-13T08:41:53.748553Z",
     "iopub.status.idle": "2022-11-13T08:41:53.772464Z",
     "shell.execute_reply": "2022-11-13T08:41:53.771255Z"
    },
    "jupyter": {
     "outputs_hidden": false
    },
    "papermill": {
     "duration": 0.040733,
     "end_time": "2022-11-13T08:41:53.774909",
     "exception": false,
     "start_time": "2022-11-13T08:41:53.734176",
     "status": "completed"
    },
    "tags": []
   },
   "outputs": [
    {
     "ename": "NameError",
     "evalue": "name 'filtered_df_date' is not defined",
     "output_type": "error",
     "traceback": [
      "\u001b[0;31m---------------------------------------------------------------------------\u001b[0m",
      "\u001b[0;31mNameError\u001b[0m                                 Traceback (most recent call last)",
      "\u001b[0;32m/var/folders/4g/x966n1ts5w7f78pg2515mz800000gn/T/ipykernel_7516/3575151410.py\u001b[0m in \u001b[0;36m<module>\u001b[0;34m\u001b[0m\n\u001b[0;32m----> 1\u001b[0;31m \u001b[0mfifa_rank_away_teams\u001b[0m \u001b[0;34m=\u001b[0m \u001b[0mfiltered_df_date\u001b[0m\u001b[0;34m[\u001b[0m\u001b[0;34m[\u001b[0m\u001b[0;34m'date'\u001b[0m\u001b[0;34m,\u001b[0m\u001b[0;34m'away_team'\u001b[0m\u001b[0;34m,\u001b[0m\u001b[0;34m'away_team_fifa_rank'\u001b[0m\u001b[0;34m]\u001b[0m\u001b[0;34m]\u001b[0m\u001b[0;34m\u001b[0m\u001b[0;34m\u001b[0m\u001b[0m\n\u001b[0m\u001b[1;32m      2\u001b[0m \u001b[0maway_team\u001b[0m \u001b[0;34m=\u001b[0m \u001b[0mfifa_rank_away_teams\u001b[0m\u001b[0;34m[\u001b[0m\u001b[0;34m[\u001b[0m\u001b[0;34m'date'\u001b[0m\u001b[0;34m,\u001b[0m\u001b[0;34m'away_team'\u001b[0m\u001b[0;34m,\u001b[0m\u001b[0;34m'away_team_fifa_rank'\u001b[0m\u001b[0;34m]\u001b[0m\u001b[0;34m]\u001b[0m\u001b[0;34m.\u001b[0m\u001b[0mrename\u001b[0m\u001b[0;34m(\u001b[0m\u001b[0mcolumns\u001b[0m\u001b[0;34m=\u001b[0m\u001b[0;34m{\u001b[0m\u001b[0;34m\"away_team\"\u001b[0m\u001b[0;34m:\u001b[0m\u001b[0;34m\"Team\"\u001b[0m\u001b[0;34m,\u001b[0m\u001b[0;34m\"away_team_fifa_rank\"\u001b[0m\u001b[0;34m:\u001b[0m\u001b[0;34m\"Rank\"\u001b[0m\u001b[0;34m}\u001b[0m\u001b[0;34m)\u001b[0m\u001b[0;34m\u001b[0m\u001b[0;34m\u001b[0m\u001b[0m\n\u001b[1;32m      3\u001b[0m \u001b[0mfifa_rank\u001b[0m \u001b[0;34m=\u001b[0m \u001b[0maway_team\u001b[0m\u001b[0;34m.\u001b[0m\u001b[0msort_values\u001b[0m\u001b[0;34m(\u001b[0m\u001b[0;34m[\u001b[0m\u001b[0;34m'Team'\u001b[0m\u001b[0;34m,\u001b[0m\u001b[0;34m'date'\u001b[0m\u001b[0;34m]\u001b[0m\u001b[0;34m,\u001b[0m\u001b[0mascending\u001b[0m\u001b[0;34m=\u001b[0m\u001b[0;34m[\u001b[0m\u001b[0;32mTrue\u001b[0m\u001b[0;34m,\u001b[0m\u001b[0;32mFalse\u001b[0m\u001b[0;34m]\u001b[0m\u001b[0;34m)\u001b[0m\u001b[0;34m\u001b[0m\u001b[0;34m\u001b[0m\u001b[0m\n\u001b[1;32m      4\u001b[0m \u001b[0;34m\u001b[0m\u001b[0m\n\u001b[1;32m      5\u001b[0m \u001b[0mfifa_rank_top10\u001b[0m \u001b[0;34m=\u001b[0m \u001b[0mfifa_rank\u001b[0m\u001b[0;34m.\u001b[0m\u001b[0mgroupby\u001b[0m\u001b[0;34m(\u001b[0m\u001b[0;34m'Team'\u001b[0m\u001b[0;34m)\u001b[0m\u001b[0;34m.\u001b[0m\u001b[0mfirst\u001b[0m\u001b[0;34m(\u001b[0m\u001b[0;34m)\u001b[0m\u001b[0;34m.\u001b[0m\u001b[0msort_values\u001b[0m\u001b[0;34m(\u001b[0m\u001b[0;34m'Rank'\u001b[0m\u001b[0;34m,\u001b[0m\u001b[0mascending\u001b[0m\u001b[0;34m=\u001b[0m\u001b[0;32mTrue\u001b[0m\u001b[0;34m)\u001b[0m\u001b[0;34m[\u001b[0m\u001b[0;36m0\u001b[0m\u001b[0;34m:\u001b[0m\u001b[0;36m10\u001b[0m\u001b[0;34m]\u001b[0m\u001b[0;34m.\u001b[0m\u001b[0mreset_index\u001b[0m\u001b[0;34m(\u001b[0m\u001b[0;34m)\u001b[0m\u001b[0;34m\u001b[0m\u001b[0;34m\u001b[0m\u001b[0m\n",
      "\u001b[0;31mNameError\u001b[0m: name 'filtered_df_date' is not defined"
     ]
    }
   ],
   "source": [
    "fifa_rank_away_teams = filtered_df_date[['date','away_team','away_team_fifa_rank']]\n",
    "away_team = fifa_rank_away_teams[['date','away_team','away_team_fifa_rank']].rename(columns={\"away_team\":\"Team\",\"away_team_fifa_rank\":\"Rank\"})\n",
    "fifa_rank = away_team.sort_values(['Team','date'],ascending=[True,False])\n",
    "\n",
    "fifa_rank_top10 = fifa_rank.groupby('Team').first().sort_values('Rank',ascending=True)[0:10].reset_index()\n",
    "fifa_rank_top10"
   ]
  },
  {
   "cell_type": "markdown",
   "id": "72070cd3",
   "metadata": {
    "_cell_guid": "516190b5-3d41-4c7c-9f9e-9ac609a3f0d8",
    "_uuid": "7a95e145-ca2f-45ff-890f-975396566276",
    "papermill": {
     "duration": 0.012927,
     "end_time": "2022-11-13T08:41:53.801013",
     "exception": false,
     "start_time": "2022-11-13T08:41:53.788086",
     "status": "completed"
    },
    "tags": []
   },
   "source": [
    "Бельгия имеет самый высокий рейтинг ФИФА в зависимости от команды, занимающей выездное место."
   ]
  },
  {
   "cell_type": "markdown",
   "id": "a966c9ca",
   "metadata": {
    "_cell_guid": "49a47c28-444b-472a-8db3-98c99fe46b83",
    "_uuid": "baeece67-20e2-4f3e-84c4-28d676bb9ae3",
    "papermill": {
     "duration": 0.01292,
     "end_time": "2022-11-13T08:41:53.827644",
     "exception": false,
     "start_time": "2022-11-13T08:41:53.814724",
     "status": "completed"
    },
    "tags": []
   },
   "source": [
    "![](https://s.yimg.com/ny/api/res/1.2/qBqSilx2d9hTNi0sIsSB2A--/YXBwaWQ9aGlnaGxhbmRlcjt3PTEyMDA7aD03NDk-/https://media.zenfs.com/en/the_telegraph_258/055fff26a5e21004e5c45c9f54a53a92)"
   ]
  },
  {
   "cell_type": "markdown",
   "id": "9755656c",
   "metadata": {
    "papermill": {
     "duration": 0.013113,
     "end_time": "2022-11-13T08:41:53.854493",
     "exception": false,
     "start_time": "2022-11-13T08:41:53.841380",
     "status": "completed"
    },
    "tags": []
   },
   "source": [
    "## Визуализация данных"
   ]
  },
  {
   "cell_type": "code",
   "execution_count": 50,
   "id": "0e9f8aa7",
   "metadata": {
    "_cell_guid": "9c24fc6c-ad62-4445-b2a9-1887ef31274b",
    "_uuid": "a734e6f4-c206-4428-bc46-6e88c1ab1599",
    "execution": {
     "iopub.execute_input": "2022-11-13T08:41:53.883401Z",
     "iopub.status.busy": "2022-11-13T08:41:53.882697Z",
     "iopub.status.idle": "2022-11-13T08:41:55.037855Z",
     "shell.execute_reply": "2022-11-13T08:41:55.036726Z"
    },
    "jupyter": {
     "outputs_hidden": false
    },
    "papermill": {
     "duration": 1.172624,
     "end_time": "2022-11-13T08:41:55.040441",
     "exception": false,
     "start_time": "2022-11-13T08:41:53.867817",
     "status": "completed"
    },
    "tags": []
   },
   "outputs": [
    {
     "ename": "NameError",
     "evalue": "name 'fifa_rank_top10' is not defined",
     "output_type": "error",
     "traceback": [
      "\u001b[0;31m---------------------------------------------------------------------------\u001b[0m",
      "\u001b[0;31mNameError\u001b[0m                                 Traceback (most recent call last)",
      "\u001b[0;32m/var/folders/4g/x966n1ts5w7f78pg2515mz800000gn/T/ipykernel_7516/3688737447.py\u001b[0m in \u001b[0;36m<module>\u001b[0;34m\u001b[0m\n\u001b[1;32m      2\u001b[0m \u001b[0mplt\u001b[0m\u001b[0;34m.\u001b[0m\u001b[0mfigure\u001b[0m\u001b[0;34m(\u001b[0m\u001b[0mfigsize\u001b[0m\u001b[0;34m=\u001b[0m\u001b[0;34m(\u001b[0m\u001b[0;36m10\u001b[0m\u001b[0;34m,\u001b[0m\u001b[0;36m4\u001b[0m\u001b[0;34m)\u001b[0m\u001b[0;34m,\u001b[0m\u001b[0mdpi\u001b[0m\u001b[0;34m=\u001b[0m\u001b[0;36m200\u001b[0m\u001b[0;34m)\u001b[0m\u001b[0;34m\u001b[0m\u001b[0;34m\u001b[0m\u001b[0m\n\u001b[1;32m      3\u001b[0m \u001b[0;31m# Horizontal Bar Plot\u001b[0m\u001b[0;34m\u001b[0m\u001b[0;34m\u001b[0m\u001b[0m\n\u001b[0;32m----> 4\u001b[0;31m \u001b[0msns\u001b[0m\u001b[0;34m.\u001b[0m\u001b[0mbarplot\u001b[0m\u001b[0;34m(\u001b[0m\u001b[0mdata\u001b[0m\u001b[0;34m=\u001b[0m\u001b[0mfifa_rank_top10\u001b[0m\u001b[0;34m,\u001b[0m\u001b[0my\u001b[0m\u001b[0;34m=\u001b[0m\u001b[0;34m'Team'\u001b[0m\u001b[0;34m,\u001b[0m\u001b[0mx\u001b[0m\u001b[0;34m=\u001b[0m\u001b[0;34m'Rank'\u001b[0m\u001b[0;34m,\u001b[0m\u001b[0mpalette\u001b[0m\u001b[0;34m=\u001b[0m\u001b[0;34m'pastel'\u001b[0m\u001b[0;34m,\u001b[0m \u001b[0mhue\u001b[0m \u001b[0;34m=\u001b[0m \u001b[0;34m'Team'\u001b[0m\u001b[0;34m,\u001b[0m\u001b[0mdodge\u001b[0m\u001b[0;34m=\u001b[0m\u001b[0;32mFalse\u001b[0m\u001b[0;34m)\u001b[0m\u001b[0;34m\u001b[0m\u001b[0;34m\u001b[0m\u001b[0m\n\u001b[0m\u001b[1;32m      5\u001b[0m \u001b[0;31m# X Scale Size\u001b[0m\u001b[0;34m\u001b[0m\u001b[0;34m\u001b[0m\u001b[0m\n\u001b[1;32m      6\u001b[0m \u001b[0mx_ticks\u001b[0m \u001b[0;34m=\u001b[0m\u001b[0;34m[\u001b[0m\u001b[0;36m0\u001b[0m\u001b[0;34m,\u001b[0m\u001b[0;36m1\u001b[0m\u001b[0;34m,\u001b[0m\u001b[0;36m2\u001b[0m\u001b[0;34m,\u001b[0m\u001b[0;36m3\u001b[0m\u001b[0;34m,\u001b[0m\u001b[0;36m4\u001b[0m\u001b[0;34m,\u001b[0m\u001b[0;36m5\u001b[0m\u001b[0;34m,\u001b[0m\u001b[0;36m6\u001b[0m\u001b[0;34m,\u001b[0m\u001b[0;36m7\u001b[0m\u001b[0;34m,\u001b[0m\u001b[0;36m8\u001b[0m\u001b[0;34m,\u001b[0m\u001b[0;36m9\u001b[0m\u001b[0;34m,\u001b[0m\u001b[0;36m10\u001b[0m\u001b[0;34m,\u001b[0m\u001b[0;36m11\u001b[0m\u001b[0;34m,\u001b[0m\u001b[0;36m12\u001b[0m\u001b[0;34m]\u001b[0m\u001b[0;34m\u001b[0m\u001b[0;34m\u001b[0m\u001b[0m\n",
      "\u001b[0;31mNameError\u001b[0m: name 'fifa_rank_top10' is not defined"
     ]
    },
    {
     "data": {
      "text/plain": [
       "<Figure size 2000x800 with 0 Axes>"
      ]
     },
     "metadata": {},
     "output_type": "display_data"
    }
   ],
   "source": [
    "# Figure Size\n",
    "plt.figure(figsize=(10,4),dpi=200)\n",
    "# Horizontal Bar Plot\n",
    "sns.barplot(data=fifa_rank_top10,y='Team',x='Rank',palette='pastel', hue = 'Team',dodge=False)\n",
    "# X Scale Size\n",
    "x_ticks =[0,1,2,3,4,5,6,7,8,9,10,11,12]\n",
    "x = np.array(np.arange(0, len(x_ticks),1))\n",
    "plt.xticks(x, x_ticks)\n",
    "plt.title(\"Top 10 teams\");\n",
    "\n",
    "# Show Plot\n",
    "plt.show()"
   ]
  },
  {
   "cell_type": "markdown",
   "id": "8c8af58d",
   "metadata": {
    "_cell_guid": "13152f9a-f72c-4eff-9c91-e3f13efec62d",
    "_uuid": "9d586a19-223d-4f51-963f-6590869af157",
    "papermill": {
     "duration": 0.014258,
     "end_time": "2022-11-13T08:41:55.070394",
     "exception": false,
     "start_time": "2022-11-13T08:41:55.056136",
     "status": "completed"
    },
    "tags": []
   },
   "source": [
    "**10 лучших атакующих команд**"
   ]
  },
  {
   "cell_type": "code",
   "execution_count": 51,
   "id": "25eb6ec9",
   "metadata": {
    "_cell_guid": "8fc90c7f-b64b-4f02-8c6f-ea841b379a68",
    "_uuid": "290a2910-d486-46b5-b10f-a29875755cf9",
    "execution": {
     "iopub.execute_input": "2022-11-13T08:41:55.101440Z",
     "iopub.status.busy": "2022-11-13T08:41:55.101061Z",
     "iopub.status.idle": "2022-11-13T08:41:55.125664Z",
     "shell.execute_reply": "2022-11-13T08:41:55.124901Z"
    },
    "jupyter": {
     "outputs_hidden": false
    },
    "papermill": {
     "duration": 0.042864,
     "end_time": "2022-11-13T08:41:55.127836",
     "exception": false,
     "start_time": "2022-11-13T08:41:55.084972",
     "status": "completed"
    },
    "tags": []
   },
   "outputs": [
    {
     "ename": "NameError",
     "evalue": "name 'filtered_df_date' is not defined",
     "output_type": "error",
     "traceback": [
      "\u001b[0;31m---------------------------------------------------------------------------\u001b[0m",
      "\u001b[0;31mNameError\u001b[0m                                 Traceback (most recent call last)",
      "\u001b[0;32m/var/folders/4g/x966n1ts5w7f78pg2515mz800000gn/T/ipykernel_7516/2137439941.py\u001b[0m in \u001b[0;36m<module>\u001b[0;34m\u001b[0m\n\u001b[1;32m      1\u001b[0m \u001b[0;31m# давайте немного изменим форму данных\u001b[0m\u001b[0;34m\u001b[0m\u001b[0;34m\u001b[0m\u001b[0m\n\u001b[1;32m      2\u001b[0m \u001b[0;34m\u001b[0m\u001b[0m\n\u001b[0;32m----> 3\u001b[0;31m \u001b[0moffense\u001b[0m \u001b[0;34m=\u001b[0m \u001b[0mfiltered_df_date\u001b[0m\u001b[0;34m[\u001b[0m\u001b[0;34m[\u001b[0m\u001b[0;34m'date'\u001b[0m\u001b[0;34m,\u001b[0m\u001b[0;34m'away_team'\u001b[0m\u001b[0;34m,\u001b[0m \u001b[0;34m'away_team_mean_offense_score'\u001b[0m\u001b[0;34m]\u001b[0m\u001b[0;34m]\u001b[0m\u001b[0;34m\u001b[0m\u001b[0;34m\u001b[0m\u001b[0m\n\u001b[0m\u001b[1;32m      4\u001b[0m \u001b[0maway\u001b[0m \u001b[0;34m=\u001b[0m \u001b[0moffense\u001b[0m \u001b[0;34m[\u001b[0m\u001b[0;34m[\u001b[0m\u001b[0;34m'date'\u001b[0m\u001b[0;34m,\u001b[0m \u001b[0;34m'away_team'\u001b[0m\u001b[0;34m,\u001b[0m\u001b[0;34m'away_team_mean_offense_score'\u001b[0m\u001b[0;34m]\u001b[0m\u001b[0;34m]\u001b[0m\u001b[0;34m.\u001b[0m\u001b[0mrename\u001b[0m\u001b[0;34m(\u001b[0m\u001b[0mcolumns\u001b[0m \u001b[0;34m=\u001b[0m \u001b[0;34m{\u001b[0m\u001b[0;34m'away_team'\u001b[0m\u001b[0;34m:\u001b[0m \u001b[0;34m'Team'\u001b[0m\u001b[0;34m,\u001b[0m \u001b[0;34m'away_team_mean_offense_score'\u001b[0m \u001b[0;34m:\u001b[0m \u001b[0;34m'Offense_score'\u001b[0m\u001b[0;34m}\u001b[0m\u001b[0;34m)\u001b[0m\u001b[0;34m\u001b[0m\u001b[0;34m\u001b[0m\u001b[0m\n\u001b[1;32m      5\u001b[0m \u001b[0;34m\u001b[0m\u001b[0m\n",
      "\u001b[0;31mNameError\u001b[0m: name 'filtered_df_date' is not defined"
     ]
    }
   ],
   "source": [
    "# давайте немного изменим форму данных\n",
    "\n",
    "offense = filtered_df_date[['date','away_team', 'away_team_mean_offense_score']]\n",
    "away = offense [['date', 'away_team','away_team_mean_offense_score']].rename(columns = {'away_team': 'Team', 'away_team_mean_offense_score' : 'Offense_score'})\n",
    "\n",
    "offense   = away .sort_values(['Team', 'date'], ascending=[True, False])\n",
    "offense ['row_number'] = offense .groupby('Team').cumcount()+1\n",
    "offense_top_10 = offense [offense ['row_number']==1].drop('row_number',axis=1).nlargest(83, 'Offense_score')[0:10].reset_index()\n",
    "offense_top_10"
   ]
  },
  {
   "cell_type": "code",
   "execution_count": 52,
   "id": "70570004",
   "metadata": {
    "_cell_guid": "a2180687-4311-4810-9255-2f1adc7a185e",
    "_uuid": "3b4b2322-ad85-4e19-8ae4-e0c6a552d4ea",
    "execution": {
     "iopub.execute_input": "2022-11-13T08:41:55.159904Z",
     "iopub.status.busy": "2022-11-13T08:41:55.159210Z",
     "iopub.status.idle": "2022-11-13T08:42:00.236620Z",
     "shell.execute_reply": "2022-11-13T08:42:00.235628Z"
    },
    "jupyter": {
     "outputs_hidden": false
    },
    "papermill": {
     "duration": 5.096397,
     "end_time": "2022-11-13T08:42:00.239101",
     "exception": false,
     "start_time": "2022-11-13T08:41:55.142704",
     "status": "completed"
    },
    "scrolled": true,
    "tags": []
   },
   "outputs": [
    {
     "ename": "NameError",
     "evalue": "name 'offense_top_10' is not defined",
     "output_type": "error",
     "traceback": [
      "\u001b[0;31m---------------------------------------------------------------------------\u001b[0m",
      "\u001b[0;31mNameError\u001b[0m                                 Traceback (most recent call last)",
      "\u001b[0;32m/var/folders/4g/x966n1ts5w7f78pg2515mz800000gn/T/ipykernel_7516/3669650456.py\u001b[0m in \u001b[0;36m<module>\u001b[0;34m\u001b[0m\n\u001b[1;32m      1\u001b[0m \u001b[0mplt\u001b[0m\u001b[0;34m.\u001b[0m\u001b[0mfigure\u001b[0m\u001b[0;34m(\u001b[0m\u001b[0mfigsize\u001b[0m\u001b[0;34m=\u001b[0m\u001b[0;34m(\u001b[0m\u001b[0;36m25\u001b[0m\u001b[0;34m,\u001b[0m\u001b[0;36m20\u001b[0m\u001b[0;34m)\u001b[0m\u001b[0;34m,\u001b[0m\u001b[0mdpi\u001b[0m\u001b[0;34m=\u001b[0m\u001b[0;36m400\u001b[0m\u001b[0;34m)\u001b[0m\u001b[0;34m\u001b[0m\u001b[0;34m\u001b[0m\u001b[0m\n\u001b[1;32m      2\u001b[0m \u001b[0;31m# Horizontal Bar Plot\u001b[0m\u001b[0;34m\u001b[0m\u001b[0;34m\u001b[0m\u001b[0m\n\u001b[0;32m----> 3\u001b[0;31m \u001b[0msns\u001b[0m\u001b[0;34m.\u001b[0m\u001b[0mbarplot\u001b[0m\u001b[0;34m(\u001b[0m\u001b[0mdata\u001b[0m\u001b[0;34m=\u001b[0m\u001b[0moffense_top_10\u001b[0m\u001b[0;34m,\u001b[0m\u001b[0mx\u001b[0m\u001b[0;34m=\u001b[0m\u001b[0;34m'Offense_score'\u001b[0m\u001b[0;34m,\u001b[0m\u001b[0my\u001b[0m\u001b[0;34m=\u001b[0m\u001b[0;34m'Team'\u001b[0m\u001b[0;34m,\u001b[0m\u001b[0mpalette\u001b[0m\u001b[0;34m=\u001b[0m\u001b[0;34m'pastel'\u001b[0m\u001b[0;34m,\u001b[0m \u001b[0mhue\u001b[0m \u001b[0;34m=\u001b[0m \u001b[0;34m'Team'\u001b[0m\u001b[0;34m,\u001b[0m\u001b[0mdodge\u001b[0m\u001b[0;34m=\u001b[0m\u001b[0;32mFalse\u001b[0m\u001b[0;34m)\u001b[0m\u001b[0;34m\u001b[0m\u001b[0;34m\u001b[0m\u001b[0m\n\u001b[0m\u001b[1;32m      4\u001b[0m \u001b[0;34m\u001b[0m\u001b[0m\n\u001b[1;32m      5\u001b[0m \u001b[0mplt\u001b[0m\u001b[0;34m.\u001b[0m\u001b[0mtitle\u001b[0m\u001b[0;34m(\u001b[0m\u001b[0;34m\"Top 10 offnse teams\"\u001b[0m\u001b[0;34m)\u001b[0m\u001b[0;34m;\u001b[0m\u001b[0;34m\u001b[0m\u001b[0;34m\u001b[0m\u001b[0m\n",
      "\u001b[0;31mNameError\u001b[0m: name 'offense_top_10' is not defined"
     ]
    },
    {
     "data": {
      "text/plain": [
       "<Figure size 10000x8000 with 0 Axes>"
      ]
     },
     "metadata": {},
     "output_type": "display_data"
    }
   ],
   "source": [
    "plt.figure(figsize=(25,20),dpi=400)\n",
    "# Horizontal Bar Plot\n",
    "sns.barplot(data=offense_top_10,x='Offense_score',y='Team',palette='pastel', hue = 'Team',dodge=False)\n",
    "\n",
    "plt.title(\"Top 10 offnse teams\");\n",
    "# Show Plot\n",
    "plt.show()"
   ]
  },
  {
   "cell_type": "markdown",
   "id": "1ba9af11",
   "metadata": {
    "_cell_guid": "f7cec8c2-ba14-48a5-9cb1-372cf6f06254",
    "_uuid": "3e54ca7c-8e4f-4562-9c84-232370c35d6f",
    "papermill": {
     "duration": 0.019864,
     "end_time": "2022-11-13T08:42:00.279199",
     "exception": false,
     "start_time": "2022-11-13T08:42:00.259335",
     "status": "completed"
    },
    "tags": []
   },
   "source": [
    "**10 лучших команд полузащиты**"
   ]
  },
  {
   "cell_type": "code",
   "execution_count": 53,
   "id": "6b13dfc1",
   "metadata": {
    "_cell_guid": "babbcdd8-a012-4918-91a3-9df01deccb79",
    "_uuid": "502d7dcd-16aa-4e41-82ec-5bc228306310",
    "execution": {
     "iopub.execute_input": "2022-11-13T08:42:00.321764Z",
     "iopub.status.busy": "2022-11-13T08:42:00.321064Z",
     "iopub.status.idle": "2022-11-13T08:42:00.341210Z",
     "shell.execute_reply": "2022-11-13T08:42:00.340359Z"
    },
    "jupyter": {
     "outputs_hidden": false
    },
    "papermill": {
     "duration": 0.044011,
     "end_time": "2022-11-13T08:42:00.343283",
     "exception": false,
     "start_time": "2022-11-13T08:42:00.299272",
     "status": "completed"
    },
    "tags": []
   },
   "outputs": [
    {
     "ename": "NameError",
     "evalue": "name 'filtered_df_date' is not defined",
     "output_type": "error",
     "traceback": [
      "\u001b[0;31m---------------------------------------------------------------------------\u001b[0m",
      "\u001b[0;31mNameError\u001b[0m                                 Traceback (most recent call last)",
      "\u001b[0;32m/var/folders/4g/x966n1ts5w7f78pg2515mz800000gn/T/ipykernel_7516/346026780.py\u001b[0m in \u001b[0;36m<module>\u001b[0;34m\u001b[0m\n\u001b[0;32m----> 1\u001b[0;31m \u001b[0mmidfield\u001b[0m \u001b[0;34m=\u001b[0m \u001b[0mfiltered_df_date\u001b[0m\u001b[0;34m[\u001b[0m\u001b[0;34m[\u001b[0m\u001b[0;34m'date'\u001b[0m\u001b[0;34m,\u001b[0m\u001b[0;34m'away_team'\u001b[0m\u001b[0;34m,\u001b[0m\u001b[0;34m'away_team_mean_midfield_score'\u001b[0m\u001b[0;34m]\u001b[0m\u001b[0;34m]\u001b[0m\u001b[0;34m\u001b[0m\u001b[0;34m\u001b[0m\u001b[0m\n\u001b[0m\u001b[1;32m      2\u001b[0m \u001b[0maway\u001b[0m \u001b[0;34m=\u001b[0m \u001b[0mmidfield\u001b[0m\u001b[0;34m[\u001b[0m\u001b[0;34m[\u001b[0m\u001b[0;34m'date'\u001b[0m\u001b[0;34m,\u001b[0m\u001b[0;34m'away_team'\u001b[0m\u001b[0;34m,\u001b[0m\u001b[0;34m'away_team_mean_midfield_score'\u001b[0m\u001b[0;34m]\u001b[0m\u001b[0;34m]\u001b[0m\u001b[0;34m.\u001b[0m\u001b[0mrename\u001b[0m\u001b[0;34m(\u001b[0m\u001b[0mcolumns\u001b[0m\u001b[0;34m=\u001b[0m\u001b[0;34m{\u001b[0m\u001b[0;34m\"away_team\"\u001b[0m\u001b[0;34m:\u001b[0m\u001b[0;34m\"team\"\u001b[0m\u001b[0;34m,\u001b[0m\u001b[0;34m\"away_team_mean_midfield_score\"\u001b[0m\u001b[0;34m:\u001b[0m\u001b[0;34m\"Midfield_score\"\u001b[0m\u001b[0;34m}\u001b[0m\u001b[0;34m)\u001b[0m\u001b[0;34m\u001b[0m\u001b[0;34m\u001b[0m\u001b[0m\n\u001b[1;32m      3\u001b[0m \u001b[0mmidfield\u001b[0m \u001b[0;34m=\u001b[0m \u001b[0maway\u001b[0m\u001b[0;34m.\u001b[0m\u001b[0msort_values\u001b[0m\u001b[0;34m(\u001b[0m\u001b[0;34m[\u001b[0m\u001b[0;34m'date'\u001b[0m\u001b[0;34m,\u001b[0m\u001b[0;34m'team'\u001b[0m\u001b[0;34m]\u001b[0m\u001b[0;34m,\u001b[0m\u001b[0mascending\u001b[0m\u001b[0;34m=\u001b[0m\u001b[0;34m[\u001b[0m\u001b[0;32mFalse\u001b[0m\u001b[0;34m,\u001b[0m\u001b[0;32mTrue\u001b[0m\u001b[0;34m]\u001b[0m\u001b[0;34m)\u001b[0m\u001b[0;34m\u001b[0m\u001b[0;34m\u001b[0m\u001b[0m\n\u001b[1;32m      4\u001b[0m \u001b[0mbest_midfield_top10\u001b[0m \u001b[0;34m=\u001b[0m \u001b[0mmidfield\u001b[0m\u001b[0;34m.\u001b[0m\u001b[0mgroupby\u001b[0m\u001b[0;34m(\u001b[0m\u001b[0;34m'team'\u001b[0m\u001b[0;34m)\u001b[0m\u001b[0;34m.\u001b[0m\u001b[0mfirst\u001b[0m\u001b[0;34m(\u001b[0m\u001b[0;34m)\u001b[0m\u001b[0;34m.\u001b[0m\u001b[0msort_values\u001b[0m\u001b[0;34m(\u001b[0m\u001b[0;34m'Midfield_score'\u001b[0m\u001b[0;34m,\u001b[0m\u001b[0mascending\u001b[0m\u001b[0;34m=\u001b[0m\u001b[0;32mFalse\u001b[0m\u001b[0;34m)\u001b[0m\u001b[0;34m[\u001b[0m\u001b[0;36m0\u001b[0m\u001b[0;34m:\u001b[0m\u001b[0;36m10\u001b[0m\u001b[0;34m]\u001b[0m\u001b[0;34m.\u001b[0m\u001b[0mreset_index\u001b[0m\u001b[0;34m(\u001b[0m\u001b[0;34m)\u001b[0m\u001b[0;34m\u001b[0m\u001b[0;34m\u001b[0m\u001b[0m\n\u001b[1;32m      5\u001b[0m \u001b[0mbest_midfield_top10\u001b[0m\u001b[0;34m\u001b[0m\u001b[0;34m\u001b[0m\u001b[0m\n",
      "\u001b[0;31mNameError\u001b[0m: name 'filtered_df_date' is not defined"
     ]
    }
   ],
   "source": [
    "midfield = filtered_df_date[['date','away_team','away_team_mean_midfield_score']]\n",
    "away = midfield[['date','away_team','away_team_mean_midfield_score']].rename(columns={\"away_team\":\"team\",\"away_team_mean_midfield_score\":\"Midfield_score\"})\n",
    "midfield = away.sort_values(['date','team'],ascending=[False,True])\n",
    "best_midfield_top10 = midfield.groupby('team').first().sort_values('Midfield_score',ascending=False)[0:10].reset_index()\n",
    "best_midfield_top10"
   ]
  },
  {
   "cell_type": "code",
   "execution_count": 54,
   "id": "4bd3336f",
   "metadata": {
    "_cell_guid": "d631d800-9a3b-4937-b7b6-cb1839ffdc5a",
    "_uuid": "cbe5c93f-e894-4c99-a98d-38fd5ac7a3db",
    "execution": {
     "iopub.execute_input": "2022-11-13T08:42:00.385759Z",
     "iopub.status.busy": "2022-11-13T08:42:00.385314Z",
     "iopub.status.idle": "2022-11-13T08:42:05.372767Z",
     "shell.execute_reply": "2022-11-13T08:42:05.371520Z"
    },
    "jupyter": {
     "outputs_hidden": false
    },
    "papermill": {
     "duration": 5.012148,
     "end_time": "2022-11-13T08:42:05.375591",
     "exception": false,
     "start_time": "2022-11-13T08:42:00.363443",
     "status": "completed"
    },
    "tags": []
   },
   "outputs": [
    {
     "ename": "NameError",
     "evalue": "name 'best_midfield_top10' is not defined",
     "output_type": "error",
     "traceback": [
      "\u001b[0;31m---------------------------------------------------------------------------\u001b[0m",
      "\u001b[0;31mNameError\u001b[0m                                 Traceback (most recent call last)",
      "\u001b[0;32m/var/folders/4g/x966n1ts5w7f78pg2515mz800000gn/T/ipykernel_7516/695212125.py\u001b[0m in \u001b[0;36m<module>\u001b[0;34m\u001b[0m\n\u001b[1;32m      1\u001b[0m \u001b[0mplt\u001b[0m\u001b[0;34m.\u001b[0m\u001b[0mfigure\u001b[0m\u001b[0;34m(\u001b[0m\u001b[0mfigsize\u001b[0m\u001b[0;34m=\u001b[0m\u001b[0;34m(\u001b[0m\u001b[0;36m25\u001b[0m\u001b[0;34m,\u001b[0m\u001b[0;36m20\u001b[0m\u001b[0;34m)\u001b[0m\u001b[0;34m,\u001b[0m\u001b[0mdpi\u001b[0m\u001b[0;34m=\u001b[0m\u001b[0;36m400\u001b[0m\u001b[0;34m)\u001b[0m\u001b[0;34m\u001b[0m\u001b[0;34m\u001b[0m\u001b[0m\n\u001b[1;32m      2\u001b[0m \u001b[0;31m# Horizontal Bar Plot\u001b[0m\u001b[0;34m\u001b[0m\u001b[0;34m\u001b[0m\u001b[0m\n\u001b[0;32m----> 3\u001b[0;31m \u001b[0msns\u001b[0m\u001b[0;34m.\u001b[0m\u001b[0mbarplot\u001b[0m\u001b[0;34m(\u001b[0m\u001b[0mdata\u001b[0m\u001b[0;34m=\u001b[0m\u001b[0mbest_midfield_top10\u001b[0m\u001b[0;34m,\u001b[0m\u001b[0mx\u001b[0m\u001b[0;34m=\u001b[0m\u001b[0;34m'Midfield_score'\u001b[0m\u001b[0;34m,\u001b[0m\u001b[0my\u001b[0m\u001b[0;34m=\u001b[0m\u001b[0;34m'team'\u001b[0m\u001b[0;34m,\u001b[0m\u001b[0mpalette\u001b[0m\u001b[0;34m=\u001b[0m\u001b[0;34m'pastel'\u001b[0m\u001b[0;34m,\u001b[0m \u001b[0mhue\u001b[0m \u001b[0;34m=\u001b[0m \u001b[0;34m'team'\u001b[0m\u001b[0;34m,\u001b[0m\u001b[0mdodge\u001b[0m\u001b[0;34m=\u001b[0m\u001b[0;32mFalse\u001b[0m\u001b[0;34m)\u001b[0m\u001b[0;34m\u001b[0m\u001b[0;34m\u001b[0m\u001b[0m\n\u001b[0m\u001b[1;32m      4\u001b[0m \u001b[0;34m\u001b[0m\u001b[0m\n\u001b[1;32m      5\u001b[0m \u001b[0mplt\u001b[0m\u001b[0;34m.\u001b[0m\u001b[0mtitle\u001b[0m\u001b[0;34m(\u001b[0m\u001b[0;34m\"Top 10 Midfield teams\"\u001b[0m\u001b[0;34m)\u001b[0m\u001b[0;34m;\u001b[0m\u001b[0;34m\u001b[0m\u001b[0;34m\u001b[0m\u001b[0m\n",
      "\u001b[0;31mNameError\u001b[0m: name 'best_midfield_top10' is not defined"
     ]
    },
    {
     "data": {
      "text/plain": [
       "<Figure size 10000x8000 with 0 Axes>"
      ]
     },
     "metadata": {},
     "output_type": "display_data"
    }
   ],
   "source": [
    "plt.figure(figsize=(25,20),dpi=400)\n",
    "# Horizontal Bar Plot\n",
    "sns.barplot(data=best_midfield_top10,x='Midfield_score',y='team',palette='pastel', hue = 'team',dodge=False)\n",
    "\n",
    "plt.title(\"Top 10 Midfield teams\");\n",
    "# Show Plot\n",
    "plt.show()"
   ]
  },
  {
   "cell_type": "markdown",
   "id": "0cd0e31d",
   "metadata": {
    "_cell_guid": "2c31a300-7d3e-4381-9f86-f9d69331ac09",
    "_uuid": "5b4f7464-fc40-4c80-8e94-1ccd59541b82",
    "papermill": {
     "duration": 0.027419,
     "end_time": "2022-11-13T08:42:05.430514",
     "exception": false,
     "start_time": "2022-11-13T08:42:05.403095",
     "status": "completed"
    },
    "tags": []
   },
   "source": [
    "***10 лучших команд защиты***"
   ]
  },
  {
   "cell_type": "code",
   "execution_count": 55,
   "id": "3f2407f9",
   "metadata": {
    "_cell_guid": "5b4bb867-6a1a-4558-a793-1d99c77237a0",
    "_kg_hide-input": true,
    "_uuid": "b72b9dc4-2bee-4245-ac18-e40395b4cab3",
    "execution": {
     "iopub.execute_input": "2022-11-13T08:42:05.485358Z",
     "iopub.status.busy": "2022-11-13T08:42:05.484966Z",
     "iopub.status.idle": "2022-11-13T08:42:05.508437Z",
     "shell.execute_reply": "2022-11-13T08:42:05.507558Z"
    },
    "jupyter": {
     "outputs_hidden": false
    },
    "papermill": {
     "duration": 0.053979,
     "end_time": "2022-11-13T08:42:05.510631",
     "exception": false,
     "start_time": "2022-11-13T08:42:05.456652",
     "status": "completed"
    },
    "tags": []
   },
   "outputs": [
    {
     "ename": "NameError",
     "evalue": "name 'filtered_df_date' is not defined",
     "output_type": "error",
     "traceback": [
      "\u001b[0;31m---------------------------------------------------------------------------\u001b[0m",
      "\u001b[0;31mNameError\u001b[0m                                 Traceback (most recent call last)",
      "\u001b[0;32m/var/folders/4g/x966n1ts5w7f78pg2515mz800000gn/T/ipykernel_7516/1162964805.py\u001b[0m in \u001b[0;36m<module>\u001b[0;34m\u001b[0m\n\u001b[0;32m----> 1\u001b[0;31m \u001b[0mdefense\u001b[0m \u001b[0;34m=\u001b[0m \u001b[0mfiltered_df_date\u001b[0m\u001b[0;34m[\u001b[0m\u001b[0;34m[\u001b[0m\u001b[0;34m'date'\u001b[0m\u001b[0;34m,\u001b[0m \u001b[0;34m'away_team'\u001b[0m\u001b[0;34m,\u001b[0m\u001b[0;34m'away_team_mean_defense_score'\u001b[0m\u001b[0;34m]\u001b[0m\u001b[0;34m]\u001b[0m\u001b[0;34m\u001b[0m\u001b[0;34m\u001b[0m\u001b[0m\n\u001b[0m\u001b[1;32m      2\u001b[0m \u001b[0maway\u001b[0m \u001b[0;34m=\u001b[0m \u001b[0mdefense\u001b[0m\u001b[0;34m[\u001b[0m\u001b[0;34m[\u001b[0m\u001b[0;34m'date'\u001b[0m\u001b[0;34m,\u001b[0m\u001b[0;34m'away_team'\u001b[0m\u001b[0;34m,\u001b[0m\u001b[0;34m'away_team_mean_defense_score'\u001b[0m\u001b[0;34m]\u001b[0m\u001b[0;34m]\u001b[0m\u001b[0;34m.\u001b[0m\u001b[0mrename\u001b[0m\u001b[0;34m(\u001b[0m\u001b[0mcolumns\u001b[0m\u001b[0;34m=\u001b[0m\u001b[0;34m{\u001b[0m\u001b[0;34m\"away_team\"\u001b[0m\u001b[0;34m:\u001b[0m\u001b[0;34m\"team\"\u001b[0m\u001b[0;34m,\u001b[0m\u001b[0;34m\"away_team_mean_defense_score\"\u001b[0m\u001b[0;34m:\u001b[0m\u001b[0;34m\"defense_score\"\u001b[0m\u001b[0;34m}\u001b[0m\u001b[0;34m)\u001b[0m\u001b[0;34m\u001b[0m\u001b[0;34m\u001b[0m\u001b[0m\n\u001b[1;32m      3\u001b[0m \u001b[0;34m\u001b[0m\u001b[0m\n\u001b[1;32m      4\u001b[0m \u001b[0mdefense\u001b[0m \u001b[0;34m=\u001b[0m \u001b[0maway\u001b[0m\u001b[0;34m.\u001b[0m\u001b[0msort_values\u001b[0m\u001b[0;34m(\u001b[0m\u001b[0;34m[\u001b[0m\u001b[0;34m'date'\u001b[0m\u001b[0;34m,\u001b[0m\u001b[0;34m'team'\u001b[0m\u001b[0;34m]\u001b[0m\u001b[0;34m,\u001b[0m\u001b[0mascending\u001b[0m\u001b[0;34m=\u001b[0m\u001b[0;34m[\u001b[0m\u001b[0;32mFalse\u001b[0m\u001b[0;34m,\u001b[0m\u001b[0;32mTrue\u001b[0m\u001b[0;34m]\u001b[0m\u001b[0;34m)\u001b[0m\u001b[0;34m\u001b[0m\u001b[0;34m\u001b[0m\u001b[0m\n\u001b[1;32m      5\u001b[0m \u001b[0mbest_defense_top10\u001b[0m \u001b[0;34m=\u001b[0m \u001b[0mdefense\u001b[0m\u001b[0;34m.\u001b[0m\u001b[0mgroupby\u001b[0m\u001b[0;34m(\u001b[0m\u001b[0;34m'team'\u001b[0m\u001b[0;34m)\u001b[0m\u001b[0;34m.\u001b[0m\u001b[0mfirst\u001b[0m\u001b[0;34m(\u001b[0m\u001b[0;34m)\u001b[0m\u001b[0;34m.\u001b[0m\u001b[0msort_values\u001b[0m\u001b[0;34m(\u001b[0m\u001b[0;34m'defense_score'\u001b[0m\u001b[0;34m,\u001b[0m\u001b[0mascending\u001b[0m\u001b[0;34m=\u001b[0m\u001b[0;32mFalse\u001b[0m\u001b[0;34m)\u001b[0m\u001b[0;34m[\u001b[0m\u001b[0;36m0\u001b[0m\u001b[0;34m:\u001b[0m\u001b[0;36m10\u001b[0m\u001b[0;34m]\u001b[0m\u001b[0;34m.\u001b[0m\u001b[0mreset_index\u001b[0m\u001b[0;34m(\u001b[0m\u001b[0;34m)\u001b[0m\u001b[0;34m\u001b[0m\u001b[0;34m\u001b[0m\u001b[0m\n",
      "\u001b[0;31mNameError\u001b[0m: name 'filtered_df_date' is not defined"
     ]
    }
   ],
   "source": [
    "defense = filtered_df_date[['date', 'away_team','away_team_mean_defense_score']]\n",
    "away = defense[['date','away_team','away_team_mean_defense_score']].rename(columns={\"away_team\":\"team\",\"away_team_mean_defense_score\":\"defense_score\"})\n",
    "\n",
    "defense = away.sort_values(['date','team'],ascending=[False,True])\n",
    "best_defense_top10 = defense.groupby('team').first().sort_values('defense_score',ascending=False)[0:10].reset_index()\n",
    "best_defense_top10"
   ]
  },
  {
   "cell_type": "code",
   "execution_count": 56,
   "id": "5219537a",
   "metadata": {
    "_cell_guid": "9a1a0844-ceb4-4075-b57d-4502fb76cc9e",
    "_uuid": "60eb4e77-5cde-426d-8462-8cc93664d49b",
    "execution": {
     "iopub.execute_input": "2022-11-13T08:42:05.566912Z",
     "iopub.status.busy": "2022-11-13T08:42:05.566424Z",
     "iopub.status.idle": "2022-11-13T08:42:10.817591Z",
     "shell.execute_reply": "2022-11-13T08:42:10.816656Z"
    },
    "jupyter": {
     "outputs_hidden": false
    },
    "papermill": {
     "duration": 5.2829,
     "end_time": "2022-11-13T08:42:10.820183",
     "exception": false,
     "start_time": "2022-11-13T08:42:05.537283",
     "status": "completed"
    },
    "tags": []
   },
   "outputs": [
    {
     "ename": "NameError",
     "evalue": "name 'best_defense_top10' is not defined",
     "output_type": "error",
     "traceback": [
      "\u001b[0;31m---------------------------------------------------------------------------\u001b[0m",
      "\u001b[0;31mNameError\u001b[0m                                 Traceback (most recent call last)",
      "\u001b[0;32m/var/folders/4g/x966n1ts5w7f78pg2515mz800000gn/T/ipykernel_7516/4078430028.py\u001b[0m in \u001b[0;36m<module>\u001b[0;34m\u001b[0m\n\u001b[1;32m      1\u001b[0m \u001b[0mplt\u001b[0m\u001b[0;34m.\u001b[0m\u001b[0mfigure\u001b[0m\u001b[0;34m(\u001b[0m\u001b[0mfigsize\u001b[0m\u001b[0;34m=\u001b[0m\u001b[0;34m(\u001b[0m\u001b[0;36m25\u001b[0m\u001b[0;34m,\u001b[0m\u001b[0;36m20\u001b[0m\u001b[0;34m)\u001b[0m\u001b[0;34m,\u001b[0m\u001b[0mdpi\u001b[0m\u001b[0;34m=\u001b[0m\u001b[0;36m400\u001b[0m\u001b[0;34m)\u001b[0m\u001b[0;34m\u001b[0m\u001b[0;34m\u001b[0m\u001b[0m\n\u001b[1;32m      2\u001b[0m \u001b[0;31m# Horizontal Bar Plot\u001b[0m\u001b[0;34m\u001b[0m\u001b[0;34m\u001b[0m\u001b[0m\n\u001b[0;32m----> 3\u001b[0;31m \u001b[0msns\u001b[0m\u001b[0;34m.\u001b[0m\u001b[0mbarplot\u001b[0m\u001b[0;34m(\u001b[0m\u001b[0mdata\u001b[0m\u001b[0;34m=\u001b[0m\u001b[0mbest_defense_top10\u001b[0m\u001b[0;34m,\u001b[0m\u001b[0mx\u001b[0m\u001b[0;34m=\u001b[0m\u001b[0;34m'defense_score'\u001b[0m\u001b[0;34m,\u001b[0m\u001b[0my\u001b[0m\u001b[0;34m=\u001b[0m\u001b[0;34m'team'\u001b[0m\u001b[0;34m,\u001b[0m\u001b[0mpalette\u001b[0m\u001b[0;34m=\u001b[0m\u001b[0;34m'pastel'\u001b[0m\u001b[0;34m,\u001b[0m \u001b[0mhue\u001b[0m \u001b[0;34m=\u001b[0m \u001b[0;34m'team'\u001b[0m\u001b[0;34m,\u001b[0m\u001b[0mdodge\u001b[0m\u001b[0;34m=\u001b[0m\u001b[0;32mFalse\u001b[0m\u001b[0;34m)\u001b[0m\u001b[0;34m\u001b[0m\u001b[0;34m\u001b[0m\u001b[0m\n\u001b[0m\u001b[1;32m      4\u001b[0m \u001b[0;34m\u001b[0m\u001b[0m\n\u001b[1;32m      5\u001b[0m \u001b[0mplt\u001b[0m\u001b[0;34m.\u001b[0m\u001b[0mtitle\u001b[0m\u001b[0;34m(\u001b[0m\u001b[0;34m\"Top 10 de teams\"\u001b[0m\u001b[0;34m)\u001b[0m\u001b[0;34m;\u001b[0m\u001b[0;34m\u001b[0m\u001b[0;34m\u001b[0m\u001b[0m\n",
      "\u001b[0;31mNameError\u001b[0m: name 'best_defense_top10' is not defined"
     ]
    },
    {
     "data": {
      "text/plain": [
       "<Figure size 10000x8000 with 0 Axes>"
      ]
     },
     "metadata": {},
     "output_type": "display_data"
    }
   ],
   "source": [
    "plt.figure(figsize=(25,20),dpi=400)\n",
    "# Horizontal Bar Plot\n",
    "sns.barplot(data=best_defense_top10,x='defense_score',y='team',palette='pastel', hue = 'team',dodge=False)\n",
    "\n",
    "plt.title(\"Top 10 de teams\");\n",
    "# Show Plot\n",
    "plt.show()"
   ]
  },
  {
   "cell_type": "markdown",
   "id": "a0da5d9e",
   "metadata": {
    "_cell_guid": "10d10357-cd1f-4810-8654-aa19de2f94da",
    "_uuid": "33963aeb-ab59-4b46-ab43-74c5d7c532b1",
    "papermill": {
     "duration": 0.033343,
     "end_time": "2022-11-13T08:42:10.886106",
     "exception": false,
     "start_time": "2022-11-13T08:42:10.852763",
     "status": "completed"
    },
    "tags": []
   },
   "source": [
    "** Расчет процента для 3 факторов **"
   ]
  },
  {
   "cell_type": "code",
   "execution_count": 57,
   "id": "13443882",
   "metadata": {
    "_cell_guid": "2d5dfe91-3851-42ac-99d6-2a27b1aeffff",
    "_uuid": "ae456126-0e22-4ef2-be7f-dcc4dd413fb1",
    "execution": {
     "iopub.execute_input": "2022-11-13T08:42:10.953662Z",
     "iopub.status.busy": "2022-11-13T08:42:10.953291Z",
     "iopub.status.idle": "2022-11-13T08:42:10.965351Z",
     "shell.execute_reply": "2022-11-13T08:42:10.964596Z"
    },
    "jupyter": {
     "outputs_hidden": false
    },
    "papermill": {
     "duration": 0.048431,
     "end_time": "2022-11-13T08:42:10.967618",
     "exception": false,
     "start_time": "2022-11-13T08:42:10.919187",
     "status": "completed"
    },
    "tags": []
   },
   "outputs": [
    {
     "ename": "NameError",
     "evalue": "name 'offense_top_10' is not defined",
     "output_type": "error",
     "traceback": [
      "\u001b[0;31m---------------------------------------------------------------------------\u001b[0m",
      "\u001b[0;31mNameError\u001b[0m                                 Traceback (most recent call last)",
      "\u001b[0;32m/var/folders/4g/x966n1ts5w7f78pg2515mz800000gn/T/ipykernel_7516/558055182.py\u001b[0m in \u001b[0;36m<module>\u001b[0;34m\u001b[0m\n\u001b[0;32m----> 1\u001b[0;31m \u001b[0moffense_top_10\u001b[0m\u001b[0;34m[\u001b[0m\u001b[0;34m'Sum'\u001b[0m\u001b[0;34m]\u001b[0m \u001b[0;34m=\u001b[0m \u001b[0moffense_top_10\u001b[0m\u001b[0;34m[\u001b[0m\u001b[0;34m'Offense_score'\u001b[0m\u001b[0;34m]\u001b[0m\u001b[0;34m.\u001b[0m\u001b[0msum\u001b[0m\u001b[0;34m(\u001b[0m\u001b[0maxis\u001b[0m\u001b[0;34m=\u001b[0m\u001b[0;36m0\u001b[0m\u001b[0;34m)\u001b[0m\u001b[0;34m\u001b[0m\u001b[0;34m\u001b[0m\u001b[0m\n\u001b[0m\u001b[1;32m      2\u001b[0m \u001b[0moffense_top_10\u001b[0m\u001b[0;34m[\u001b[0m\u001b[0;34m'Percent'\u001b[0m\u001b[0;34m]\u001b[0m \u001b[0;34m=\u001b[0m \u001b[0mround\u001b[0m\u001b[0;34m(\u001b[0m\u001b[0;34m(\u001b[0m\u001b[0moffense_top_10\u001b[0m\u001b[0;34m[\u001b[0m\u001b[0;34m'Offense_score'\u001b[0m\u001b[0;34m]\u001b[0m\u001b[0;34m*\u001b[0m\u001b[0;36m100\u001b[0m\u001b[0;34m)\u001b[0m\u001b[0;34m/\u001b[0m\u001b[0moffense_top_10\u001b[0m\u001b[0;34m[\u001b[0m\u001b[0;34m'Sum'\u001b[0m\u001b[0;34m]\u001b[0m\u001b[0;34m,\u001b[0m\u001b[0;36m2\u001b[0m\u001b[0;34m)\u001b[0m\u001b[0;34m\u001b[0m\u001b[0;34m\u001b[0m\u001b[0m\n\u001b[1;32m      3\u001b[0m \u001b[0;34m\u001b[0m\u001b[0m\n\u001b[1;32m      4\u001b[0m \u001b[0mbest_defense_top10\u001b[0m\u001b[0;34m[\u001b[0m\u001b[0;34m'Sum'\u001b[0m\u001b[0;34m]\u001b[0m\u001b[0;34m=\u001b[0m\u001b[0mbest_defense_top10\u001b[0m\u001b[0;34m[\u001b[0m\u001b[0;34m'defense_score'\u001b[0m\u001b[0;34m]\u001b[0m\u001b[0;34m.\u001b[0m\u001b[0msum\u001b[0m\u001b[0;34m(\u001b[0m\u001b[0maxis\u001b[0m\u001b[0;34m=\u001b[0m\u001b[0;36m0\u001b[0m\u001b[0;34m)\u001b[0m\u001b[0;34m\u001b[0m\u001b[0;34m\u001b[0m\u001b[0m\n\u001b[1;32m      5\u001b[0m \u001b[0mbest_defense_top10\u001b[0m\u001b[0;34m[\u001b[0m\u001b[0;34m'Percent'\u001b[0m\u001b[0;34m]\u001b[0m\u001b[0;34m=\u001b[0m \u001b[0mround\u001b[0m\u001b[0;34m(\u001b[0m\u001b[0;34m(\u001b[0m\u001b[0mbest_defense_top10\u001b[0m\u001b[0;34m[\u001b[0m\u001b[0;34m'defense_score'\u001b[0m\u001b[0;34m]\u001b[0m\u001b[0;34m*\u001b[0m\u001b[0;36m100\u001b[0m\u001b[0;34m)\u001b[0m\u001b[0;34m/\u001b[0m\u001b[0mbest_defense_top10\u001b[0m\u001b[0;34m[\u001b[0m\u001b[0;34m'Sum'\u001b[0m\u001b[0;34m]\u001b[0m\u001b[0;34m,\u001b[0m\u001b[0;36m2\u001b[0m\u001b[0;34m)\u001b[0m\u001b[0;34m\u001b[0m\u001b[0;34m\u001b[0m\u001b[0m\n",
      "\u001b[0;31mNameError\u001b[0m: name 'offense_top_10' is not defined"
     ]
    }
   ],
   "source": [
    "offense_top_10['Sum'] = offense_top_10['Offense_score'].sum(axis=0)\n",
    "offense_top_10['Percent'] = round((offense_top_10['Offense_score']*100)/offense_top_10['Sum'],2)\n",
    "\n",
    "best_defense_top10['Sum']=best_defense_top10['defense_score'].sum(axis=0)\n",
    "best_defense_top10['Percent']= round((best_defense_top10['defense_score']*100)/best_defense_top10['Sum'],2)\n",
    "\n",
    "best_midfield_top10['Sum']=best_midfield_top10['Midfield_score'].sum(axis=0)\n",
    "best_midfield_top10['Percent']= round((best_midfield_top10['Midfield_score']*100)/best_midfield_top10['Sum'],2)"
   ]
  },
  {
   "cell_type": "markdown",
   "id": "841b5b29",
   "metadata": {
    "_cell_guid": "fc6b7280-d08f-4855-b510-ca241a4271a6",
    "_uuid": "8a3e3b90-6489-4364-bce1-586e367f4781",
    "papermill": {
     "duration": 0.0315,
     "end_time": "2022-11-13T08:42:11.031491",
     "exception": false,
     "start_time": "2022-11-13T08:42:10.999991",
     "status": "completed"
    },
    "tags": []
   },
   "source": [
    "Проверка факторов"
   ]
  },
  {
   "cell_type": "code",
   "execution_count": 58,
   "id": "6dddd7a8",
   "metadata": {
    "_cell_guid": "1602120a-0cb5-493a-a62a-392b66638971",
    "_uuid": "0bb626b4-a3a8-4568-935a-dabd2942bb6e",
    "execution": {
     "iopub.execute_input": "2022-11-13T08:42:11.098480Z",
     "iopub.status.busy": "2022-11-13T08:42:11.098059Z",
     "iopub.status.idle": "2022-11-13T08:42:11.106137Z",
     "shell.execute_reply": "2022-11-13T08:42:11.105251Z"
    },
    "jupyter": {
     "outputs_hidden": false
    },
    "papermill": {
     "duration": 0.044262,
     "end_time": "2022-11-13T08:42:11.108271",
     "exception": false,
     "start_time": "2022-11-13T08:42:11.064009",
     "status": "completed"
    },
    "tags": []
   },
   "outputs": [
    {
     "ename": "NameError",
     "evalue": "name 'offense_top_10' is not defined",
     "output_type": "error",
     "traceback": [
      "\u001b[0;31m---------------------------------------------------------------------------\u001b[0m",
      "\u001b[0;31mNameError\u001b[0m                                 Traceback (most recent call last)",
      "\u001b[0;32m/var/folders/4g/x966n1ts5w7f78pg2515mz800000gn/T/ipykernel_7516/3509078964.py\u001b[0m in \u001b[0;36m<module>\u001b[0;34m\u001b[0m\n\u001b[0;32m----> 1\u001b[0;31m \u001b[0moffense_top_10\u001b[0m\u001b[0;34m[\u001b[0m\u001b[0;34m'Team'\u001b[0m\u001b[0;34m]\u001b[0m\u001b[0;34m\u001b[0m\u001b[0;34m\u001b[0m\u001b[0m\n\u001b[0m",
      "\u001b[0;31mNameError\u001b[0m: name 'offense_top_10' is not defined"
     ]
    }
   ],
   "source": [
    "offense_top_10['Team']"
   ]
  },
  {
   "cell_type": "code",
   "execution_count": 59,
   "id": "1025f699",
   "metadata": {
    "_cell_guid": "1e6155d1-9b93-4903-8c06-2be7e4f4ca32",
    "_uuid": "6c850231-ab21-4f2f-842b-05a094c974db",
    "execution": {
     "iopub.execute_input": "2022-11-13T08:42:11.175955Z",
     "iopub.status.busy": "2022-11-13T08:42:11.175525Z",
     "iopub.status.idle": "2022-11-13T08:42:11.183433Z",
     "shell.execute_reply": "2022-11-13T08:42:11.182376Z"
    },
    "jupyter": {
     "outputs_hidden": false
    },
    "papermill": {
     "duration": 0.044105,
     "end_time": "2022-11-13T08:42:11.185629",
     "exception": false,
     "start_time": "2022-11-13T08:42:11.141524",
     "status": "completed"
    },
    "tags": []
   },
   "outputs": [
    {
     "ename": "NameError",
     "evalue": "name 'best_midfield_top10' is not defined",
     "output_type": "error",
     "traceback": [
      "\u001b[0;31m---------------------------------------------------------------------------\u001b[0m",
      "\u001b[0;31mNameError\u001b[0m                                 Traceback (most recent call last)",
      "\u001b[0;32m/var/folders/4g/x966n1ts5w7f78pg2515mz800000gn/T/ipykernel_7516/1237909981.py\u001b[0m in \u001b[0;36m<module>\u001b[0;34m\u001b[0m\n\u001b[0;32m----> 1\u001b[0;31m \u001b[0mbest_midfield_top10\u001b[0m\u001b[0;34m[\u001b[0m\u001b[0;34m'team'\u001b[0m\u001b[0;34m]\u001b[0m\u001b[0;34m\u001b[0m\u001b[0;34m\u001b[0m\u001b[0m\n\u001b[0m",
      "\u001b[0;31mNameError\u001b[0m: name 'best_midfield_top10' is not defined"
     ]
    }
   ],
   "source": [
    "best_midfield_top10['team']"
   ]
  },
  {
   "cell_type": "code",
   "execution_count": 60,
   "id": "50bed10e",
   "metadata": {
    "_cell_guid": "413a6793-2b66-4b05-bc1a-5e1d0389dc3f",
    "_uuid": "f4086e60-f27d-4c57-a3c0-96f2f189c050",
    "execution": {
     "iopub.execute_input": "2022-11-13T08:42:11.253212Z",
     "iopub.status.busy": "2022-11-13T08:42:11.252540Z",
     "iopub.status.idle": "2022-11-13T08:42:11.260310Z",
     "shell.execute_reply": "2022-11-13T08:42:11.259347Z"
    },
    "jupyter": {
     "outputs_hidden": false
    },
    "papermill": {
     "duration": 0.044923,
     "end_time": "2022-11-13T08:42:11.262708",
     "exception": false,
     "start_time": "2022-11-13T08:42:11.217785",
     "status": "completed"
    },
    "tags": []
   },
   "outputs": [
    {
     "ename": "NameError",
     "evalue": "name 'best_defense_top10' is not defined",
     "output_type": "error",
     "traceback": [
      "\u001b[0;31m---------------------------------------------------------------------------\u001b[0m",
      "\u001b[0;31mNameError\u001b[0m                                 Traceback (most recent call last)",
      "\u001b[0;32m/var/folders/4g/x966n1ts5w7f78pg2515mz800000gn/T/ipykernel_7516/1087417406.py\u001b[0m in \u001b[0;36m<module>\u001b[0;34m\u001b[0m\n\u001b[0;32m----> 1\u001b[0;31m \u001b[0mbest_defense_top10\u001b[0m\u001b[0;34m[\u001b[0m\u001b[0;34m'team'\u001b[0m\u001b[0;34m]\u001b[0m\u001b[0;34m\u001b[0m\u001b[0;34m\u001b[0m\u001b[0m\n\u001b[0m",
      "\u001b[0;31mNameError\u001b[0m: name 'best_defense_top10' is not defined"
     ]
    }
   ],
   "source": [
    "best_defense_top10['team']"
   ]
  },
  {
   "cell_type": "markdown",
   "id": "cc303027",
   "metadata": {
    "papermill": {
     "duration": 0.031633,
     "end_time": "2022-11-13T08:42:11.326790",
     "exception": false,
     "start_time": "2022-11-13T08:42:11.295157",
     "status": "completed"
    },
    "tags": []
   },
   "source": [
    "**Объединение 3 факторов**"
   ]
  },
  {
   "cell_type": "code",
   "execution_count": 61,
   "id": "26414c95",
   "metadata": {
    "_cell_guid": "38ac563c-d038-4ce0-8b92-07f286864257",
    "_uuid": "88bd8960-6312-4082-a808-928e1d78f5ca",
    "execution": {
     "iopub.execute_input": "2022-11-13T08:42:11.393945Z",
     "iopub.status.busy": "2022-11-13T08:42:11.393540Z",
     "iopub.status.idle": "2022-11-13T08:42:11.404927Z",
     "shell.execute_reply": "2022-11-13T08:42:11.404052Z"
    },
    "jupyter": {
     "outputs_hidden": false
    },
    "papermill": {
     "duration": 0.047677,
     "end_time": "2022-11-13T08:42:11.406939",
     "exception": false,
     "start_time": "2022-11-13T08:42:11.359262",
     "status": "completed"
    },
    "tags": []
   },
   "outputs": [
    {
     "ename": "NameError",
     "evalue": "name 'best_defense_top10' is not defined",
     "output_type": "error",
     "traceback": [
      "\u001b[0;31m---------------------------------------------------------------------------\u001b[0m",
      "\u001b[0;31mNameError\u001b[0m                                 Traceback (most recent call last)",
      "\u001b[0;32m/var/folders/4g/x966n1ts5w7f78pg2515mz800000gn/T/ipykernel_7516/3127845014.py\u001b[0m in \u001b[0;36m<module>\u001b[0;34m\u001b[0m\n\u001b[0;32m----> 1\u001b[0;31m \u001b[0ma\u001b[0m \u001b[0;34m=\u001b[0m \u001b[0mbest_defense_top10\u001b[0m\u001b[0;34m[\u001b[0m\u001b[0;34m'team'\u001b[0m\u001b[0;34m]\u001b[0m\u001b[0;34m.\u001b[0m\u001b[0msort_values\u001b[0m\u001b[0;34m(\u001b[0m\u001b[0mascending\u001b[0m\u001b[0;34m=\u001b[0m\u001b[0;32mFalse\u001b[0m\u001b[0;34m)\u001b[0m\u001b[0;34m\u001b[0m\u001b[0;34m\u001b[0m\u001b[0m\n\u001b[0m\u001b[1;32m      2\u001b[0m \u001b[0mb\u001b[0m \u001b[0;34m=\u001b[0m \u001b[0mbest_midfield_top10\u001b[0m\u001b[0;34m[\u001b[0m\u001b[0;34m'team'\u001b[0m\u001b[0;34m]\u001b[0m\u001b[0;34m.\u001b[0m\u001b[0msort_values\u001b[0m\u001b[0;34m(\u001b[0m\u001b[0mascending\u001b[0m\u001b[0;34m=\u001b[0m\u001b[0;32mTrue\u001b[0m\u001b[0;34m)\u001b[0m\u001b[0;34m\u001b[0m\u001b[0;34m\u001b[0m\u001b[0m\n\u001b[1;32m      3\u001b[0m \u001b[0mc\u001b[0m \u001b[0;34m=\u001b[0m \u001b[0moffense_top_10\u001b[0m\u001b[0;34m[\u001b[0m\u001b[0;34m'Team'\u001b[0m\u001b[0;34m]\u001b[0m\u001b[0;34m.\u001b[0m\u001b[0msort_values\u001b[0m\u001b[0;34m(\u001b[0m\u001b[0mascending\u001b[0m\u001b[0;34m=\u001b[0m\u001b[0;32mTrue\u001b[0m\u001b[0;34m)\u001b[0m\u001b[0;34m\u001b[0m\u001b[0;34m\u001b[0m\u001b[0m\n\u001b[1;32m      4\u001b[0m \u001b[0mpd\u001b[0m\u001b[0;34m.\u001b[0m\u001b[0mconcat\u001b[0m\u001b[0;34m(\u001b[0m\u001b[0;34m[\u001b[0m\u001b[0ma\u001b[0m\u001b[0;34m,\u001b[0m\u001b[0mb\u001b[0m\u001b[0;34m,\u001b[0m\u001b[0mc\u001b[0m\u001b[0;34m]\u001b[0m\u001b[0;34m)\u001b[0m\u001b[0;34m.\u001b[0m\u001b[0msort_values\u001b[0m\u001b[0;34m(\u001b[0m\u001b[0mascending\u001b[0m\u001b[0;34m=\u001b[0m\u001b[0;32mTrue\u001b[0m\u001b[0;34m)\u001b[0m\u001b[0;34m\u001b[0m\u001b[0;34m\u001b[0m\u001b[0m\n",
      "\u001b[0;31mNameError\u001b[0m: name 'best_defense_top10' is not defined"
     ]
    }
   ],
   "source": [
    "a = best_defense_top10['team'].sort_values(ascending=False) \n",
    "b = best_midfield_top10['team'].sort_values(ascending=True)\n",
    "c = offense_top_10['Team'].sort_values(ascending=True)\n",
    "pd.concat([a,b,c]).sort_values(ascending=True)"
   ]
  },
  {
   "cell_type": "markdown",
   "id": "9120c7c3",
   "metadata": {
    "_cell_guid": "4fba8dd0-fdcd-4434-9ae9-a15dc7ee1ded",
    "_uuid": "ba212e65-6140-4fc1-aea6-c8ea00ae6814",
    "papermill": {
     "duration": 0.032501,
     "end_time": "2022-11-13T08:42:11.471994",
     "exception": false,
     "start_time": "2022-11-13T08:42:11.439493",
     "status": "completed"
    },
    "tags": []
   },
   "source": [
    "**Мы заметили, что Аргентина Бразилия Англия Франция Нидерланды Испания Португалия появилась в 3 факторах**"
   ]
  },
  {
   "cell_type": "code",
   "execution_count": 62,
   "id": "5de342e8",
   "metadata": {
    "_cell_guid": "56471428-8344-4d81-a0e4-dae4682e0931",
    "_uuid": "b77c5b97-4766-4e75-b5bf-e871721569d6",
    "execution": {
     "iopub.execute_input": "2022-11-13T08:42:11.539591Z",
     "iopub.status.busy": "2022-11-13T08:42:11.539196Z",
     "iopub.status.idle": "2022-11-13T08:42:11.760367Z",
     "shell.execute_reply": "2022-11-13T08:42:11.758574Z"
    },
    "jupyter": {
     "outputs_hidden": false
    },
    "papermill": {
     "duration": 0.25947,
     "end_time": "2022-11-13T08:42:11.764959",
     "exception": false,
     "start_time": "2022-11-13T08:42:11.505489",
     "status": "completed"
    },
    "tags": []
   },
   "outputs": [
    {
     "ename": "NameError",
     "evalue": "name 'offense_top_10' is not defined",
     "output_type": "error",
     "traceback": [
      "\u001b[0;31m---------------------------------------------------------------------------\u001b[0m",
      "\u001b[0;31mNameError\u001b[0m                                 Traceback (most recent call last)",
      "\u001b[0;32m/var/folders/4g/x966n1ts5w7f78pg2515mz800000gn/T/ipykernel_7516/2668608047.py\u001b[0m in \u001b[0;36m<module>\u001b[0;34m\u001b[0m\n\u001b[0;32m----> 1\u001b[0;31m \u001b[0mArg_off_cond\u001b[0m \u001b[0;34m=\u001b[0m \u001b[0moffense_top_10\u001b[0m\u001b[0;34m[\u001b[0m\u001b[0;34m'Team'\u001b[0m\u001b[0;34m]\u001b[0m \u001b[0;34m==\u001b[0m \u001b[0;34m'Argentina'\u001b[0m\u001b[0;34m\u001b[0m\u001b[0;34m\u001b[0m\u001b[0m\n\u001b[0m\u001b[1;32m      2\u001b[0m \u001b[0mArgentina_Total_off_percent\u001b[0m \u001b[0;34m=\u001b[0m \u001b[0moffense_top_10\u001b[0m\u001b[0;34m[\u001b[0m\u001b[0mArg_off_cond\u001b[0m\u001b[0;34m]\u001b[0m\u001b[0;34m[\u001b[0m\u001b[0;34m'Percent'\u001b[0m\u001b[0;34m]\u001b[0m \u001b[0;34m+\u001b[0m \u001b[0mbest_midfield_top10\u001b[0m\u001b[0;34m[\u001b[0m\u001b[0mArg_off_cond\u001b[0m\u001b[0;34m]\u001b[0m\u001b[0;34m[\u001b[0m\u001b[0;34m'Percent'\u001b[0m\u001b[0;34m]\u001b[0m\u001b[0;34m+\u001b[0m\u001b[0mbest_defense_top10\u001b[0m\u001b[0;34m[\u001b[0m\u001b[0mArg_off_cond\u001b[0m\u001b[0;34m]\u001b[0m\u001b[0;34m[\u001b[0m\u001b[0;34m'Percent'\u001b[0m\u001b[0;34m]\u001b[0m\u001b[0;34m\u001b[0m\u001b[0;34m\u001b[0m\u001b[0m\n\u001b[1;32m      3\u001b[0m \u001b[0;34m\u001b[0m\u001b[0m\n\u001b[1;32m      4\u001b[0m \u001b[0mBra_off_cond\u001b[0m \u001b[0;34m=\u001b[0m \u001b[0moffense_top_10\u001b[0m\u001b[0;34m[\u001b[0m\u001b[0;34m'Team'\u001b[0m\u001b[0;34m]\u001b[0m \u001b[0;34m==\u001b[0m \u001b[0;34m'Brazil'\u001b[0m\u001b[0;34m\u001b[0m\u001b[0;34m\u001b[0m\u001b[0m\n\u001b[1;32m      5\u001b[0m \u001b[0mBrazil_Total_off_percent\u001b[0m \u001b[0;34m=\u001b[0m \u001b[0moffense_top_10\u001b[0m\u001b[0;34m[\u001b[0m\u001b[0mBra_off_cond\u001b[0m\u001b[0;34m]\u001b[0m\u001b[0;34m[\u001b[0m\u001b[0;34m'Percent'\u001b[0m\u001b[0;34m]\u001b[0m \u001b[0;34m+\u001b[0m \u001b[0mbest_midfield_top10\u001b[0m\u001b[0;34m[\u001b[0m\u001b[0mBra_off_cond\u001b[0m\u001b[0;34m]\u001b[0m\u001b[0;34m[\u001b[0m\u001b[0;34m'Percent'\u001b[0m\u001b[0;34m]\u001b[0m\u001b[0;34m+\u001b[0m\u001b[0mbest_defense_top10\u001b[0m\u001b[0;34m[\u001b[0m\u001b[0mBra_off_cond\u001b[0m\u001b[0;34m]\u001b[0m\u001b[0;34m[\u001b[0m\u001b[0;34m'Percent'\u001b[0m\u001b[0;34m]\u001b[0m\u001b[0;34m\u001b[0m\u001b[0;34m\u001b[0m\u001b[0m\n",
      "\u001b[0;31mNameError\u001b[0m: name 'offense_top_10' is not defined"
     ]
    }
   ],
   "source": [
    "Arg_off_cond = offense_top_10['Team'] == 'Argentina'\n",
    "Argentina_Total_off_percent = offense_top_10[Arg_off_cond]['Percent'] + best_midfield_top10[Arg_off_cond]['Percent']+best_defense_top10[Arg_off_cond]['Percent']\n",
    "\n",
    "Bra_off_cond = offense_top_10['Team'] == 'Brazil'\n",
    "Brazil_Total_off_percent = offense_top_10[Bra_off_cond]['Percent'] + best_midfield_top10[Bra_off_cond]['Percent']+best_defense_top10[Bra_off_cond]['Percent']\n",
    "\n",
    "Eng_off_cond = offense_top_10['Team'] == 'England'\n",
    "England_Total_off_percent = offense_top_10[Eng_off_cond]['Percent'] + best_midfield_top10[Eng_off_cond]['Percent']+best_defense_top10[Eng_off_cond]['Percent']\n",
    "\n",
    "Fra_off_cond = offense_top_10['Team'] == 'France'\n",
    "France_Total_off_percent = offense_top_10[Fra_off_cond]['Percent'] + best_midfield_top10[Fra_off_cond]['Percent']+best_defense_top10[Fra_off_cond]['Percent']\n",
    "\n",
    "Net_off_cond = offense_top_10['Team'] == 'Netherlands'\n",
    "Netherlands_Total_off_percent = offense_top_10[Net_off_cond]['Percent'] + best_midfield_top10[Net_off_cond]['Percent']+best_defense_top10[Net_off_cond]['Percent']\n",
    "\n",
    "Spa_cond = offense_top_10['Team'] == 'Spain'\n",
    "Spain_Total_off_percent = offense_top_10[Spa_cond]['Percent'] + best_midfield_top10[Spa_cond]['Percent']+best_defense_top10[Spa_cond]['Percent']\n",
    "\n",
    "Por_cond = offense_top_10['Team'] == 'Portugal'\n",
    "Portugal_Total_off_percent = offense_top_10[Por_cond]['Percent'] + best_midfield_top10[Por_cond]['Percent']+best_defense_top10[Por_cond]['Percent']\n",
    "\n",
    "Portugal_Total_off_percent\n",
    "data = pd.DataFrame({'Team': ['Argentina','Brazil','England' ,'France' ,'Netherlands', 'Spain', 'Portugal'], 'Total_Percent': [Argentina_Total_off_percent,Brazil_Total_off_percent ,England_Total_off_percent,France_Total_off_percent,Netherlands_Total_off_percent,Spain_Total_off_percent ,Portugal_Total_off_percent]},index=['Argentina','Brazil','England' ,'France' ,'Netherlands', 'Spain', 'Portugal'])\n",
    "\n",
    "#data.Total_Percent = data.Total_Percent.astype(str)\n",
    "#data.sort_values('Total_Percent', ascending=False, inplace=True)\n",
    "#data.plot.scatter(x=\"Team\", y=\"Total_Percent\", s=50);\n",
    "plt.pie(data[\"Total_Percent\"], labels = data[\"Team\"],autopct='%0.2f%%', shadow=True)\n",
    "plt.title(\"Higest countries percent to win the world cup\")\n",
    "plt.show()"
   ]
  },
  {
   "cell_type": "code",
   "execution_count": 63,
   "id": "bb88c39b",
   "metadata": {
    "_cell_guid": "c45c724f-0d5a-48c7-9857-e98ad56364a9",
    "_uuid": "cd40bc31-51a1-4e6f-9fc9-94b5560b3e69",
    "execution": {
     "iopub.execute_input": "2022-11-13T08:42:11.860456Z",
     "iopub.status.busy": "2022-11-13T08:42:11.859443Z",
     "iopub.status.idle": "2022-11-13T08:42:12.100257Z",
     "shell.execute_reply": "2022-11-13T08:42:12.099376Z"
    },
    "jupyter": {
     "outputs_hidden": false
    },
    "papermill": {
     "duration": 0.279345,
     "end_time": "2022-11-13T08:42:12.102571",
     "exception": false,
     "start_time": "2022-11-13T08:42:11.823226",
     "status": "completed"
    },
    "tags": []
   },
   "outputs": [
    {
     "ename": "NameError",
     "evalue": "name 'data' is not defined",
     "output_type": "error",
     "traceback": [
      "\u001b[0;31m---------------------------------------------------------------------------\u001b[0m",
      "\u001b[0;31mNameError\u001b[0m                                 Traceback (most recent call last)",
      "\u001b[0;32m/var/folders/4g/x966n1ts5w7f78pg2515mz800000gn/T/ipykernel_7516/2978401179.py\u001b[0m in \u001b[0;36m<module>\u001b[0;34m\u001b[0m\n\u001b[0;32m----> 1\u001b[0;31m \u001b[0mdata\u001b[0m\u001b[0;34m.\u001b[0m\u001b[0mTotal_Percent\u001b[0m \u001b[0;34m=\u001b[0m \u001b[0mdata\u001b[0m\u001b[0;34m.\u001b[0m\u001b[0mTotal_Percent\u001b[0m\u001b[0;34m.\u001b[0m\u001b[0mastype\u001b[0m\u001b[0;34m(\u001b[0m\u001b[0mstr\u001b[0m\u001b[0;34m)\u001b[0m\u001b[0;34m\u001b[0m\u001b[0;34m\u001b[0m\u001b[0m\n\u001b[0m\u001b[1;32m      2\u001b[0m \u001b[0mdata\u001b[0m\u001b[0;34m.\u001b[0m\u001b[0msort_values\u001b[0m\u001b[0;34m(\u001b[0m\u001b[0;34m'Total_Percent'\u001b[0m\u001b[0;34m,\u001b[0m \u001b[0mascending\u001b[0m\u001b[0;34m=\u001b[0m\u001b[0;32mFalse\u001b[0m\u001b[0;34m,\u001b[0m \u001b[0minplace\u001b[0m\u001b[0;34m=\u001b[0m\u001b[0;32mTrue\u001b[0m\u001b[0;34m)\u001b[0m\u001b[0;34m\u001b[0m\u001b[0;34m\u001b[0m\u001b[0m\n\u001b[1;32m      3\u001b[0m \u001b[0mdata\u001b[0m\u001b[0;34m.\u001b[0m\u001b[0mplot\u001b[0m\u001b[0;34m.\u001b[0m\u001b[0mscatter\u001b[0m\u001b[0;34m(\u001b[0m\u001b[0mx\u001b[0m\u001b[0;34m=\u001b[0m\u001b[0;34m\"Team\"\u001b[0m\u001b[0;34m,\u001b[0m \u001b[0my\u001b[0m\u001b[0;34m=\u001b[0m\u001b[0;34m\"Total_Percent\"\u001b[0m\u001b[0;34m,\u001b[0m \u001b[0ms\u001b[0m\u001b[0;34m=\u001b[0m\u001b[0;36m20\u001b[0m\u001b[0;34m)\u001b[0m\u001b[0;34m\u001b[0m\u001b[0;34m\u001b[0m\u001b[0m\n\u001b[1;32m      4\u001b[0m \u001b[0mplt\u001b[0m\u001b[0;34m.\u001b[0m\u001b[0mshow\u001b[0m\u001b[0;34m(\u001b[0m\u001b[0;34m)\u001b[0m\u001b[0;34m\u001b[0m\u001b[0;34m\u001b[0m\u001b[0m\n",
      "\u001b[0;31mNameError\u001b[0m: name 'data' is not defined"
     ]
    }
   ],
   "source": [
    "data.Total_Percent = data.Total_Percent.astype(str)\n",
    "data.sort_values('Total_Percent', ascending=False, inplace=True)\n",
    "data.plot.scatter(x=\"Team\", y=\"Total_Percent\", s=20)\n",
    "plt.show()"
   ]
  },
  {
   "cell_type": "markdown",
   "id": "de525553",
   "metadata": {
    "_cell_guid": "47493706-6ec2-4d15-9c6e-e0bea8f64158",
    "_uuid": "7819a8f4-4a8c-42f6-bd83-4da546814858",
    "papermill": {
     "duration": 0.033976,
     "end_time": "2022-11-13T08:42:12.170074",
     "exception": false,
     "start_time": "2022-11-13T08:42:12.136098",
     "status": "completed"
    },
    "tags": []
   },
   "source": [
    "***Вероятность того, что Аргентина выиграет чемпионат мира, исходя из анализа данных, высока.***"
   ]
  },
  {
   "cell_type": "markdown",
   "id": "5672af58",
   "metadata": {
    "papermill": {
     "duration": 0.033757,
     "end_time": "2022-11-13T08:42:12.237490",
     "exception": false,
     "start_time": "2022-11-13T08:42:12.203733",
     "status": "completed"
    },
    "tags": []
   },
   "source": [
    "![](https://www.telegraph.co.uk/content/dam/world-cup/2022/07/18/TELEMMGLPICT000264060038_trans_NvBQzQNjv4BqPTOlm1dDCBd97IasTB6wuyX5rhseiWKOo9p9OQ-ymek.jpeg?imwidth=960)"
   ]
  },
  {
   "cell_type": "markdown",
   "id": "73867ed1",
   "metadata": {
    "_cell_guid": "a0fb93c3-b38a-4234-88ea-16e2f49c6f7a",
    "_uuid": "a6ff8825-c38d-4a6a-872b-58c423b160b0",
    "papermill": {
     "duration": 0.03394,
     "end_time": "2022-11-13T08:42:12.305156",
     "exception": false,
     "start_time": "2022-11-13T08:42:12.271216",
     "status": "completed"
    },
    "tags": []
   },
   "source": [
    "*** Ожидается, что в финале сыграют четыре финалиста: Аргентина, Франция, Англия и Бразилия.***"
   ]
  },
  {
   "cell_type": "markdown",
   "id": "85fa9739",
   "metadata": {
    "_cell_guid": "ead61b7e-f3d2-4666-b0f3-929298bb23c5",
    "_uuid": "6ce37ffd-6a14-4645-88e2-45ddd2020aa7",
    "papermill": {
     "duration": 0.114809,
     "end_time": "2022-11-13T08:42:12.932469",
     "exception": false,
     "start_time": "2022-11-13T08:42:12.817660",
     "status": "completed"
    },
    "tags": []
   },
   "source": [
    "***Команды, которые могут оказаться неожиданными, — это Нидерланды, Испания и Португалия.***"
   ]
  },
  {
   "cell_type": "markdown",
   "id": "872dbe6a",
   "metadata": {
    "papermill": {
     "duration": 0.155606,
     "end_time": "2022-11-13T08:42:13.936638",
     "exception": false,
     "start_time": "2022-11-13T08:42:13.781032",
     "status": "completed"
    },
    "tags": []
   },
   "source": [
    "### Выводы из данных и визуализаций:\n"
   ]
  },
  {
   "cell_type": "markdown",
   "id": "d4ab7c5b",
   "metadata": {
    "papermill": {
     "duration": 0.150037,
     "end_time": "2022-11-13T08:42:14.241927",
     "exception": false,
     "start_time": "2022-11-13T08:42:14.091890",
     "status": "completed"
    },
    "tags": []
   },
   "source": [
    "* У Аргентины большой процент побед на чемпионатах мира.\n",
    "\n",
    "* Кубок мира ограничен этими четырьмя командами: Аргентиной, Францией, Англией и Бразилией.\n",
    "\n",
    "* Поскольку футбол - это что-то неточное и неожиданно может случиться коронация этих команд: Нидерланды, Испания и Португалия."
   ]
  },
  {
   "cell_type": "markdown",
   "id": "d2f8f0b9",
   "metadata": {
    "papermill": {
     "duration": 0.150694,
     "end_time": "2022-11-13T08:42:14.542903",
     "exception": false,
     "start_time": "2022-11-13T08:42:14.392209",
     "status": "completed"
    },
    "tags": []
   },
   "source": [
    "Остается только прогнозный анализ, основанный на выездных матчах команд.\n",
    "Вопрос в том, кто выиграет чемпионат мира по этому выпуску!!\n",
    "Посмотрим после ЧМ-22 в Катаре, и какие прогнозы верны!!!"
   ]
  },
  {
   "cell_type": "code",
   "execution_count": null,
   "id": "d42fe8da",
   "metadata": {},
   "outputs": [],
   "source": []
  }
 ],
 "metadata": {
  "kernelspec": {
   "display_name": "Python 3 (ipykernel)",
   "language": "python",
   "name": "python3"
  },
  "language_info": {
   "codemirror_mode": {
    "name": "ipython",
    "version": 3
   },
   "file_extension": ".py",
   "mimetype": "text/x-python",
   "name": "python",
   "nbconvert_exporter": "python",
   "pygments_lexer": "ipython3",
   "version": "3.9.13"
  },
  "papermill": {
   "default_parameters": {},
   "duration": 31.970029,
   "end_time": "2022-11-13T08:42:15.729803",
   "environment_variables": {},
   "exception": null,
   "input_path": "__notebook__.ipynb",
   "output_path": "__notebook__.ipynb",
   "parameters": {},
   "start_time": "2022-11-13T08:41:43.759774",
   "version": "2.3.4"
  }
 },
 "nbformat": 4,
 "nbformat_minor": 5
}
